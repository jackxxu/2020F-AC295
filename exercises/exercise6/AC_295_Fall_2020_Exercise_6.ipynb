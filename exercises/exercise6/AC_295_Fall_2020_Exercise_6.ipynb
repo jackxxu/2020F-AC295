{
  "nbformat": 4,
  "nbformat_minor": 0,
  "metadata": {
    "colab": {
      "name": "AC 295 Fall 2020 Exercise 6.ipynb",
      "provenance": [],
      "collapsed_sections": [
        "BB3M_mTon_ns",
        "LKUpdG05oDwU",
        "I_H1fI9HoIil",
        "fXF-eusBoZXu",
        "UZCZfq2TofSb",
        "Kukjuxd-osbm",
        "-gB_Pjafo_3u"
      ],
      "toc_visible": true
    },
    "kernelspec": {
      "name": "python3",
      "display_name": "Python 3"
    },
    "accelerator": "GPU"
  },
  "cells": [
    {
      "cell_type": "markdown",
      "metadata": {
        "id": "aNoQXuvWxiOZ"
      },
      "source": [
        "<h1 style=\"padding-top: 25px;padding-bottom: 25px;text-align: left; padding-left: 10px; background-color: #DDDDDD; \n",
        "    color: black;\"> <img style=\"float: left; padding-right: 10px; width: 45px\" src=\"https://raw.githubusercontent.com/Harvard-IACS/2018-CS109A/master/content/styles/iacs.png\"> AC295: Advanced Practical Data Science </h1>\n",
        "\n",
        "## Transfer Learning for Text & Word Embeddings\n",
        "\n",
        "**Harvard University, Fall 2020**  \n",
        "**Instructors**: Pavlos Protopapas  \n",
        "\n",
        "---"
      ]
    },
    {
      "cell_type": "markdown",
      "metadata": {
        "id": "UuOBWyhq0JDy"
      },
      "source": [
        "**Each assignment is graded out of 5 points.  The topic for this assignment is Transfer Learning for Text.**\n",
        "\n",
        "**Due:** 10/27/2020 10:15 AM EDT\n",
        "\n",
        "**Submit:** We won't be re running your notebooks, please ensure output is visible in the notebook."
      ]
    },
    {
      "cell_type": "markdown",
      "metadata": {
        "id": "1WUkbRK90Jlq"
      },
      "source": [
        "#### Learning Objectives\n",
        "\n",
        "In this exercise you will cover the following topics:  \n",
        "- Tokenizing text using Text Vectorization\n",
        "- Perform text classification & create word emedddings\n",
        "- Load pre-trained word embeddings and perform text classification\n",
        "- Understand Word Embeddings\n",
        "\n",
        "---"
      ]
    },
    {
      "cell_type": "markdown",
      "metadata": {
        "id": "BB3M_mTon_ns"
      },
      "source": [
        "#### Imports"
      ]
    },
    {
      "cell_type": "code",
      "metadata": {
        "id": "ggmzeX4gxbbM"
      },
      "source": [
        "import os\n",
        "import requests\n",
        "import zipfile\n",
        "import tarfile\n",
        "import shutil\n",
        "import json\n",
        "import time\n",
        "import sys\n",
        "import string\n",
        "import re\n",
        "import numpy as np\n",
        "import pandas as pd\n",
        "from glob import glob\n",
        "from string import Template\n",
        "import matplotlib.pyplot as plt\n",
        "import seaborn as sns\n",
        "%matplotlib inline\n",
        "\n",
        "import tensorflow as tf\n",
        "from tensorflow import keras\n",
        "from tensorflow.python.keras import backend as K\n",
        "from tensorflow.keras.models import Model, Sequential\n",
        "from tensorflow.keras import layers\n",
        "from tensorflow.keras import activations\n",
        "from tensorflow.keras import optimizers\n",
        "from tensorflow.keras import losses\n",
        "from tensorflow.keras.layers.experimental.preprocessing import TextVectorization\n",
        "from tensorflow.python.ops import io_ops\n",
        "from tensorflow.keras.utils import to_categorical\n",
        "\n",
        "from sklearn.model_selection import train_test_split\n",
        "from sklearn.metrics.pairwise import cosine_similarity"
      ],
      "execution_count": null,
      "outputs": []
    },
    {
      "cell_type": "markdown",
      "metadata": {
        "id": "LKUpdG05oDwU"
      },
      "source": [
        "#### Verify Setup"
      ]
    },
    {
      "cell_type": "code",
      "metadata": {
        "id": "ygpx8yTqoHzD",
        "outputId": "ff870d4d-ba8a-4cf9-baa4-3c952e7e0983",
        "colab": {
          "base_uri": "https://localhost:8080/",
          "height": 190
        }
      },
      "source": [
        "# Enable/Disable Eager Execution\n",
        "# Reference: https://www.tensorflow.org/guide/eager\n",
        "# TensorFlow's eager execution is an imperative programming environment that evaluates operations immediately, \n",
        "# without building graphs\n",
        "\n",
        "#tf.compat.v1.disable_eager_execution()\n",
        "#tf.compat.v1.enable_eager_execution()\n",
        "\n",
        "print(\"tensorflow version\", tf.__version__)\n",
        "print(\"keras version\", tf.keras.__version__)\n",
        "print(\"Eager Execution Enabled:\", tf.executing_eagerly())\n",
        "\n",
        "# Get the number of replicas \n",
        "strategy = tf.distribute.MirroredStrategy()\n",
        "print(\"Number of replicas:\", strategy.num_replicas_in_sync)\n",
        "\n",
        "devices = tf.config.experimental.get_visible_devices()\n",
        "print(\"Devices:\", devices)\n",
        "print(tf.config.experimental.list_logical_devices('GPU'))\n",
        "\n",
        "print(\"GPU Available: \", tf.config.list_physical_devices('GPU'))\n",
        "print(\"All Physical Devices\", tf.config.list_physical_devices())\n",
        "\n",
        "# Better performance with the tf.data API\n",
        "# Reference: https://www.tensorflow.org/guide/data_performance\n",
        "AUTOTUNE = tf.data.experimental.AUTOTUNE"
      ],
      "execution_count": null,
      "outputs": [
        {
          "output_type": "stream",
          "text": [
            "tensorflow version 2.3.0\n",
            "keras version 2.4.0\n",
            "Eager Execution Enabled: True\n",
            "INFO:tensorflow:Using MirroredStrategy with devices ('/job:localhost/replica:0/task:0/device:GPU:0',)\n",
            "Number of replicas: 1\n",
            "Devices: [PhysicalDevice(name='/physical_device:CPU:0', device_type='CPU'), PhysicalDevice(name='/physical_device:GPU:0', device_type='GPU')]\n",
            "[LogicalDevice(name='/device:GPU:0', device_type='GPU')]\n",
            "GPU Available:  [PhysicalDevice(name='/physical_device:GPU:0', device_type='GPU')]\n",
            "All Physical Devices [PhysicalDevice(name='/physical_device:CPU:0', device_type='CPU'), PhysicalDevice(name='/physical_device:XLA_CPU:0', device_type='XLA_CPU'), PhysicalDevice(name='/physical_device:XLA_GPU:0', device_type='XLA_GPU'), PhysicalDevice(name='/physical_device:GPU:0', device_type='GPU')]\n"
          ],
          "name": "stdout"
        }
      ]
    },
    {
      "cell_type": "markdown",
      "metadata": {
        "id": "I_H1fI9HoIil"
      },
      "source": [
        "#### Utils"
      ]
    },
    {
      "cell_type": "code",
      "metadata": {
        "id": "mvUJH0yuoKd4"
      },
      "source": [
        "def download_file(packet_url, base_path=\"\", extract=False):\n",
        "  if base_path != \"\":\n",
        "    if not os.path.exists(base_path):\n",
        "      os.mkdir(base_path)\n",
        "  packet_file = os.path.basename(packet_url)\n",
        "  with requests.get(packet_url, stream=True) as r:\n",
        "      r.raise_for_status()\n",
        "      with open(os.path.join(base_path,packet_file), 'wb') as f:\n",
        "          for chunk in r.iter_content(chunk_size=8192):\n",
        "              f.write(chunk)\n",
        "  \n",
        "  if extract:\n",
        "    if packet_file.endswith(\".zip\"):\n",
        "      with zipfile.ZipFile(os.path.join(base_path,packet_file)) as zfile:\n",
        "        zfile.extractall(base_path)\n",
        "    \n",
        "    if packet_file.endswith(\".tar.gz\"):\n",
        "      packet_name = packet_file.split('.')[0]\n",
        "      with tarfile.open(os.path.join(base_path,packet_file)) as tfile:\n",
        "        tfile.extractall(base_path)\n",
        "\n",
        "def evaluate_model(model,test_data, training_results):\n",
        "    \n",
        "  # Get the model train history\n",
        "  model_train_history = training_results.history\n",
        "  # Get the number of epochs the training was run for\n",
        "  num_epochs = len(model_train_history[\"loss\"])\n",
        "\n",
        "  # Plot training results\n",
        "  fig = plt.figure(figsize=(15,5))\n",
        "  axs = fig.add_subplot(1,2,1)\n",
        "  axs.set_title('Loss')\n",
        "  # Plot all metrics\n",
        "  for metric in [\"loss\",\"val_loss\"]:\n",
        "      axs.plot(np.arange(0, num_epochs), model_train_history[metric], label=metric)\n",
        "  axs.legend()\n",
        "  \n",
        "  axs = fig.add_subplot(1,2,2)\n",
        "  axs.set_title('Accuracy')\n",
        "  # Plot all metrics\n",
        "  for metric in [\"accuracy\",\"val_accuracy\"]:\n",
        "      axs.plot(np.arange(0, num_epochs), model_train_history[metric], label=metric)\n",
        "  axs.legend()\n",
        "\n",
        "  plt.show()\n",
        "  \n",
        "  # Evaluate on test data\n",
        "  evaluation_results = model.evaluate(test_data)\n",
        "  print(\"Evaluation Results:\", evaluation_results)"
      ],
      "execution_count": null,
      "outputs": []
    },
    {
      "cell_type": "markdown",
      "metadata": {
        "id": "qmZ8EPwCoX9b"
      },
      "source": [
        "## Dataset"
      ]
    },
    {
      "cell_type": "markdown",
      "metadata": {
        "id": "fXF-eusBoZXu"
      },
      "source": [
        "#### Download"
      ]
    },
    {
      "cell_type": "code",
      "metadata": {
        "id": "W-l9ubJgoamV",
        "outputId": "28d398b3-be2c-49f2-ccba-809a710e6653",
        "colab": {
          "base_uri": "https://localhost:8080/",
          "height": 34
        }
      },
      "source": [
        "start_time = time.time()\n",
        "download_file(\"https://storage.googleapis.com/dataset_store/ac295/news300.zip\", base_path=\"datasets\", extract=True)\n",
        "download_file(\"https://github.com/shivasj/dataset-store/releases/download/v3.0/glove.6B.100d.txt.zip\", base_path=\"embedding\", extract=True)\n",
        "execution_time = (time.time() - start_time)/60.0\n",
        "print(\"Download execution time (mins)\",execution_time)"
      ],
      "execution_count": null,
      "outputs": [
        {
          "output_type": "stream",
          "text": [
            "Download execution time (mins) 0.13868790467580158\n"
          ],
          "name": "stdout"
        }
      ]
    },
    {
      "cell_type": "markdown",
      "metadata": {
        "id": "UZCZfq2TofSb"
      },
      "source": [
        "#### Explore"
      ]
    },
    {
      "cell_type": "code",
      "metadata": {
        "id": "Ep-11Ov2ogkN",
        "outputId": "133b6fa3-000e-44d4-bc3a-c5c9bf266b9d",
        "colab": {
          "base_uri": "https://localhost:8080/",
          "height": 173
        }
      },
      "source": [
        "data_dir = os.path.join(\"datasets\",\"news300\")\n",
        "label_names = os.listdir(data_dir)\n",
        "\n",
        "# Number of unique labels\n",
        "num_classes = len(label_names) \n",
        "# Create label index for easy lookup\n",
        "label2index = dict((name, index) for index, name in enumerate(label_names))\n",
        "index2label = dict((index, name) for index, name in enumerate(label_names))\n",
        "\n",
        "print(\"Number of classes:\", num_classes)\n",
        "print(\"Labels:\", label_names)\n",
        "\n",
        "# Generate a list of labels and path to text\n",
        "data_x = []\n",
        "data_y = []\n",
        "\n",
        "for label in label_names:\n",
        "  text_files = os.listdir(os.path.join(data_dir,label))\n",
        "  data_x.extend([os.path.join(data_dir,label,f) for f in text_files])\n",
        "  data_y.extend([label for f in text_files])\n",
        "\n",
        "# Preview\n",
        "print(\"data_x count:\",len(data_x))\n",
        "print(\"data_y count:\",len(data_y))\n",
        "print(data_x[:5])\n",
        "print(data_y[:5])\n",
        "\n",
        "# sns.countplot()\n",
        "# plt.show()\n",
        "np.unique(data_y, return_counts=True)"
      ],
      "execution_count": null,
      "outputs": [
        {
          "output_type": "stream",
          "text": [
            "Number of classes: 3\n",
            "Labels: ['politics', 'health', 'entertainment']\n",
            "data_x count: 920\n",
            "data_y count: 920\n",
            "['datasets/news300/politics/216.txt', 'datasets/news300/politics/105.txt', 'datasets/news300/politics/83.txt', 'datasets/news300/politics/278.txt', 'datasets/news300/politics/256.txt']\n",
            "['politics', 'politics', 'politics', 'politics', 'politics']\n"
          ],
          "name": "stdout"
        },
        {
          "output_type": "execute_result",
          "data": {
            "text/plain": [
              "(array(['entertainment', 'health', 'politics'], dtype='<U13'),\n",
              " array([310, 310, 300]))"
            ]
          },
          "metadata": {
            "tags": []
          },
          "execution_count": 5
        }
      ]
    },
    {
      "cell_type": "markdown",
      "metadata": {
        "id": "c6xECA0yolSt"
      },
      "source": [
        "#### View Text"
      ]
    },
    {
      "cell_type": "code",
      "metadata": {
        "id": "RopPe6yZomlE",
        "outputId": "3aacbe2c-1401-4b46-9ac0-1399002efd6c",
        "colab": {
          "base_uri": "https://localhost:8080/",
          "height": 207
        }
      },
      "source": [
        "# Generate a random sample of index\n",
        "data_samples = np.random.randint(0,high=len(data_x)-1, size=10)\n",
        "for i,data_idx in enumerate(data_samples):\n",
        "  # Read text\n",
        "  txt = io_ops.read_file(data_x[data_idx])\n",
        "\n",
        "  print(\"Label:\",data_y[data_idx],\", Text:\",txt.numpy())"
      ],
      "execution_count": null,
      "outputs": [
        {
          "output_type": "stream",
          "text": [
            "Label: entertainment , Text: b'The Wanted singer Tom Parker reveals he has inoperable brain tumor London (CNN)Tom Parker, a British singer who spent five years as part of the popular boy band The Wanted, has revealed he has an inoperable brain tumor. The 32-year-old told fans he has a grade four glioblastoma tumor and is undergoing treatment. Parker, who announced earlier this year that he and his wife are expecting their second child, wrote on Instagram: \"We are all absolutely devastated but we are gonna fight this all the way.  \"We don\\'t want your sadness, we just want love and positivity and together we will raise awareness of this terrible disease and look for all available treatment options.\" In an interview with Britain\\'s OK! Magazine, Parker and his wife, Kelsey Hardwick, said his doctors described the tumor as a \"worst-case scenario\" and informed the couple that it was terminal. The average survival time for patients with a grade four glioblastoma, one of the most serious kinds of tumors, is between a year and 18 months, according to UK nonprofit The Brain Tumour Charity. The singer said he went to hospital after suffering two seizures over the summer. Parker told OK!: \"They pulled the curtain around my bed and said, \\'It\\'s a brain tumour.\\' All I could think was, \\'F*****g hell!\\' I was in shock. It\\'s stage four glioblastoma and they\\'ve said it\\'s terminal. It was a lot to deal with by myself. I still haven\\'t processed it.\" Parker rose to fame as part of The Wanted, a five-piece boy band whose hits included \"All Time Low\" and \"Heart Vacancy.\" The group enjoyed a string of top five singles in the UK, including two number ones, while their 2011 track \"Glad You Came\" made it to number 3 in the US Billboard charts. They split up in 2014 to pursue solo projects.  '\n",
            "Label: entertainment , Text: b'Black writers and filmmakers are bringing new scares to the horror genre  '\n",
            "Label: entertainment , Text: b'\\'Warrior Nun\\' is Netflix\\'s latest weird flight into the comic-book/fantasy genre  (CNN)Netflix\\'s everything-and-the-kitchen-sink programming strategy includes taking flyers on concepts that border on the bizarre, and so it is with \"Warrior Nun.\" Inspired by Manga novels, this 10-episode series meanders a lot while offering a \"Stranger Things\"-type vibe, serving as a weird diversion that, on the road to goodness, doesn\\'t even get halfway there. Although messing with religion can easily be a third rail -- especially when potentially nefarious forces within the Vatican are involved -- the premise is a little too fanciful to provoke outrage, with an ancient order of nuns devoted to fighting off demons, from the perspective of the wide-eyed innocent introduced into that world. That would be 19-year-old Ava (Alba Baptista), who awakens in a morgue, having been revived by a divine, circle-shaped artifact that, in an act of desperation, has been embedded inside her. Ava is understandably mystified, and falls in with a group of friends that it becomes increasingly difficult to shield from the more supernatural aspects of her new existence. The nuns possess an assortment of weapons and mad ninja-type skills, but much like \"The Matrix,\" Ava is essentially the chosen one by virtue of her powers, even if she can\\'t control them, and doesn\\'t exhibit much interest in saving the world despite those seeking to guide her. Ava\\'s exalted status produces friction within the group -- work jealousies are everywhere, even when it\\'s nuns fighting computer-generated demons -- and the details of her backstory, and how she died, gradually dribble out over the first-season run. \"Dribble out,\" alas, is a pretty good description of the series in general, which features a mostly nondescript assortment of characters, among them Joaquim de Almeida as a cardinal in the Catholic Church with oversight of the order, who clashes with the priest (Tristan Ulloa) leading it, fueling speculation about his motives. \"Warrior Nun\" is only the latest series of its kind to land on Netflix, following \"Altered Carbon\" and \"The Witcher\" and in advance of the July 17 premiere of \"Cursed,\" derived from a reimagining of the Arthurian legend by Thomas Wheeler and comic-book legend Frank Miller, starring \"13 Reasons Why\\'s\" Katherine Langford. Such genre fare obviously attracts an avid subset of subscribers, but when it\\'s as silly as this, tends to have limited appeal beyond those pews.  \"Warrior Nun\" inches along just enough to potentially draw you through the season, wondering where it will end up. Beyond that, when it comes to making a case for more, well, let\\'s just say Ava isn\\'t the only one living on a prayer. \"Warrior Nun\" premieres July 2 on Netflix.  '\n",
            "Label: entertainment , Text: b'Adult Swim cancels \\'The Venture Bros.\\' after 7 seasons and 17 years  (CNN)Adult Swim has canceled its popular and long-running animated series, \"The Venture Bros.\" but suggests the adventures may not be over for Hank, Dean, Brock and Dr. Venture. Series creator Christopher McCulloch, who also goes by the pen name of Jackson Publick, tweeted Monday about the show\\'s cancellation. \"Unfortunately, it\\'s true: #VentureBros has been canceled. We got the highly disappointing news a few months ago, while we were writing what would have been season 8. We thank you, our amazing fans, for 17 years of your kind (and patient) attention. And, as always, We Love You,\" he wrote. Co-creator Doc Hammer said that the cancellation \"sucks\" in a post on Facebook, but said that he and Publick are continuing to work together. \"The Venture Bros. is a little baby made by me and Jackson. From the sweaty foundry of our love, experience, and connection, we made a thing that touched some of you deeply. Neat!\" he wrote. \"That \\'love foundry\\' hasn\\'t been shut down. Jackson and I are still in love with you and each other. Sooo if we make another baby, you gotta promise to love it. I promise it will love you. How could it not? You\\'re awesome, thrifty, clean, and have great taste. \"Go Team Venture!\" Adult Swim, which is owned by WarnerMedia, CNN\\'s parent company, addressed the cancellation in a statement tweeted out on Monday night. \"We also want more Venture Bros. and have been working with Jackson and Doc to find another way to continue the Venture Bros. story,\" Adult Swim said in the tweet. Adult Swim didn\\'t elaborate, but many fans hoped the show would find a new life on HBO Max, which is also owned by WarnerMedia, or another streaming service. \"The Venture Bros.\" pilot first aired on Adult Swim in 2003 and went on to have seven seasons over its 17-year run. It is a parody of \"Johnny Quest\" the Hanna Barbera action cartoon that first aired in 1964.  '\n",
            "Label: politics , Text: b'Federal judge wants to see more evidence on Justice Department\\'s handling of Strzok, Page texts Washington (CNN)A federal judge on Friday questioned the Justice Department\\'s decision to release text messages between former FBI employees Lisa Page and Peter Strzok and signaled that she wants to see more evidence about whether political influence played a role. Strzok and Page had been critical of President Donald Trump in their texts while they were FBI employees working on the Russia investigation. They say the Justice Department\\'s December 2017 decision to release their texts to the media and Congress was improper and a privacy violation and Strzok was wrongfully fired. It\\'s the second time this week a judge has allowed an FBI official\\'s lawsuit against the Justice Department to continue unfolding in the courts. On Thursday, a judge ruled former FBI Deputy Director Andrew McCabe, who was fired a day before his scheduled retirement for \"lack of candor,\" could also move toward gathering evidence about his firing, which he too says was politically motivated and unfair. Judge Amy Berman Jackson, handling the Strzok and Page cases on Friday, called out several sworn statements from top Justice Department officials, including former Deputy Attorney General Rod Rosenstein, that appear to contradict one another about the DOJ\\'s decisions to make Strzok and Page\\'s text messages public. McCabe, Strzok and Page may now attempt to question several top Justice Department and FBI officials under oath, including the department\\'s former spokeswoman and former Attorney General Jeff Sessions. That effort will take time and may face multiple legal hurdles.  The judges\\' decisions this week provide some counterbalance to Trump and his supporters\\' screeds about the FBI and specifically McCabe, Strzok and Page. Also this week, the Justice Department drew new attention to the handling of the Russia investigation by re-releasing some of Strzok and Page\\'s text messages to former national security adviser Michael Flynn\\'s legal team. That generated a new round of right-wing attention about them.  Then, on Thursday night, the DOJ released an interview with an FBI agent who disagreed with the Flynn and Russia investigations. The interview revealed essentially no new facts, instead pushing forward the opinion of one agent in support of dismissing Flynn\\'s criminal charge. But the releases prompted a series of tweets from Trump on Friday morning criticizing McCabe, Strzok and the FBI while supporting Flynn.  '\n",
            "Label: health , Text: b'What to pack in a \\'go bag\\' for when disaster strikes  (CNN)When wildfires rage, hurricanes bear down, flood waters rise and that big earthquake finally strikes, it\\'s critical that you and your family members are ready to evacuate. Perhaps the most important thing to bring with you: A \"go bag\" full of emergency supplies. Go bags exist to save you from having to run around and gather items when a threatening situation is imminent. These bags are designed to provide everything a family of four needs to survive for several days after a disaster, especially if tried-and-trusted services aren\\'t available. The bags don\\'t have to be bags at all -- they can be boxes, cartons, or crates, so long as they contain all of the important supplies.  The contents of a family\\'s go bag could mean the difference between life or death, depending on how bad a situation becomes, according to Jonathan Sury, project director for field operations and communications at the National Center for Disaster Preparedness at Columbia University\\'s Earth Institute. \"Having yourself and your family be prepared will ease the burden on our response system but also make you more mentally ready for what lies ahead,\" Sury said. \"Preparation is the difference between being panicked and being calm, collected, and cool.\" Disaster preparedness certainly is an important  topic; a 2015 NCDP survey indicated that only 35% of respondents had an adequate disaster plan and supplies. And September is National Preparedness Month, which means now is a great time to put a plan together. Your must-haves Most of the items disaster preparedness experts suggest you include in a go bag are things you can find around your house. You also can purchase items separately, or as part of package kits designed to offer one-stop shopping. Whichever strategy you choose, the FEMA website says a basic emergency supply kit should include: \\xe2\\x80\\xa2 One gallon of water per person, per day \\xe2\\x80\\xa2 Three-day supply of non-perishable food per person and per pet \\xe2\\x80\\xa2 Your family\\'s prescription medications \\xe2\\x80\\xa2 Battery-powered or hand crank radio \\xe2\\x80\\xa2 Flashlights \\xe2\\x80\\xa2 First-aid kit \\xe2\\x80\\xa2 Wrench to turn off utilities Some of the items on extended lists include emergency blankets, extra cash, solar cell-phone chargers and a multipurpose tool such as a Leatherman or Swiss Army knife. People also should include digital copies of all their important documents such as birth certificates, insurance policies, and passports, said Sury, as well as ample supplies of over-the-counter and prescription medications for every person in the family. Are the roads clear? Another key component: Good maps. Samantha Montano, assistant professor of emergency management at the Massachusetts Maritime Academy in Boston, said it is critical to have printed maps of the area with two exit routes marked clearly. \"Have plans on how you would evacuate your home including what type of transportation you would use, how you would afford it, and where you would stay,\" Montano wrote in a recent email.  \"This is particularly important to think about early on because the pandemic may have made your existing evacuation plans obsolete.\" Coronavirus considerations Experts said that the pandemic has necessitated other precautions and changes to the emergency items you should bring if you evacuate your home. Perhaps the most important pandemic-specific rule: Be sure to have an N95 mask without a valve. Sury said it\\'s important to make sure you\\'ve got the right masks, since those with valves on them don\\'t filter outflow and therefore could expose other people around you to Covid-19. \"People don\\'t realize how dangerous the wrong respirator can be,\" he said. There are other ways to make a go bag Covid-proof. The US Centers for Disease Control and Prevention revised its guidelines last spring to include the following items with all emergency bags: \\xe2\\x80\\xa2 Cloth face coverings (at least two per person per day) \\xe2\\x80\\xa2 Mess kits \\xe2\\x80\\xa2 Hand sanitizer \\xe2\\x80\\xa2 Personal protective equipment (masks, gloves, goggles, gowns) \\xe2\\x80\\xa2 Prescription eyeglasses \\xe2\\x80\\xa2 Infant formula The American Red Cross also published a checklist that echoes these sentiments. Is it time to leave yet?  During the pandemic, families may rethink their \"go plan\" and consider leaving before an official warning, if for no other reason than to get out of harm\\'s way and stay physically distanced, suggested Eric Alberts, corporate director of emergency preparedness for Orlando Health, a health care system in Florida. \"Due to COVID-19 a lot of authorities will not be asking people to leave their homes unless their homes are not safe or they are in a mandatory evacuation zone,\" Alberts wrote in an email.  \"If people are in a location that requires them to evacuate, they should be proactive and leave before it is too late. When people rush, they make errors leading to exposures, injuries, and other illnesses.\" A video record of your home If you have time to prepare, do a walk-through of your home and take video of the contents. If  the structure is destroyed, your insurance company will want to see what your home was like. Sury, the expert from Columbia, said that while this isn\\'t a must, it\\'s always a good idea to have. \"Anything that can be required for your identification or compensation after disaster,\" he said. \"If you\\'ve got a way to make formal record of everything with value, it will help you in the long run with recovering from a disaster.\" Sury\\'s organization has put together an app to help people determine how ready they are to respond to a disaster. The tool, dubbed the Preparedness Wizard, is fun and educational, but also offers important practical information and input about how to maximize readiness and minimize risk. Don\\'t forget the stuffed animals In addition to whatever medicine and other basic supplies your children will need, remember their teddy bears, blankie, favorite books, tablets (and chargers) or other things that will help calm their fears as you leave your home.  Sonoma County, California, resident Rosie Monson learned this firsthand. In 2019, as the Kincade fire was bearing down on her Alexander Valley home and she and her husband were evacuating, Monson made a pass through the house for her kids\\' most cherished possessions.  \"In our case it was My Little Pony dolls, a Nintendo Switch, jewelry and stuffies,\" said Monson, who now has three children, ages 7, 5 and 9 months old. \"I didn\\'t have time to pack everything and couldn\\'t fit everything in our car with the pets and kids, but I didn\\'t want my kids to feel sad or stressed or different from other kids because something in their normal routine was gone.\" Monson and her husband lost their home in that fire, and she said her kids still cherish everything that was saved. Her advice on packing for evacuations: \"If your kids don\\'t have their favorite stuff, the tears start every time they think of something and it\\'s so sad.\" Always be ready The bottom line: Always be ready, even beyond the bag. Just because someone puts together a \"go bag\" does not mean that person is prepared, Montano warned. \"We know from the research that it\\'s much more complicated than that,\" she said. \"Your social network, your economic situation, the preparedness of your local government (and) other factors all influence how ready you are to go through a disaster.\" Matt Villano, a writer and editor based in Northern California, has evacuated from three wildfires in four years.Correction: A previous version of this story misstated the type of recommended N95 mask by Sury.  '\n",
            "Label: health , Text: b'\\'Maskne\\': Why your face is breaking out under your mask and how to stop it  (CNN)If you\\'re serious about protecting yourself \\xe2\\x80\\x94 and others \\xe2\\x80\\x94 from the very real dangers of Covid-19, you\\'re wearing a mask when you go out around others. For many people that is leading to an embarrassing and unpleasant side effect: blemishes, pimples, zits \\xe2\\x80\\x94 or what dermatologists call acne.  \"I have patients calling in despair saying \\'What is going on? I\\'ve never had a breakout before and now my face looks like a teenager\\'s!\\'\" said board-certified dermatologist Dr. Whitney Bowe, clinical assistant professor of dermatology at the Icahn School of Medicine at Mount Sinai Medical Center. \"We\\'re seeing lots of flares of acne, especially a type called perioral dermatitis, which tends to happen typically around the mouth and in the areas around the nose,\" said board-certified Dr. Seemal Desai, an assistant professor at the University of Texas Southwestern Medical Center. Breakouts that occur after wearing a mask have become so common that mask acne\\'s been dubbed \"maskne\" on social media. \"We think that wearing these masks, combined with stress from the pandemic, is causing an increased moisture-rich environment for bacteria and organisms to proliferate,\" Desai said,  \"causing a breakdown of the skin and flaring of some of these conditions.\" Nurses and other health care professionals on the front line of the battle against Covid-19 are hardest hit, Desai said, due to the seal needed from personal protective equipment in order to keep the virus at bay. \"I\\'m seeing lots more skin disease in health care workers because they\\'re wearing PPE and N95 respirator masks that are causing ulcers, breakdown and bleeding of the skin,\" said Desai, who is a spokesperson for the American Academy of Dermatologists. Compared to the bruised and bleeding faces of doctors and nurses, a few pimples may seem inconsequential. But it\\'s an important issue that shouldn\\'t be trivialized, said Bowe, also a spokesperson for the American Academy of Dermatologists. \"Acne is significantly associated with self esteem, even if it\\'s just one or two pimples,\" she explained. \"Even having mild, minimal acne can have profound effects on interpersonal relationships, how we socialize, job performance, depression and anxiety.\" Acne mechanica The technical term for maskne is \"acne mechanica,\" and is the result of the mechanical friction of a fabric against the skin. It\\'s not new \\xe2\\x80\\x94 sports figures who wear helmets and chin guards are quite familiar with such breakouts. \"We all have these tiny little hair follicles on our face, chest and back, and wearing any kind of a mask or protective equipment that\\'s creating friction and pressure can irritate the hair follicles and result in an acne flare,\" Bowe said. \"That is compounded by moisture trapped underneath the fabric, which gets worse with humidity, with heat and with exercise,\" she said. If you haven\\'t already experienced maskne, you very likely could as you spend more time outdoors this summer, due to the heat, humidity, sunscreen and facial products.  And treatment is tricky, experts say. You can\\'t use powerful products like alpha hydroxy acids, chemical peels or Retin A to blast the acne because they will further damage the fragile skin barrier, making it more sensitive to the mask\\'s irritating effects. If you do use those products, \"you may not have blemishes, but you may end up with patches of eczema, dry patches, stinging, burning, inflammation, all signs of an impaired skin barrier,\" Bowe said.  Of course the best thing to do is to prevent maskne from occurring in the first place. Since we can\\'t \\xe2\\x80\\x94 or shouldn\\'t \\xe2\\x80\\x94 stop wearing masks around others for the foreseeable future, here are some key prevention tips. Wash that mask Do you wear your mask about, then pull it off and toss it in a sunny spot in your car to kill the microbes (raising hand sheepishly)?  That might help kill the virus, but it breeds maskne, Bowe said. \"If you just lay it on your couch or put it in your closet and then put it on again in a couple of days, just think about all the microbes that have been growing in the weave of the fabric,\" she said. \"It\\'s dirty. If you\\'ve been wearing a little makeup, moisturizer or sunscreen it gets contaminated pretty quickly.\" Masks should be washed and completely dried after every use, Bowe advised, adding that she prefers cotton masks as they allow the skin to breathe. \"And if you exercise or sweat during the day with a mask on, then you want to change that mask and put on a fresh, clean mask right away,\" she said. \"You don\\'t want to sit in a sweaty mask, that will just breed more acne.\" Use gentle skin care products \"Good quality, simple skincare does not have to be the $500 fancy product. Just use light, gentle cleansers, non oily, not harsh,\" Desai said. \"I tell people to avoid anything with SLS or sodium lauryl sulfate, which is a harsh sulfate that really strips the skin of its natural oils and impairs the barrier,\" Bowe said. \"I also tell people to avoid any scrubs, anything that feels like sand or grit. Those are things you really don\\'t want to be using because they\\'re going to damage the skin barrier.\" Cleanse your skin twice a day, morning and night, she added, with the fingertips only. \"No instruments, no buff puff, no loofa, no washcloth, your fingertips are all you need,\" she said. \"Pat your face dry with a clean towel, and put on a light moisturizer that is fragrance-free.\" Check labels carefully when it comes to fragrance-free products, Desai suggested. \"Having less fragrance does not mean fragrance-free,\" he cautioned. \"Don\\'t buy them unless it says fragrance-free on the label. It\\'s very easy to get tripped up on that.\" Don\\'t use heavy ingredients, like cocoa butter or coconut oil, and skip any kind of oil-based foundation, Bowe said.  \"If you can go foundation-free and use a mineral sunscreen instead during the summer, I think that\\'s really the way to go,\" she said.  Wait 15 minutes after applying moisturizer or sunscreen before you put your mask on, 30 minutes if you are wearing an N95 mask, she suggested.  \"You really want those ingredients to soak into the skin If you\\'re going to try to create that seal,\" Bowe said. \"If your skin is slippery, the seal is not going to work as well.\" Use lip conditioners with more of a waxy finish or a lip serum to hydrate the lips while you\\'re wearing the mask, Bowe added, but not a lip gloss or anything that might stick to the mask. Finally, at night after cleaning with gentle products, it\\'s OK to put on a moisture-rich cream to repair the skin barrier and hold in moisture, she said. Put that new skin care regimen on hold If you do use anti-aging products, be careful that you\\'re not overdoing it, Desai said, for the same reason that it\\'s not a good idea to use them to clear acne. \"You don\\'t want to end up with something that is an open area on the skin, and create a breakdown, tear or stress-induced flare.\" This is also not the time to take up a new skin care regimen.  \"I get people telling me all the time, \\'I\\'ve used that same makeup for 25 years! I don\\'t know why it\\'s causing a problem now.\\' It\\'s because your skin is more prone to having an immunologic response,\" he said. Even if your skin is not sensitive to fragrances or your previous skin care, Desai explained, you are wearing a mask, likely anxious about Covid-19 and possibly using more PPE-like equipment. All that stress can cause your skin physiology to change. Another reason, Bowe said, is that putting a mask on top of a fragrant cream or new makeup will cause more of those ingredients to come in contact with the deeper layers of your skin, thus triggering inflammation \\xe2\\x80\\x94 sometimes even if you\\'re using products labeled \"natural.\" \"There\\'s a huge misconception among my patients that natural is always better,\" she said. \"But a lot of my patients are reacting to these natural products that have botanicals and essential oils in them.  \"So if you use a product and you smell a fragrance, even if it says fragrance free, that\\'s when you probably don\\'t want to use it underneath the mask.\"  Don\\'t use petroleum protection Many of us might reach for a soothing heavy cream or petroleum jelly to smear on our faces where our mask rubs \\xe2\\x80\\x94 but that\\'s a mistake, especially for anyone who needs to wear protective gear, Desai said. \"Petroleum products and a lot of these things can actually interfere with the integrity of the mask and the seal,\" he said.  \"If you have skin breakdown, ulcers or erosion from your personal protective equipment, talk to a board-certified dermatologist because there are products that can be prescribed to help.\"  '\n",
            "Label: health , Text: b'Why a wellness routine is your top priority amid protests and the pandemic \\xe2\\x80\\x94 and how to start  (CNN)As states gradually reopen even as the pandemic wears on, many of us are concerned about our health and well-being. Especially now, with some continuing to stay at home and social distance while others join the throngs at nationwide Black Lives Matter protests, it may even be a priority.  From state to state, the loosening of restrictions vary, and within our local communities, the reality is that not only do people have different ideas on what constitutes social distancing but for many others still, in the face of racial inequality, the desire to create social change far outweighs the potential risk of spreading or catching the virus. It\\'s all the more reason to make sure we\\'re taking the best care of ourselves to fortify against the disease. But while living a healthy life may be a desired goal, how to achieve it is another story.  Even if you\\'re someone whose healthful habits were perfected to a tee during pre-pandemic times, you may find yourself struggling to engage in even the most basic self-care in these increasingly unpredictable days. That\\'s where a wellness routine can come in handy.   I\\'m not talking about a spa escape every so often or even regular massages or chef-prepared meals (though all of that may sound really nice). I\\'m talking about creating your own personalized routine that will benefit you physically and emotionally, one that simply requires a regular commitment to yourself.    Creating a wellness routine allows you to shift from diet culture and adopt healthy habits that easily fit into your daily lifestyle. What\\'s more, having a routine allows you to focus on health goals by creating structure and organization, which can be particularly beneficial when things seem out of your control, like life during an unprecedented pandemic and simultaneous upheaval as people fight against social injustice. In fact, predictable routines, or ritualistic behavior \"developed as a way to induce calm and manage stress caused by unpredictability and uncontrollability, heightening our belief that we are in control of a situation that is otherwise out of our hands,\" according to researchers at Tel Aviv University. \"We need an internal structure because our external lives have become totally unstructured \\xe2\\x80\\x94 and that triggers anxiety and stress,\" said Robin Foroutan, a New York City-based integrative medicine dietitian and spokesperson for the Academy of Nutrition and Dietetics.   \"In the beginning, we thought this was going to be a little break; a couple of short weeks, and then we\\'d resume life as we knew it. Now we know that probably is not going to be the case.  We don\\'t know how long this will last, but we can find ways to stay steady and structured on the inside amidst the chaos outside.\" Engaging in a wellness routine with a focus on good nutrition, exercise, sleep and stress management can boost our health and well-being and strengthen our immunity during a time when we may need it most.  And while social obligations, travel and other commitments typically make it challenging to start new habits, being stuck at home without these distractions provides an opportune time to start creating a wellness routine that is accessible, doesn\\'t require a lot of money and is something that you can count on during this uncertain time \\xe2\\x80\\x94 and in the future, too.   How to create a wellness routine   Health experts say it\\'s important to create a manageable routine that you can stick with as part of a lifestyle \\xe2\\x80\\x94 not something overly ambitious that you can\\'t sustain. One way to do that is to start small and build upon it, as you feel comfortable.   Here are some tips to get started in creating your personal wellness routine.   Set regular times for sleeping, eating and exercise \"Most people feel better when they are going to bed and waking up at consistent times, eating regular meals and snacks and getting a steady dose of exercise, said Marysa Cardwell, a registered dietitian, nutrition therapist and certified personal trainer based in Salt Lake City, Utah.   For sleep: Everyone\\'s sleep schedule is different, and that\\'s OK, as long as you stick to your natural circadian rhythms, experts say. That means going to sleep when the sun is setting (or a bit later) and waking up when sun is rising (or a little later, according to your individual needs).   Aiming for seven to nine hours of sleep is key, as it helps to \"reduce the stress hormone cortisol and your adrenal load,\" Cardwell said.  Getting adequate sleep also bodes well for engaging in other healthful behaviors \\xe2\\x80\\x94 by going to bed at a reasonable hour, you\\'ll be less likely to engage in nighttime eating or mindless eating in front of the TV, and you\\'re more likely to wake up early and start exercise, Cardwell explained. For eating: Setting regular meal times, and taking a break to eat your food mindfully is key, Cardwell advised, but when you actually eat is up to you. \"Some do well on three meals per day with an afternoon snack; others prefer three smaller meals and three snacks.\"   Regardless of the pattern you choose, aim to eat at least every four hours, which prevents blood sugar from crashing and can lead to overeating.  For example, if you\\'re eating three meals and one afternoon snack, you might choose to eat breakfast at 8 a.m., lunch at 12 p.m., a snack at 4 p.m. and dinner at 7 p.m.   Taking a few deep breaths, enjoying the wonderful smells of the food you are about to eat and chewing food really well can all help make mealtime a healthful ritual, Foroutan explained.   Additionally, dinnertime can become a daily social ritual by sharing the meal with family or friends, advised Jen Scheinman, a Denver-based registered dietitian nutritionist and owner of Jen Scheinman Nutrition, a virtual nutrition coaching practice. \"Even a Zoom dinner with a friend if you\\'re by yourself can help you feel connected.\" For fitness: Pick a time that you\\'re most likely to stick with. That might mean taking a morning walk before your day gets started, or scheduling your favorite fitness class on your calendar so you won\\'t forget. \"I shut my day down with a run or yoga at around 5:30 p.m. That\\'s my last thing for the day. The more you can make it a routine, the less you have to think about it,\" Scheinman said.   Plan for food, fitness and sleep Planning what you will eat and how you will exercise means that you are more likely going to do what you intend to do, which will ultimately help you achieve your health goals. For example, planning meals in advance means you\\'ll be less likely to reach for quick sugary snacks when you run out of energy. It also helps to limit shopping trips. \"Not only does planning your meals ahead of time help cut down on the number of times you\\'re going to the grocery store, but it can also help reduce food waste and ensure you have meals that were intentionally picked to fit your nutritional goals,\" said Denver-based registered dietitian nutritionist Kelli McGrane. For food: Eating a nutrient-rich breakfast sets the stage for making other healthful choices throughout the day. Choose protein-rich breakfasts like egg whites, cottage cheese or smoked salmon on a bagel; Greek yogurt, smoothies with low-fat milk, high fiber cereals with milk or peanut butter on whole wheat toast.  Scheinman recommended preparing breakfast foods ahead of time, like making overnight oats with milk. \"It makes the breakfast routine less daunting.\"   For lunch and dinner, Cardwell encouraged a fist-size portion of protein, such as fish, chicken or beans; a fistful of carbohydrates like whole wheat pasta or brown rice; and a half plate of veggies. This will help meet your micronutrient needs, as well as fiber. Use fats sparingly, as a condiment, to make your food taste better, but limit fried foods and saturated fat, Cardwell advised.   For snacks, choose protein and carb combos, like cheese with crackers, sliced fruit with peanut butter, nuts and seeds with dried fruit or Greek yogurt. Pairing protein with carbs \"helps keep your blood sugar level stable, and helps you stay fuller longer,\" Cardwell said.  Scheinman recommended using the weekends for batch cooking, like making chili or soups, which you can freeze to enjoy later in the week. Washing and chopping veggies and fruit during the weekend can also save you time during the week. For fitness: Pick a fitness activity that inspires you \\xe2\\x80\\x94 and is doable. There are a lot of fitness apps offering free trials and online Zoom fitness classes, so you can use this time as an opportunity to try something new. Cardwell recommended aiming for at least 30 minutes per day, if possible.     If you are looking for a simple at-home cardio workout, MaryAnn Browning, founder and CEO of Browningsfitness in New York, recommended jumping jacks, high knees, butt kicks, burpees and switch jumps \\xe2\\x80\\x94 during which you\\'ll jump to turn 180 degrees and then back again \\xe2\\x80\\x94 for 15 seconds each. Then repeat the circuit five to 10 times, depending on what you can handle. For at-home fitness essentials, Browning recommended getting a set of yellow, green and red resistance bands, which can be used for back, bicep, triceps, shoulders and leg work. She also recommended looped bands to go around the calves or thighs, which strengthen the glutes and can help prevent knee and back injuries.  If you want to weight train but don\\'t have equipment, anything that will give you muscle tension will be beneficial, such as jugs of water, books or even your children. \"I use my kids \\xe2\\x80\\x94 I\\'ll do planks and have them sit on me ... or I\\'ll do leg presses while letting them do airplane,\" Cardwell said.  And don\\'t forget to keep moving throughout your day. Tracking apps like Lose It! are a good way to see how normal daily activities can all count toward our daily fitness goals.  \"Dancing with your kids or partner, yard work, house projects, sex and cleaning are all trackable activities. Doing these activities with intention and extra vigor all count towards a healthy lifestyle,\" said Cardwell, who is also a contributing dietitian for Lose It!  For sleep: Engage in a bedtime routine where you can quiet down and prepare for sleep. \"Turn off electronics, including the TV, iPad, and cell phones an hour before bedtime,\" Scheinman advised. This helps to reduce exposure to blue light, which \"the brain perceives as daylight, so your brain is not quite getting the signal that it\\'s nighttime and melatonin is not produced.\"   Unplugging also prevents you from checking one more email or scrolling through social media while in bed, which can be stimulating and interfere with sleep, Scheinman explained. Other tips for a successful wellness routine: a morning ritual and self-care Most experts recommended engaging in a morning ritual that brings you pleasure. \"Starting your day with the same routine each morning can bring steadiness and calm to the rest of the day. You are starting from a more grounded and positive place, versus waking up; grabbing the phone and checking the news and getting stressed out,\" Foroutan said. \"The morning is a nice time to start integrating things you didn\\'t have time for previously \\xe2\\x80\\x94 like taking the dog for a longer walk in the morning, making a nice cup of coffee you can sit and enjoy or engaging in a meditation practice,\" Scheinman added. \"It sets the day off with a healthy intention, with a sense of comfort. ... I know this is what I do,\" Scheinman said. Foroutan enjoys waking up and writing down three things she is grateful for. \"Starting the day with a thought about gratitude can be really centering. Writing it down does something extra \\xe2\\x80\\x94 it solidifies the thought and intention. Not every day is good but there\\'s something good in every day. Even if it\\'s one small thing that gives you a sense of gratitude \\xe2\\x80\\x94 that\\'s really grounding and it can help shift your perspective.\" Stretching your body after you wake up or doing a sun salutation can help to get your blood flowing and your body moving in the morning.   It\\'s also important to prioritize self-care. \"Make stress relievers like enjoyable activities a non-negotiable right now,\" Cardwell said. That may include knitting, taking an extra-long shower or bath, reading, taking a tea break, enjoying a glass of wine or calling family members. Even better, schedule these stress relievers into your day just like mealtimes and other obligations. \"We\\'re taking stock of what\\'s important ... and [our] health is important. Doing these things now can help you deal with the stress of right now,\" Cardwell said.   It can also keep you healthy and feeling good well into the future, too. That\\'s a gift from quarantine life if there ever is one.   Lisa Drayer is a nutritionist, an author and a CNN health and nutrition contributor. '\n",
            "Label: entertainment , Text: b'China vows to respond after US targets more state media outlets London (CNN Business)China has vowed to make a \"necessary and legitimate\" response after the US government designated four more Chinese state media outlets as \"foreign diplomatic missions.\" On Monday, the Trump administration announced that it would treat China Central Television (CCTV), China News Service, the People\\'s Daily and the Global Times as arms of the Chinese government, arguing that they are under the control of the Chinese Communist Party. The designation means the outlets must now submit to the rules that cover diplomatic missions, such as providing detailed information about their employees \\xe2\\x80\\x94 whether Chinese or not \\xe2\\x80\\x94 and notifying the US government about any real estate transactions.  Five Chinese outlets \\xe2\\x80\\x94Xinhua, CCTV subsidiary China Global Television Network, China Radio International, China Daily and People\\'s Daily parent Hai Tian Development USA \\xe2\\x80\\x94 were given the same label in February. At a regular briefing on Tuesday, China\\'s Ministry of Foreign Affairs criticized the United States for its \"political suppression of Chinese media\" and argued it would undermine their reporting. \"It also further exposed the hypocrisy of the so-called freedom of press and speech boasted by the US,\"  Zhao Lijian, a spokesman for the ministry said at a press conference. \"We strongly urge the US to abandon the Cold War mentality, ideological prejudice, and immediately stop and correct this practice that does harm to both sides.\" The US move and China\\'s threatened response is the latest sign of growing tension between China and the United States over the coronavirus pandemic, trade, and Hong Kong, with media outlets in both countries getting caught in the middle.  Since the US move on Chinese media in February, China has expelled journalists from The New York Times, The Wall Street Journal and The Washington Post. The US government also announced last month that Chinese journalists working for non-American outlets would be limited to 90-day working visas.   '\n",
            "Label: politics , Text: b'More than 17 million people have *already* voted. The election is still 19 days away.  (CNN)More than 17 million ballots across 44 states and DC have already been cast in the 2020 election, a stunning testament to what could be a a historically high voter turnout fueled by a series of state law changes that allow more mail-in balloting with the coronavirus pandemic still gripping the country. The state-by-state totals are massively over-running where the early vote was in the 2016 presidential race.  Here are a handful of vote comparisons in swing states, per CNN\\'s political unit: Florida Now: 2,092,131 2016: 992,584 North Carolina Now: 502,462 2016: 226,824 Georgia:  Now: 918,873 2016: 448,055 Michigan Now: 1,150,224 2016: 369,721 Wisconsin Now: 592,579 2016: 234,396 (Note: This voting information comes from CNN, Edison Research and Catalist -- a data company that provides data, analytics and other services to Democrats, academics and non-profit issue advocacy organizations.) In fact, in ALL of 2016, just over 46 million votes were cast early -- whether in person or by mail. That means that, even though we are still 19 days from the election, more than one-third (37%) as many early votes have already been cast in 2020 as were cast in the entirety of the early voting in the 2016 presidential race. These soaring numbers are backed up by what we are seeing in the states. On Monday in Georgia -- the first day of in-person early voting -- some people waited in lines for as long as 11 hours to cast their ballot. In Texas on Tuesday, its first day of in-person early voting, thousands waited in long lines to have their voice heard. Early in-person voting begins in North Carolina on Thursday. (President Donald Trump will be in the state to rally supporters today.) (A personal anecdote: In northern Virginia, I witnessed a line of nearly 100 people waiting to cast their ballots at a polling location at 6:45 p.m. on Wednesday night, the first day of in-person early voting at 14 sites around the Commonwealth.) That level of turnout is unbelievable. And the data suggests that it is Democrats driving the early vote rise. In the 23 states that report ballots cast by party identification, 55% of the returned ballots are from Democrats while just 24% are from Republican and 16% are from voters with no party affiliation.  In Florida, where the in-person early voting period begins October 19, there has already been a sea change in the party affiliation of those who have voted early by mail. As Politico\\'s Marc Caputo noted earlier this week: \"Republicans typically hold a slight edge in absentee ballot returns in Florida elections. But this year, there\\'s been a stunning development. \"For the first time ever at this stage of a general election, Democrats here are outvoting Republicans \\xe2\\x80\\x94 and by a mammoth 384,000-vote margin through Tuesday.\" What\\'s most fascinating is that while Democrats do typically lead in early vote numbers, it\\'s very rarely by these sorts of massive gaps. According to Gallup polling data from earlier this month, more than 6 in 10 Democrats (62%) said they had either already voted or planned to do so before the election whether in-person or by an absentee ballot. Just 24% of Republicans said the same, a huge 38 point partisan gap that is wildly different than in past presidential elections. In 2016, the gap was just 2 points: 44% of Democrats planned to vote early as compared to 42% of Republicans In 2012, 37% of voters in each party said they planned to vote early.  In 2004, more Republicans (24%) than Democrats (22%) said they would cast a ballot before Election Day. That monumental shift is driven by two factors: the coronavirus pandemic and President Donald Trump\\'s reaction to it. The pandemic, which appears to be ramping up again across the United States, has killed more than 219,000 Americans and sickened almost 8 million. Because of concerns about gathering in large groups indoors, many states have changed their election laws to allow no-excuse absentee voting. Trump\\'s reaction to that has been to suggest, with no evidence, that mail-in balloting is rife with fraud and to encourage his supporters to vote on Election Day in person. Which they seem, judging by the Gallup numbers, to be planning to do. The problem here for Trump is obvious. Not only are the early vote numbers increasing by massive margins as compared to 2016, the numbers are heavily tilted toward Democrats. And remember this too: Everyone -- Democrats, independents and Republicans -- who have already voted or plan to do so in the weeks leading up to November 3 are doing so in a national political environment that is decidedly tilted against Trump. Even if the landscape somehow turns for Trump in the next 19 days, he may -- given the avalanche of early votes -- already be too far behind to make it up among voters on Election Day.  '\n"
          ],
          "name": "stdout"
        }
      ]
    },
    {
      "cell_type": "markdown",
      "metadata": {
        "id": "d8T9aAfmorBg"
      },
      "source": [
        "#### Build Data Pipelines"
      ]
    },
    {
      "cell_type": "markdown",
      "metadata": {
        "id": "Kukjuxd-osbm"
      },
      "source": [
        "##### Text Vectorization\n",
        "\n",
        "[Reference](https://www.tensorflow.org/api_docs/python/tf/keras/layers/experimental/preprocessing/TextVectorization)\n",
        "\n",
        "Generate Text Vector:\n",
        "- Standardize each sample (usually lowercasing + punctuation stripping)\n",
        "- Split each sample into substrings (usually words)\n",
        "- Recombine substrings into tokens (usually ngrams)\n",
        "- Index tokens (associate a unique int value with each token)\n",
        "- Transform each sample using this index, either into a vector of ints or a dense float vector"
      ]
    },
    {
      "cell_type": "code",
      "metadata": {
        "id": "XvorBrkfowL3",
        "outputId": "4a69a37a-2784-4e32-ce51-6b483712fd71",
        "colab": {
          "base_uri": "https://localhost:8080/",
          "height": 51
        }
      },
      "source": [
        "# Text Vectorization\n",
        "def standardize_text(input_text):\n",
        "  # Convert to lowercase\n",
        "  lowercase = tf.strings.lower(input_text)\n",
        "  # Remove HTML tags\n",
        "  stripped_html = tf.strings.regex_replace(lowercase, \"<br />\", \" \")\n",
        "  return tf.strings.regex_replace(\n",
        "      stripped_html, \"[%s]\" % re.escape(string.punctuation), \"\"\n",
        "  )\n",
        "\n",
        "# Load Text\n",
        "def load_text(path, label=None):\n",
        "  text = io_ops.read_file(path)\n",
        "  if label is None:\n",
        "    return text\n",
        "  else:\n",
        "    return text, label\n",
        "\n",
        "# Feature constraints\n",
        "max_features = 15000\n",
        "sequence_length = 1000\n",
        "\n",
        "# Initialize Text Vectorizer\n",
        "text_vectorizer = TextVectorization(\n",
        "    standardize=standardize_text,\n",
        "    max_tokens=max_features,\n",
        "    output_mode=\"int\",\n",
        "    output_sequence_length=sequence_length,\n",
        ")\n",
        "\n",
        "# Create the vocabulary of entire dataset\n",
        "text_data = tf.data.Dataset.from_tensor_slices(data_x)\n",
        "text_data = text_data.map(load_text, num_parallel_calls=AUTOTUNE)\n",
        "\n",
        "# Generate Text Vector\n",
        "start_time = time.time()\n",
        "text_vectorizer.adapt(text_data.batch(64))\n",
        "execution_time = (time.time() - start_time)/60.0\n",
        "print(\"Execution time (mins)\",execution_time)\n",
        "\n",
        "# Get Vocabulary\n",
        "vocabulary = text_vectorizer.get_vocabulary()\n",
        "vocabulary_size = len(vocabulary)\n",
        "print(\"Vocabulary Size:\",vocabulary_size)\n",
        "# Generate word index\n",
        "word_index = dict(zip(vocabulary, range(vocabulary_size)))"
      ],
      "execution_count": null,
      "outputs": [
        {
          "output_type": "stream",
          "text": [
            "Execution time (mins) 0.01306746006011963\n",
            "Vocabulary Size: 15000\n"
          ],
          "name": "stdout"
        }
      ]
    },
    {
      "cell_type": "code",
      "metadata": {
        "id": "OJ1YJUCDo4T3",
        "outputId": "7dc771b0-7941-49df-c8af-299bb87597eb",
        "colab": {
          "base_uri": "https://localhost:8080/",
          "height": 156
        }
      },
      "source": [
        "# Check Vocabulary : 0 is reserved for padding and index 1 is reserved for \"out of vocabulary\" tokens\n",
        "print(\"Vocabulary:\",vocabulary[:20])\n",
        "print(\"Vocabulary Size:\",len(vocabulary))\n",
        "\n",
        "# Test our text vectorizer\n",
        "test_text = txt = io_ops.read_file(data_x[data_samples[0]])\n",
        "print(test_text)\n",
        "test_text_vector = text_vectorizer([test_text.numpy()])\n",
        "print(\"Shape:\",test_text_vector.shape)\n",
        "print(test_text_vector[0,:20])"
      ],
      "execution_count": null,
      "outputs": [
        {
          "output_type": "stream",
          "text": [
            "Vocabulary: ['', '[UNK]', 'the', 'to', 'and', 'of', 'a', 'in', 'that', 'for', 'is', 'on', 'said', 'with', 'as', 'it', 'have', 'are', 'be', 'at']\n",
            "Vocabulary Size: 15000\n",
            "tf.Tensor(b'The Wanted singer Tom Parker reveals he has inoperable brain tumor London (CNN)Tom Parker, a British singer who spent five years as part of the popular boy band The Wanted, has revealed he has an inoperable brain tumor. The 32-year-old told fans he has a grade four glioblastoma tumor and is undergoing treatment. Parker, who announced earlier this year that he and his wife are expecting their second child, wrote on Instagram: \"We are all absolutely devastated but we are gonna fight this all the way.  \"We don\\'t want your sadness, we just want love and positivity and together we will raise awareness of this terrible disease and look for all available treatment options.\" In an interview with Britain\\'s OK! Magazine, Parker and his wife, Kelsey Hardwick, said his doctors described the tumor as a \"worst-case scenario\" and informed the couple that it was terminal. The average survival time for patients with a grade four glioblastoma, one of the most serious kinds of tumors, is between a year and 18 months, according to UK nonprofit The Brain Tumour Charity. The singer said he went to hospital after suffering two seizures over the summer. Parker told OK!: \"They pulled the curtain around my bed and said, \\'It\\'s a brain tumour.\\' All I could think was, \\'F*****g hell!\\' I was in shock. It\\'s stage four glioblastoma and they\\'ve said it\\'s terminal. It was a lot to deal with by myself. I still haven\\'t processed it.\" Parker rose to fame as part of The Wanted, a five-piece boy band whose hits included \"All Time Low\" and \"Heart Vacancy.\" The group enjoyed a string of top five singles in the UK, including two number ones, while their 2011 track \"Glad You Came\" made it to number 3 in the US Billboard charts. They split up in 2014 to pursue solo projects.  ', shape=(), dtype=string)\n",
            "Shape: (1, 1000)\n",
            "tf.Tensor(\n",
            "[    2   740  2052  1393  3671  3514    21    23     1  1001  6908  1527\n",
            " 13054  3671     6  1770  2052    34   821   509], shape=(20,), dtype=int64)\n"
          ],
          "name": "stdout"
        }
      ]
    },
    {
      "cell_type": "markdown",
      "metadata": {
        "id": "-gB_Pjafo_3u"
      },
      "source": [
        "##### Split Data"
      ]
    },
    {
      "cell_type": "code",
      "metadata": {
        "id": "mxLpp0rtpBdL",
        "outputId": "ec5ce843-591b-4df2-bb81-af25d491df1a",
        "colab": {
          "base_uri": "https://localhost:8080/",
          "height": 51
        }
      },
      "source": [
        "validation_percent = 0.20\n",
        "\n",
        "# Split data into train / validate\n",
        "train_x, validate_x, train_y, validate_y = train_test_split(data_x, data_y, test_size=validation_percent)\n",
        "\n",
        "print(\"train_x count:\",len(train_x))\n",
        "print(\"validate_x count:\",len(validate_x))"
      ],
      "execution_count": null,
      "outputs": [
        {
          "output_type": "stream",
          "text": [
            "train_x count: 736\n",
            "validate_x count: 184\n"
          ],
          "name": "stdout"
        }
      ]
    },
    {
      "cell_type": "markdown",
      "metadata": {
        "id": "n39BMWSZpCVu"
      },
      "source": [
        "##### Create TF Dataset"
      ]
    },
    {
      "cell_type": "code",
      "metadata": {
        "id": "rBVWbGLdpHr1"
      },
      "source": [
        "batch_size = 64\n",
        "\n",
        "# Convert all y labels to numbers\n",
        "train_processed_y = [label2index[label] for label in train_y]\n",
        "validate_processed_y = [label2index[label] for label in validate_y]\n",
        "\n",
        "# Converts to y to binary class matrix (One-hot-encoded)\n",
        "train_processed_y = to_categorical(train_processed_y, num_classes=num_classes, dtype='float32')\n",
        "validate_processed_y = to_categorical(validate_processed_y, num_classes=num_classes, dtype='float32')\n",
        "\n",
        "# Vectorize Text\n",
        "def vectorize_text(text, label=None):\n",
        "  text = tf.expand_dims(text, -1)\n",
        "  text = text_vectorizer(text)\n",
        "  if label is None:\n",
        "    return text\n",
        "  else:\n",
        "    return text, label\n",
        "\n",
        "# Create TF Dataset\n",
        "train_data = tf.data.Dataset.from_tensor_slices((train_x, train_processed_y))\n",
        "validation_data = tf.data.Dataset.from_tensor_slices((validate_x, validate_processed_y))\n",
        "\n",
        "#############\n",
        "# Train data\n",
        "#############\n",
        "# Apply all data processing logic\n",
        "train_data = train_data.map(load_text, num_parallel_calls=AUTOTUNE)\n",
        "train_data = train_data.batch(batch_size)\n",
        "train_data = train_data.map(vectorize_text, num_parallel_calls=AUTOTUNE)\n",
        "train_data = train_data.cache().prefetch(buffer_size=100)\n",
        "\n",
        "##################\n",
        "# Validation data\n",
        "##################\n",
        "# Apply all data processing logic\n",
        "validation_data = validation_data.map(load_text, num_parallel_calls=AUTOTUNE)\n",
        "validation_data = validation_data.batch(batch_size)\n",
        "validation_data = validation_data.map(vectorize_text, num_parallel_calls=AUTOTUNE)\n",
        "validation_data = validation_data.cache().prefetch(buffer_size=100)\n",
        "\n",
        "print(\"train_data\",train_data)\n",
        "print(\"validation_data\",validation_data)"
      ],
      "execution_count": null,
      "outputs": []
    },
    {
      "cell_type": "markdown",
      "metadata": {
        "id": "gPkX7B4u2KR8"
      },
      "source": [
        "## Questions:\n",
        "\n",
        "**All data preparation steps have been performed and you can continue to building models in following questions**\n",
        "\n",
        "Note on dataset input sizes:\n",
        "```\n",
        "# Feature constraints\n",
        "max_features = 15000\n",
        "sequence_length = 1000\n",
        "```"
      ]
    },
    {
      "cell_type": "markdown",
      "metadata": {
        "id": "sxroASIWUTYQ"
      },
      "source": [
        "## Question 1 : Build a text classification model using FFNN (0.5 Point)"
      ]
    },
    {
      "cell_type": "markdown",
      "metadata": {
        "id": "9b6P0tpzUpnB"
      },
      "source": [
        "#### a) Build a Text Classification Model\n",
        "\n",
        "- Build the model using a few `Dense` layers\n",
        "- Input size is `1000`\n",
        "- Do **NOT** use the `Embedding` layer in your model\n",
        "- Use `categorical_crossentropy` loss\n",
        "- Ensure there is a plot of your training history"
      ]
    },
    {
      "cell_type": "code",
      "metadata": {
        "id": "RlpzEq6rXrqr"
      },
      "source": [
        ""
      ],
      "execution_count": null,
      "outputs": []
    },
    {
      "cell_type": "markdown",
      "metadata": {
        "id": "M7gaTNoR2kOm"
      },
      "source": [
        "#### b) How is the performance of your model?"
      ]
    },
    {
      "cell_type": "markdown",
      "metadata": {
        "id": "wi_hF-r32pBO"
      },
      "source": [
        "*Your answer here*"
      ]
    },
    {
      "cell_type": "markdown",
      "metadata": {
        "id": "p0GvjJEGpOd8"
      },
      "source": [
        "## Question 2 : Build a text classification model with embeddings (1.0 Point)"
      ]
    },
    {
      "cell_type": "markdown",
      "metadata": {
        "id": "9vXzb_Kv4ZrO"
      },
      "source": [
        "#### a) Preliminary Questions \n",
        "\n",
        "- Explain what is the purpose of the `Embedding` Layer ? \n",
        "- Name two reasons why using one-hot encoded vectors instead is not the way to go\n",
        "- Explain what the inputs and outputs of the `Embedding` Layer are. Also comment on the dimension going in and what is coming out\n"
      ]
    },
    {
      "cell_type": "markdown",
      "metadata": {
        "id": "ZP8jul2yqS4c"
      },
      "source": [
        "*Your answer here*"
      ]
    },
    {
      "cell_type": "markdown",
      "metadata": {
        "id": "tX_7DYho4lfg"
      },
      "source": [
        ""
      ]
    },
    {
      "cell_type": "markdown",
      "metadata": {
        "id": "Y4YGeSsFpaZa"
      },
      "source": [
        "#### b) Build a Text Classification Model\n",
        "\n",
        "- You need to include the `Embedding` layer in your model\n",
        "- Following the `Embedding` layer you can use `Conv1D` or `LSTM`\n",
        "- Use loss of `categorical_crossentropy`\n",
        "- Ensure there is a plot of your training history\n",
        "\n"
      ]
    },
    {
      "cell_type": "code",
      "metadata": {
        "id": "FB-7Z04PpbmQ"
      },
      "source": [
        ""
      ],
      "execution_count": null,
      "outputs": []
    },
    {
      "cell_type": "markdown",
      "metadata": {
        "id": "QLTLTK8WAD66"
      },
      "source": [
        "#### c) Save Embedding layer weights\n",
        "\n",
        "- Save the weights of your embedding layer\n",
        "- The weights will be used in Question 4\n",
        "- Feel free to use the code below to extract layer weights\n",
        "\n",
        "```\n",
        "# Get the Embedding Layer\n",
        "embedding_layer_no_tl = model.get_layer(name=\"embedding\")\n",
        "embedding_layer_no_tl_weights = embedding_layer_no_tl.get_weights()[0]\n",
        "print(embedding_layer_no_tl_weights.shape)\n",
        "```"
      ]
    },
    {
      "cell_type": "code",
      "metadata": {
        "id": "i-n8bpLlAEH0"
      },
      "source": [
        ""
      ],
      "execution_count": null,
      "outputs": []
    },
    {
      "cell_type": "markdown",
      "metadata": {
        "id": "WLdpf5LJp10a"
      },
      "source": [
        "---\n",
        "\n",
        "## Question 3 : Build a text classification model with pre-trained embeddings (2.5 Point)"
      ]
    },
    {
      "cell_type": "markdown",
      "metadata": {
        "id": "S3RE7PN52i8x"
      },
      "source": [
        "#### a) Preliminary Questions \n",
        "\n",
        "\n",
        "- How is using pre-trained word embedding adding knowledge to the model? (Use an example if needed) \n",
        "\n",
        "- Provide a scenario where retraining the pre-trained embedding layer may be needed"
      ]
    },
    {
      "cell_type": "markdown",
      "metadata": {
        "id": "p9CpcUKmqImj"
      },
      "source": [
        "*Your answer here*"
      ]
    },
    {
      "cell_type": "markdown",
      "metadata": {
        "id": "KuYeyaS_sFKp"
      },
      "source": [
        "#### b) Build a Text Classifcation Model using pre-trained word embeddings\n",
        "\n",
        "- Build a Text Classification Model\n",
        "- You need to include the `Embedding` layer in your model\n",
        "- The `Embedding` layer should have its weights loaded from any **pre-trained word embeddings** such as Glove, Word2Vec, FastText etc.\n",
        "- [Example](https://medium.com/@ppasumarthi_69210/word-embeddings-in-keras-be6bb3092831) of how to load pre-trained word embeddings for Word2Vec\n",
        "- [Example](https://keras.io/examples/nlp/pretrained_word_embeddings/) of how to load pre-trained word embeddings for Glove\n",
        "- [Example](https://www.kaggle.com/vsmolyakov/keras-cnn-with-fasttext-embeddings) of how to load pre-trained word embeddings for FastText\n",
        "- Make the `Embedding` layer as `trainable=False`\n",
        "- Following the `Embedding` layer you can use `Conv1D` or `LSTM`\n",
        "- Use loss of `categorical_crossentropy`\n",
        "- Ensure there is a plot of your training history"
      ]
    },
    {
      "cell_type": "code",
      "metadata": {
        "id": "XRxO4O5ft9zg"
      },
      "source": [
        ""
      ],
      "execution_count": null,
      "outputs": []
    },
    {
      "cell_type": "markdown",
      "metadata": {
        "id": "9woLmZeUrI1c"
      },
      "source": [
        "#### c) Save Embedding layer weights\n",
        "\n",
        "- Save the weights of your embedding layer\n",
        "- The weights will be used in Question 4\n",
        "- Feel free to use the code below to extract layer weights\n",
        "\n",
        "```\n",
        "# Get the Embedding Layer\n",
        "embedding_layer_tl = model.get_layer(name=\"embedding\")\n",
        "\n",
        "embedding_layer_tl_weights = embedding_layer_tl.get_weights()[0]\n",
        "print(embedding_layer_tl_weights.shape)\n",
        "```"
      ]
    },
    {
      "cell_type": "code",
      "metadata": {
        "id": "D4AoxrZnrWj_"
      },
      "source": [
        ""
      ],
      "execution_count": null,
      "outputs": []
    },
    {
      "cell_type": "markdown",
      "metadata": {
        "id": "Vh20OCuGsFna"
      },
      "source": [
        "---\n",
        "\n",
        "## Question 4 : Analysing Word Embeddings (1.0 Point)"
      ]
    },
    {
      "cell_type": "markdown",
      "metadata": {
        "id": "NEptG_2NuRiE"
      },
      "source": [
        "Feel free to use these functions for this question:\n",
        "\n",
        "```\n",
        "def find_similar(words, word_index, vocabulary, embedding_layer_weights, topn=5):\n",
        "  subset_word_index  = []\n",
        "  for word in words:\n",
        "    subset_word_index.append(word_index[word])\n",
        "  \n",
        "  cs_op = cosine_similarity(embedding_layer_weights[subset_word_index], embedding_layer_weights)\n",
        "  for idx in range(len(words)):\n",
        "    top = cs_op[idx].argsort()[-topn:][::-1]\n",
        "    for i,t in enumerate(top):\n",
        "      if i ==0:\n",
        "        print(\"Similar words for:\",vocabulary[t])\n",
        "      else:\n",
        "        print(\"    \",vocabulary[t])\n",
        "\n",
        "def find_analogy(word_a, word_b, word_c, word_index, vocabulary, embedding_layer_weights, topn=5):\n",
        "  idx_a = word_index[word_a]\n",
        "  idx_b = word_index[word_b]\n",
        "  idx_c = word_index[word_c]\n",
        "\n",
        "  # Vectors\n",
        "  vec_a = embedding_layer_weights[idx_a]\n",
        "  vec_b = embedding_layer_weights[idx_b]\n",
        "  vec_c = embedding_layer_weights[idx_c]\n",
        "\n",
        "  op = vec_b - vec_a + vec_c\n",
        "  cs_op = cosine_similarity([op], embedding_layer_weights)\n",
        "  top = cs_op[0].argsort()[-topn:][::-1]\n",
        "\n",
        "  print(word_b,\"-\",word_a,\"+\", word_c, \"=\")\n",
        "  for i,t in enumerate(top):\n",
        "    print(\"   \",vocabulary[t])\n",
        "```"
      ]
    },
    {
      "cell_type": "markdown",
      "metadata": {
        "id": "QMCL8MHbuC-J"
      },
      "source": [
        "#### a) Finding Semantically similar words\n",
        "\n",
        "- We want to find words that are semantically similar to the following words: ```['covid19','election','2020','pandemic','quarantine']```\n",
        "- Run the function `find_similar(...)` and display the results for embedding weights from question 2 and question 3"
      ]
    },
    {
      "cell_type": "code",
      "metadata": {
        "id": "aJnFtfXn0UDQ"
      },
      "source": [
        "#find_similar(...) for learned embeddings weights"
      ],
      "execution_count": null,
      "outputs": []
    },
    {
      "cell_type": "code",
      "metadata": {
        "id": "M7QAvVAPy5Vc"
      },
      "source": [
        "#find_similar(...) for pre-trained embeddings weights"
      ],
      "execution_count": null,
      "outputs": []
    },
    {
      "cell_type": "markdown",
      "metadata": {
        "id": "VCaqjkLIycBU"
      },
      "source": [
        "- Explain your results, does the similar words have any real world similarity?\n",
        "- Explain the results of the word `covid19` from learned embeddings weights vs pre-trained embeddings weights"
      ]
    },
    {
      "cell_type": "markdown",
      "metadata": {
        "id": "b9r3yelLzoV-"
      },
      "source": [
        "*Your answer here*"
      ]
    },
    {
      "cell_type": "markdown",
      "metadata": {
        "id": "jDDNOoeVtWPI"
      },
      "source": [
        "#### b) Finding Analogies\n",
        "\n",
        "- Word embeddings can be used to find analogies between words. For example, “man” is to “woman” as “son” is to “daughter” is an example of analogy, \n",
        "- Let us verify the `male-female` analogy\n",
        "- Run the function `find_analogy(...)` and display the results for embedding weights from question 2 and question 3"
      ]
    },
    {
      "cell_type": "code",
      "metadata": {
        "id": "KvNc1ydA2bir"
      },
      "source": [
        "#find_analogy('man', 'woman', 'son',...) for learned embeddings weights"
      ],
      "execution_count": null,
      "outputs": []
    },
    {
      "cell_type": "code",
      "metadata": {
        "id": "JVcKsiQQ0WaF"
      },
      "source": [
        "#find_analogy('man', 'woman', 'son'...) for pre-trained embeddings weights"
      ],
      "execution_count": null,
      "outputs": []
    },
    {
      "cell_type": "markdown",
      "metadata": {
        "id": "8fOUmp59yL-C"
      },
      "source": [
        "- Explain your results, does word analogies work in both cases?"
      ]
    },
    {
      "cell_type": "markdown",
      "metadata": {
        "id": "F8ITHfNA0tY5"
      },
      "source": [
        "*Your answer here*"
      ]
    }
  ]
}