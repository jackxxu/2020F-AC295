{
  "nbformat": 4,
  "nbformat_minor": 0,
  "metadata": {
    "colab": {
      "name": "Copy of AC 295 Fall 2020 Exercise 6.ipynb",
      "provenance": [],
      "collapsed_sections": [],
      "toc_visible": true
    },
    "kernelspec": {
      "name": "python3",
      "display_name": "Python 3"
    },
    "accelerator": "GPU"
  },
  "cells": [
    {
      "cell_type": "markdown",
      "metadata": {
        "id": "aNoQXuvWxiOZ"
      },
      "source": [
        "<h1 style=\"padding-top: 25px;padding-bottom: 25px;text-align: left; padding-left: 10px; background-color: #DDDDDD; \n",
        "    color: black;\"> <img style=\"float: left; padding-right: 10px; width: 45px\" src=\"https://raw.githubusercontent.com/Harvard-IACS/2018-CS109A/master/content/styles/iacs.png\"> AC295: Advanced Practical Data Science </h1>\n",
        "\n",
        "## Transfer Learning for Text & Word Embeddings\n",
        "\n",
        "**Harvard University, Fall 2020**  \n",
        "**Instructors**: Pavlos Protopapas  \n",
        "\n",
        "---"
      ]
    },
    {
      "cell_type": "markdown",
      "metadata": {
        "id": "UuOBWyhq0JDy"
      },
      "source": [
        "**Each assignment is graded out of 5 points.  The topic for this assignment is Transfer Learning for Text.**\n",
        "\n",
        "**Due:** 10/27/2020 10:15 AM EDT\n",
        "\n",
        "**Submit:** We won't be re running your notebooks, please ensure output is visible in the notebook."
      ]
    },
    {
      "cell_type": "markdown",
      "metadata": {
        "id": "1WUkbRK90Jlq"
      },
      "source": [
        "#### Learning Objectives\n",
        "\n",
        "In this exercise you will cover the following topics:  \n",
        "- Tokenizing text using Text Vectorization\n",
        "- Perform text classification & create word emedddings\n",
        "- Load pre-trained word embeddings and perform text classification\n",
        "- Understand Word Embeddings\n",
        "\n",
        "---"
      ]
    },
    {
      "cell_type": "markdown",
      "metadata": {
        "id": "BB3M_mTon_ns"
      },
      "source": [
        "#### Imports"
      ]
    },
    {
      "cell_type": "code",
      "metadata": {
        "id": "ggmzeX4gxbbM"
      },
      "source": [
        "import os\n",
        "import requests\n",
        "import zipfile\n",
        "import tarfile\n",
        "import shutil\n",
        "import json\n",
        "import time\n",
        "import sys\n",
        "import string\n",
        "import re\n",
        "import numpy as np\n",
        "import pandas as pd\n",
        "from glob import glob\n",
        "from string import Template\n",
        "import matplotlib.pyplot as plt\n",
        "import seaborn as sns\n",
        "%matplotlib inline\n",
        "\n",
        "import tensorflow as tf\n",
        "from tensorflow import keras\n",
        "from tensorflow.python.keras import backend as K\n",
        "from tensorflow.keras.models import Model, Sequential\n",
        "from tensorflow.keras import layers\n",
        "from tensorflow.keras import activations\n",
        "from tensorflow.keras import optimizers\n",
        "from tensorflow.keras import losses\n",
        "from tensorflow.keras.layers.experimental.preprocessing import TextVectorization\n",
        "from tensorflow.python.ops import io_ops\n",
        "from tensorflow.keras.utils import to_categorical\n",
        "\n",
        "from sklearn.model_selection import train_test_split\n",
        "from sklearn.metrics.pairwise import cosine_similarity"
      ],
      "execution_count": null,
      "outputs": []
    },
    {
      "cell_type": "markdown",
      "metadata": {
        "id": "LKUpdG05oDwU"
      },
      "source": [
        "#### Verify Setup"
      ]
    },
    {
      "cell_type": "code",
      "metadata": {
        "id": "ygpx8yTqoHzD",
        "outputId": "b840a295-dec8-4d19-c571-285a2d964fcc",
        "colab": {
          "base_uri": "https://localhost:8080/",
          "height": 190
        }
      },
      "source": [
        "# Enable/Disable Eager Execution\n",
        "# Reference: https://www.tensorflow.org/guide/eager\n",
        "# TensorFlow's eager execution is an imperative programming environment that evaluates operations immediately, \n",
        "# without building graphs\n",
        "\n",
        "#tf.compat.v1.disable_eager_execution()\n",
        "#tf.compat.v1.enable_eager_execution()\n",
        "\n",
        "print(\"tensorflow version\", tf.__version__)\n",
        "print(\"keras version\", tf.keras.__version__)\n",
        "print(\"Eager Execution Enabled:\", tf.executing_eagerly())\n",
        "\n",
        "# Get the number of replicas \n",
        "strategy = tf.distribute.MirroredStrategy()\n",
        "print(\"Number of replicas:\", strategy.num_replicas_in_sync)\n",
        "\n",
        "devices = tf.config.experimental.get_visible_devices()\n",
        "print(\"Devices:\", devices)\n",
        "print(tf.config.experimental.list_logical_devices('GPU'))\n",
        "\n",
        "print(\"GPU Available: \", tf.config.list_physical_devices('GPU'))\n",
        "print(\"All Physical Devices\", tf.config.list_physical_devices())\n",
        "\n",
        "# Better performance with the tf.data API\n",
        "# Reference: https://www.tensorflow.org/guide/data_performance\n",
        "AUTOTUNE = tf.data.experimental.AUTOTUNE"
      ],
      "execution_count": null,
      "outputs": [
        {
          "output_type": "stream",
          "text": [
            "tensorflow version 2.3.0\n",
            "keras version 2.4.0\n",
            "Eager Execution Enabled: True\n",
            "INFO:tensorflow:Using MirroredStrategy with devices ('/job:localhost/replica:0/task:0/device:GPU:0',)\n",
            "Number of replicas: 1\n",
            "Devices: [PhysicalDevice(name='/physical_device:CPU:0', device_type='CPU'), PhysicalDevice(name='/physical_device:GPU:0', device_type='GPU')]\n",
            "[LogicalDevice(name='/device:GPU:0', device_type='GPU')]\n",
            "GPU Available:  [PhysicalDevice(name='/physical_device:GPU:0', device_type='GPU')]\n",
            "All Physical Devices [PhysicalDevice(name='/physical_device:CPU:0', device_type='CPU'), PhysicalDevice(name='/physical_device:XLA_CPU:0', device_type='XLA_CPU'), PhysicalDevice(name='/physical_device:XLA_GPU:0', device_type='XLA_GPU'), PhysicalDevice(name='/physical_device:GPU:0', device_type='GPU')]\n"
          ],
          "name": "stdout"
        }
      ]
    },
    {
      "cell_type": "markdown",
      "metadata": {
        "id": "I_H1fI9HoIil"
      },
      "source": [
        "#### Utils"
      ]
    },
    {
      "cell_type": "code",
      "metadata": {
        "id": "mvUJH0yuoKd4"
      },
      "source": [
        "def download_file(packet_url, base_path=\"\", extract=False):\n",
        "  if base_path != \"\":\n",
        "    if not os.path.exists(base_path):\n",
        "      os.mkdir(base_path)\n",
        "  packet_file = os.path.basename(packet_url)\n",
        "  with requests.get(packet_url, stream=True) as r:\n",
        "      r.raise_for_status()\n",
        "      with open(os.path.join(base_path,packet_file), 'wb') as f:\n",
        "          for chunk in r.iter_content(chunk_size=8192):\n",
        "              f.write(chunk)\n",
        "  \n",
        "  if extract:\n",
        "    if packet_file.endswith(\".zip\"):\n",
        "      with zipfile.ZipFile(os.path.join(base_path,packet_file)) as zfile:\n",
        "        zfile.extractall(base_path)\n",
        "    \n",
        "    if packet_file.endswith(\".tar.gz\"):\n",
        "      packet_name = packet_file.split('.')[0]\n",
        "      with tarfile.open(os.path.join(base_path,packet_file)) as tfile:\n",
        "        tfile.extractall(base_path)\n",
        "\n",
        "def evaluate_model(model,test_data, training_results):\n",
        "    \n",
        "  # Get the model train history\n",
        "  model_train_history = training_results.history\n",
        "  # Get the number of epochs the training was run for\n",
        "  num_epochs = len(model_train_history[\"loss\"])\n",
        "\n",
        "  # Plot training results\n",
        "  fig = plt.figure(figsize=(15,5))\n",
        "  axs = fig.add_subplot(1,2,1)\n",
        "  axs.set_title('Loss')\n",
        "  # Plot all metrics\n",
        "  for metric in [\"loss\",\"val_loss\"]:\n",
        "      axs.plot(np.arange(0, num_epochs), model_train_history[metric], label=metric)\n",
        "  axs.legend()\n",
        "  \n",
        "  axs = fig.add_subplot(1,2,2)\n",
        "  axs.set_title('Accuracy')\n",
        "  # Plot all metrics\n",
        "  for metric in [\"accuracy\",\"val_accuracy\"]:\n",
        "      axs.plot(np.arange(0, num_epochs), model_train_history[metric], label=metric)\n",
        "  axs.legend()\n",
        "\n",
        "  plt.show()\n",
        "  \n",
        "  # Evaluate on test data\n",
        "  evaluation_results = model.evaluate(test_data)\n",
        "  print(\"Evaluation Results:\", evaluation_results)"
      ],
      "execution_count": null,
      "outputs": []
    },
    {
      "cell_type": "markdown",
      "metadata": {
        "id": "qmZ8EPwCoX9b"
      },
      "source": [
        "## Dataset"
      ]
    },
    {
      "cell_type": "markdown",
      "metadata": {
        "id": "fXF-eusBoZXu"
      },
      "source": [
        "#### Download"
      ]
    },
    {
      "cell_type": "code",
      "metadata": {
        "id": "W-l9ubJgoamV",
        "outputId": "7277f0e3-993b-4292-e727-b49a1d1ad0fd",
        "colab": {
          "base_uri": "https://localhost:8080/",
          "height": 34
        }
      },
      "source": [
        "start_time = time.time()\n",
        "download_file(\"https://storage.googleapis.com/dataset_store/ac295/news300.zip\", base_path=\"datasets\", extract=True)\n",
        "download_file(\"https://github.com/shivasj/dataset-store/releases/download/v3.0/glove.6B.100d.txt.zip\", base_path=\"embedding\", extract=True)\n",
        "execution_time = (time.time() - start_time)/60.0\n",
        "print(\"Download execution time (mins)\",execution_time)"
      ],
      "execution_count": null,
      "outputs": [
        {
          "output_type": "stream",
          "text": [
            "Download execution time (mins) 0.08569519917170207\n"
          ],
          "name": "stdout"
        }
      ]
    },
    {
      "cell_type": "markdown",
      "metadata": {
        "id": "UZCZfq2TofSb"
      },
      "source": [
        "#### Explore"
      ]
    },
    {
      "cell_type": "code",
      "metadata": {
        "id": "Ep-11Ov2ogkN",
        "outputId": "287b6c10-cd21-468a-b6c0-82ad946633a2",
        "colab": {
          "base_uri": "https://localhost:8080/",
          "height": 173
        }
      },
      "source": [
        "data_dir = os.path.join(\"datasets\",\"news300\")\n",
        "label_names = os.listdir(data_dir)\n",
        "\n",
        "# Number of unique labels\n",
        "num_classes = len(label_names) \n",
        "# Create label index for easy lookup\n",
        "label2index = dict((name, index) for index, name in enumerate(label_names))\n",
        "index2label = dict((index, name) for index, name in enumerate(label_names))\n",
        "\n",
        "print(\"Number of classes:\", num_classes)\n",
        "print(\"Labels:\", label_names)\n",
        "\n",
        "# Generate a list of labels and path to text\n",
        "data_x = []\n",
        "data_y = []\n",
        "\n",
        "for label in label_names:\n",
        "  text_files = os.listdir(os.path.join(data_dir,label))\n",
        "  data_x.extend([os.path.join(data_dir,label,f) for f in text_files])\n",
        "  data_y.extend([label for f in text_files])\n",
        "\n",
        "# Preview\n",
        "print(\"data_x count:\",len(data_x))\n",
        "print(\"data_y count:\",len(data_y))\n",
        "print(data_x[:5])\n",
        "print(data_y[:5])\n",
        "\n",
        "# sns.countplot()\n",
        "# plt.show()\n",
        "np.unique(data_y, return_counts=True)"
      ],
      "execution_count": null,
      "outputs": [
        {
          "output_type": "stream",
          "text": [
            "Number of classes: 3\n",
            "Labels: ['politics', 'health', 'entertainment']\n",
            "data_x count: 920\n",
            "data_y count: 920\n",
            "['datasets/news300/politics/182.txt', 'datasets/news300/politics/96.txt', 'datasets/news300/politics/132.txt', 'datasets/news300/politics/19.txt', 'datasets/news300/politics/68.txt']\n",
            "['politics', 'politics', 'politics', 'politics', 'politics']\n"
          ],
          "name": "stdout"
        },
        {
          "output_type": "execute_result",
          "data": {
            "text/plain": [
              "(array(['entertainment', 'health', 'politics'], dtype='<U13'),\n",
              " array([310, 310, 300]))"
            ]
          },
          "metadata": {
            "tags": []
          },
          "execution_count": 21
        }
      ]
    },
    {
      "cell_type": "markdown",
      "metadata": {
        "id": "c6xECA0yolSt"
      },
      "source": [
        "#### View Text"
      ]
    },
    {
      "cell_type": "code",
      "metadata": {
        "id": "RopPe6yZomlE",
        "outputId": "c234d0f2-0db7-4d3c-d5a0-baa414eed48f",
        "colab": {
          "base_uri": "https://localhost:8080/",
          "height": 207
        }
      },
      "source": [
        "# Generate a random sample of index\n",
        "data_samples = np.random.randint(0,high=len(data_x)-1, size=10)\n",
        "for i,data_idx in enumerate(data_samples):\n",
        "  # Read text\n",
        "  txt = io_ops.read_file(data_x[data_idx])\n",
        "\n",
        "  print(\"Label:\",data_y[data_idx],\", Text:\",txt.numpy())"
      ],
      "execution_count": null,
      "outputs": [
        {
          "output_type": "stream",
          "text": [
            "Label: entertainment , Text: b'Jon Stewart tackles the union of money and politics in \\'Irresistible\\'  (CNN)Jon Stewart resurfaces with a politically savvy directorial effort, \"Irresistible,\" that\\'s a bit too heavy-handed to live up to its title. Delving into the corrosive influence of money on politics, Stewart\\'s second film exhibits passion for its topic and cleverly registers an important point before it\\'s over, but labors too much getting there. Reunited with his one-time \"The Daily Show\" colleague Steve Carell, Stewart picks off (and on) familiar targets. That begins with media excesses, from the hosts on Fox News to glimpses of a CNN panel with more pundits sharing the screen than \"Hollywood Squares.\" The main focus, however, is on political gamesmanship, embodied by consultant Gary Zimmer, played by Carell. Shown in pictures alongside Bill Clinton, it\\'s clear he possesses juice in Democratic circles, which makes his latest mission unlikely. Zimmer has identified a Wisconsin farmer (he\\'s introduced with the chyron \"Heartland USA\") who espouses progressive values in a viral video. That clip inspires Zimmer to convince the retired Marine colonel, Jack Hastings (Chris Cooper, at his aw-shucks best), to run for office in his small town. Why the small-potatoes candidate? Because it\\'s all part of a bigger game, using Jack to \"road test a moral rural-friendly message\" for the national stage, even if that means having to quiet cows in order to shoot folksy TV spots. This master plan, however, doesn\\'t evade detection, as a rival Republican consultant, Faith Brewster (Rose Byrne), descends on the town as well, mounting a counter-offensive. What ensues is a pitched battle between the two parties, throwing resources at a tiny hamlet where the residents -- among them Jack\\'s protective daughter (Mackenzie Davis) -- appear alternately mystified and bemused by the process. (The quality cast includes Topher Grace and Natasha Lyonne in smallish roles on the consultants side of the ledger.) After interrupting his \"Daily Show\" stint to direct the little-seen \"Rosewater,\" Stewart is on somewhat more commercial turf here. That said, the liveliest sequence actually comes during the closing credits, when Stewart appears on camera interviewing an election expert in what amounts to a tutorial about what you\\'ve just watched. Carell is fine, but the whole fish-out-of-water formula -- first with him in farm country, later with the colonel accompanying him on a fundraising trip to court big-city donors -- doesn\\'t feel particularly inspired. It\\'s too \"Green Acres\"-ish for its own good. In some respects, \"Irresistible\" is a victim of high expectations. It\\'s mostly entertaining, and reasonably smart; still, for those who miss Stewart spinning out lacerating satire four nights a week, this doesn\\'t rise a level that would justify giving that up, the grind of it all notwithstanding. Heading into campaign season, Stewart has certainly served up food for thought -- especially about the media-fueled transformation of politics into entertainment and tribal warfare. Like his advocacy for 9/11 first responders, he\\'s also made clear that he\\'s less interested in scoring partisan points than exposing systemic flaws, though it\\'s difficult to discuss the latter without wagging fingers at those responsible for them. Ultimately, though, \"Irresistible\" seeks to sway hearts and open minds, and perhaps inevitably winds up preaching -- and yes, that\\'s the operative term -- to the choir. As road tests go, Stewart\\'s movie passes inspection, but just barely. \"Irresistible\" premieres June 26 on demand.  '\n",
            "Label: entertainment , Text: b'Disney hit by backlash after thanking Xinjiang authorities in \\'Mulan\\' credits Hong Kong (CNN Business)Disney has publicly thanked a Chinese government agency accused of human rights abuses in Xinjiang for its help in making \"Mulan\" \\xe2\\x80\\x94 a revelation that has provoked a storm of criticism online.  Disney (DIS) acknowledges several Chinese government bodies in the credits for the live-action remake of the 1998 animated picture of the same name, but a few in particular have raised red flags: The Xinjiang government\\'s publicity department and the Public Security and Tourism bureaus for Turpan, a city of about 633,400 people just outside Xinjiang\\'s capital Urumqi. Disney did not respond to a request for comment from CNN Business to its media inquiry line, and to US press officers about the film and the credits. It\\'s not clear how much of \"Mulan\" may have been shot in Xinjiang, though people who worked on the movie have said on social media and in interviews that they scouted and filmed locations there.   The US State Department estimates that since 2015 as many as two million of the Muslim-majority Uyghurs and other Turkic minorities have been imprisoned in enormous re-education camps in Xinjiang.  The Turpan Public Security Bureau has been listed by the US government as an organization involved in \"human rights violations and abuses\" in the region. Beijing has long defended the crackdown in Xinjiang as necessary to tackle extremism and terrorism, and said it is in line with Chinese law and international practice, calling accusations of mass detentions a \"groundless lie\" and \"sensational rumor.\" A spokesperson for the country\\'s foreign ministry on Tuesday reiterated its defense of what it calls its Xinjiang \"vocational skills education and training centers.\" CNN Business has reached out to the Xinjiang government and Turpan\\'s tourism bureau, but Turpan\\'s Public Security bureau could not be reached for comment. \"There are no so-called concentration camps in Xinjiang,\" said China\\'s Foreign Ministry spokesperson Zhao Lijian. \"The establishment of vocational skills education and training centers in Xinjiang in accordance with the law is a useful attempt and active exploration for preventive counter-terrorism and de-radicalization.\" But the connections between Xinjiang and \"Mulan\" have ignited widespread criticism on social media since its release Friday on Disney+, the company\\'s streaming service. Human rights advocates are now calling on Disney to make public any agreements with the Chinese government over filming in the region. \"[It\\'s] deeply disturbing that Disney thought it was okay to partner with, and also thank, government departments, specifically propaganda departments, and a public security bureau from a region in China that is complicit with genocide,\" said Isaac Stone Fish, senior fellow at the Asia Society, a New York based non-profit organization focused on raising awareness of Asia. A film plagued by setbacks Disney hoped that \"Mulan\" would be a major success at the lucrative Chinese box office, now the second-largest in the world. The company spoke last year about its dedication to making the film culturally accurate \\xe2\\x80\\x94 remarks that were reported in Chinese state media.  \"We spent a lot of time in the beginning with scholars, experts and people from the region. And we spent a great deal of time in China,\" said Sean Bailey, president of Walt Disney Studios Motion Picture Production, at a Disney expo event last year, reported the state-run news agency Xinhua. Bailey added that the studio \"not only has a Chinese cast but also brought in a Chinese producer to make the movie with them,\" the outlet noted. Eschewing the musicality of Disney\\'s earlier animated feature of the same name, one box office analyst told CNN Business earlier this year that the live-action epic was \"tailor-made for success.\" But the film \\xe2\\x80\\x94 which is based on a traditional Chinese legend about a female warrior who disguised herself as a man and took her father\\'s place in the army \\xe2\\x80\\x94 has already faced controversy and setbacks.  In August 2019, pro-democracy activists in Hong Kong called for a boycott of \"Mulan\" after the lead actor expressed support for Hong Kong police on her social media account. \"I support the Hong Kong police. You can all attack me now. What a shame for Hong Kong,\" Liu Yifei, a Chinese-born US citizen who plays the titular Hua Mulan, posted to her official Weibo account. At the time, Hong Kong police faced allegations of excessive violence against protesters. (Hong Kong police defended their actions in September 2019, saying they had been \"so restrained.\") Then in March, Disney was forced to delay the film\\'s release as the coronavirus pandemic shuttered movie theaters. Even now, its rollout has been stilted. The film was released as a $30 video-on-demand last Friday on Disney+, which is only available in certain markets, including the United States. It makes its debut in Chinese theaters this weekend. (Disney+ is not available in China.) The release of the film has renewed the controversy surrounding it, however. Pro-democracy activists in Hong Kong, Thailand and Taiwan have once again called on people to boycott the film because of Liu\\'s remarks last year.   And it\\'s not even clear that the film will win over Chinese audiences, who were already chilly toward the original animated version because of its westernized flair and unfaithful retelling of the original legend. After the release of the trailer in 2019, Chinese state-run media Global Times criticized the film for using Japanese \"ninja gestures\" and Chinese stereotypes. Calls for transparency Allegations of human rights abuses in Xinjiang stretch back years.  In recent years, the Xinjiang government has allegedly undertaken a large campaign to imprison and re-educate Muslim minorities in the region, especially the large Uyghur population.  Evidence of widespread human rights abuse has trickled out from inside the region, including lengthy detentions, abuse, indoctrination and mass birth control \\xe2\\x80\\x94 which experts have described as evidence of \"genocide.\" In 2017, Mulan director Niki Caro posted a photo from Urumqi, the capital of Xinjiang and said she was scouting out locations for the film. And in an interview in September with Conde Nast traveler, Mulan production designer Grant Major discussed filming in Xinjiang\\'s Taklamakan Desert, in the region\\'s far southwest. Adrian Zenz, a leading academic at the Victims of Communism Foundation who has helped break major stories from Xinjiang, said that the earliest documented case of a re-education center in the region was in Turpan in 2013. Zenz said that while it was possible Disney didn\\'t know about the growing number of detention centers set up across Xinjiang, the widespread oppression in the region was impossible to miss. \"There were police stations and checkpoints all over Xinjiang by late 2016, not to be missed,\" he said. Foreign ministry spokesperson Zhao dismissed Zenz\\'s claims and accused him of making a living \"through making Xinjiang-related rumors and slandering China.\" He also claimed there had been no cases of violence or terrorism in Xinjiang for \"more than three consecutive years.\" Turpan was also the setting for one of the worst outbreaks of ethnic violence in Xinjiang in recent years, when 35 people died during an attack on a police station in Lukqun township, in 2013, according to state media. Yaqiu Wang, a China researcher for Human Rights Watch, called for Disney to disclose what assistance it had received from Xinjiang authorities and what agreements it had made with the regional government. And Asia Society fellow Stone Fish said that many companies were accustomed to making small concessions to the ruling Communist Party to access the Chinese market. \"Studios feel like they need to make these compromises to be in Beijing, but you can slightly censor your movies to get into the Chinese market, you can bring Chinese movies that shouldn\\'t be in the States because of poor quality or because of propaganda elements into the States. And you can do that and maintain your integrity, mostly intact,\" he said. \"You don\\'t need to take these extra steps that Disney is taking, and they\\'re rightly getting excoriated for it.\" Correction: An earlier version of this story misquoted Asia Society\\'s Isaac Stone Fish on who was partnering with Xinjiang authorities.  '\n",
            "Label: politics , Text: b'This Senate race shows you can *never* be too extreme in Trump\\'s GOP  (CNN)Just hours after the death of Supreme Court Justice Ruth Bader Ginsburg last Friday, Georgia Republican Rep. Doug Collins took to Twitter to offer his, um, thoughts. \"RIP to the more than 30 million innocent babies that have been murdered during the decades that Ruth Bader Ginsburg defended pro-abortion laws,\" tweeted Collins. \"With @realDonaldTrump nominating a replacement that values human life, generations of unborn children have a chance to live.\" Days later, Georgia Sen. Kelly Loeffler (R), who Collins is challenging for the seat this fall, launched an ad comparing her conservatism favorably to that of Attila the Hun. \"Did you know Kelly Loeffler was ranked the most conservative Senator in America,\" says a woman in the commercial. \"Yep, she\\'s s more conservative than Attila the Hun,\" replies a man. Cut to a guy dressed up like Attila (I guess), grunting out orders to an underling that include \"eliminate the liberal scribes.\" Those twin moments are (somewhat shocking) proof that there is no such thing as \"too extreme\" in the race to be the next Republican Senator from Georgia. Attack RBG\\'s views on abortion rights literally hours after she\\'s died? FINE!  Compare yourself to an ancient warrior legendary for his barbarity? VERY COOL! (Sidebar: Collins went after Loeffler for the Attila the Hun comparison -- but not for the reasons you think. \"FYI Attila the Hun was an open-borders globalist who killed Christians and practiced postnatal abortion,\" he tweeted.) Loeffler and Collins are also both relentlessly touting their ties to Trump in the race. The \"Attila\" ad ends with a narrator touting Loeffler\\'s \"100% Trump voting record\" while Collins has taken to calling himself \"President Trump\\'s top defender and preferred pick in this race.\" (Trump initially urged Gov. Brian Kemp to appoint Collins to the seat vacated by Sen. Johnny Isakson.) What this race to the ideological right makes clear is that both Collins and Loeffler believe that the sort of tough-guy, performance conservatism that Trump has pioneered over the past five years is the way into the hearts (and votes) of Republicans in Georgia. (It\\'s worth noting that Georgia is also the state that has produced Marjorie Taylor Greene, a Republican candidate for Congress who has made her name nationally with her embrace of QAnon and a Facebook image in which she is holding a gun next to images of Democratic Reps. Alexandria Ocasio-Cortez, Ilhan Omar, and Rashida Tlaib.) The race to be the most Trump-y between Loeffler and Collins is, at the minute, quite close. An Atlanta Journal-Constitution poll released this week showed Loeffler leading the way with 23.5% followed by Collins at 20.5% and Rev. Raphael Warnock (D) at 20.3%.  Because the seat is technically a special election to serve out the remaining years on Isakson\\'s term, all candidates -- Democrats and Republicans -- will appear on the same \"jungle primary\" ballot on November 3. If no one gets 50% of the vote, which is likely in the crowded field, the top two vote-getters advance to a January runoff for the seat. Both Loeffler and Collins believe that if they can make that runoff, they would be likely to win -- given Georgia\\'s traditional GOP tilt. (The Peach State is moving toward Democrats, however, and is considered a swing state in the presidential race this year.)  That both of them believe the only way to win over Republican voters is to try to out-Trump the other speaks to just how dominant a force the president has become in GOP politics -- even as his overall approval numbers and chances of being reelected in November have slipped badly.  '\n",
            "Label: health , Text: b'Will 2020 see a spike in AFM cases? Social distancing could have an impact, CDC says    (CNN)If acute flaccid myelitis or AFM follows its usual pattern, 2020 should be a year that sees a spike in US cases -- but the country hasn\\'t seen one yet, according to the US Centers for Disease Control and Prevention. It\\'s also unclear what impact Covid-19 will have on the rare polio-like condition, which affects the spinal cord and nerves, mostly in children. The CDC provided an update about AFM in its Grand Rounds meeting Tuesday. It tracks cases each day and has not seen a spike so far, but it may be too early to know. In past years, when there have been outbreaks, case numbers typically peak in September.  As of the end of June, the last time CDC reported numbers, there had been 13 cases in 2020 and 33 cases under investigation.  The first hallmark sign someone has AFM is sudden limb weakness. The polio-like condition occurs mostly in children who are otherwise healthy.  The progression of weakness can happen over hours to a number of days, and can lead to difficulty speaking and swallowing, or it can cause severe respiratory distress. It can also cause lesions on the spinal cord and permanent, sometimes life-threatening, paralysis. About 98% of AFM cases are hospitalized and 54% are placed in the ICU, according to the CDC. \"There is a great deal we don\\'t yet know,\" Dr. Anne Schuchat, principal deputy director of the CDC, said Tuesday. \"We want to do everything possible to learn more about recognizing, treating, and preventing AFM and helping families to heal.\" \"AFM is a CDC priority,\" Schuchat  added. It is clear that Covid-19 will have some impact on this AFM cycle, the CDC said. Social distancing and improved hand hygiene practices may reduce the number of AFM cases, said Dr. Janell Routh, medical officer and lead for the CDC\\'s AFM and Domestic Poliovirus Team.  \"These practices may result in a decease circulation of other viruses, including enteroviruses and, therefore, either decrease or delay AFM this year,\" Routh said. The pandemic may also impact how the country tracks how many cases there are. \"We don\\'t know if the Covid-19 epidemic will complicate detection and management, nor do we know if the social distancing efforts will reduce the risks of occurrence,\" said Schuchat. \"But we do know we need to be ready.\" The CDC and parent groups have been trying to raise awareness among doctors since it was first detected, as it had often been misdiagnosed, some studies have shown. One of the challenges of diagnosis is that the symptoms vary from person to person. It is unclear if some children are more susceptible to more severe forms of the disease. Studies are underway.  Most AFM cases start about a week after a child has had an infection, often involving a common cold virus called an enterovirus. In past years, there\\'s evidence to suggest the main cause is enterovirus D68, or EV-D68. The National Institute of Allergy and Infectious Diseases said at the briefing that it is in the early stages of development for a vaccine for that particular enterovirus. There is no vaccine for AFM and no cure for AFM, which appears to be a post-viral syndrome. Treatment only focuses on alleviating symptoms. Since 2014, when the CDC began tracking AFM in the United States, the agency noticed nationwide outbreaks seemed to occur every other year. There have been 630 confirmed cases since the CDC started tracking them. Patients often have long-term problems related to the condition. A retrospective analysis of AFM prior to 2014 showed that there were a small number of cases from year to year, but not these large peaks, suggesting something shifted regarding the nature of the condition. It\\'s still unclear what that might be. \"One thing we don\\'t understand about AFM is what changed in 2014 that would account for the rise of cases of AFM,\" Dr. Emily Erbelding said at the briefing. Erbelding is director of the division of microbiology and infectious disease at NIAID. Scientists, she said, also don\\'t understand why the cases spike every other year and whether it will be a pattern that the US will continue to see in the future. NIAID has launched a national study that is trying to get at more of these answers.  '\n",
            "Label: health , Text: b'Apple and pineapple slices among fruit at Walmart recalled due to listeria threat  (CNN)Packaged fruit sold by Walmart is being recalled due to a potential Listeria monocytogenes contamination. Country Fresh, which packages pre-cut apples, grapes, mangos, pineapples and cantaloupe for distribution to retailers such as Walmart, voluntary recalled the items after the US Food and Drug Administration discovered Listeria monocytogenes on equipment used in an area where the products are packaged. Listeria monocytogenes is an organism that is capable of causing serious and potentially fatal infections in young children, frail or elderly people, and others with weakened immune systems, according to the FDA. Healthy people may only suffer short-term symptoms such as high fever, severe headache, stiffness, nausea, abdominal pain and diarrhea. However, the FDA warns that it can cause miscarriages and stillbirths among pregnant women. The recall affects fresh fruit items that were sent to Walmart stores located in Arkansas, Illinois, Indiana, Kansas, Kentucky, Louisiana, Missouri, Oklahoma and Texas. The \"best if used by\" dates fall between October 3 and October 11, 2020, the FDA said. The FDA says that customers who have any recalled products on the list should not consume the items and should dispose of it immediately. Country Fresh has not reported any illnesses to date, but the products are being removed from store shelves and inventories immediately, according to the FDA.  '\n",
            "Label: health , Text: b'Abortion access thrown into jeopardy by coronavirus pandemic London (CNN)As the coronavirus pandemic sweeps the globe, women\\'s access to abortion has become one of many healthcare provisions thrown into jeopardy. Abortion provider Marie Stopes International, which operates across 37 countries, has warned of far-reaching impacts worldwide if women\\'s reproductive rights are not protected as governments limit citizens\\' activities. \"Our initial projections warn that unless governments act now, up to 9.5 million vulnerable women and girls risk losing access to our contraception and safe abortion services in 2020 due to the Covid-19 pandemic. The consequences would be devastating,\" it said in an online statement Friday. The organization estimates that disruption to its services due to the coronavirus could lead to an additional 3 million unintended pregnancies, 2.7 million unsafe abortions and 11,000 pregnancy-related deaths. In the US, several states\\' officials opted to include elective abortions in the medical procedures limited during the coronavirus outbreak. State officials say the steps are necessary to preserve protective supplies that are becoming increasingly precious as the pandemic worsens. But abortion-rights groups have decried the actions, saying officials are exploiting a public health crisis to advance a political agenda, and court battles continue. Federal judges in Texas, Ohio and Alabama moved last week to block those states\\' orders limiting elective abortions. While an appeals court then reversed course and temporarily allowed the Texas order to go into effect, another appeals court on Monday affirmed the lower court\\'s ruling blocking Ohio\\'s order. A federal judge also blocked a state executive order in Oklahoma on Monday limiting abortion access. The state said it would appeal. Thousands of miles away, in Italy\\'s worst-affected region, Lombardy, some struggling hospitals have closed their abortion services and are sending women to other hospitals for care, the head of a gynecologists\\' association that supports abortion rights told CNN late last month. The move has greatly complicated abortion access for women in those areas, said Dr. Silvana Agatone, president of LAIGA.  Although abortions are considered urgent medical interventions, under Italian law each region is allowed to handle the provision as it sees fit, Agatone said. Her group had not yet been able to speak with the health minister about a national response, she added. The Italian health ministry did not respond to CNN\\'s request for comment.  Meanwhile, two abortion rights advocate groups in Germany warned that women\\'s health and lives were being put at risk as restrictions on movement and counseling center closures limit their access to abortion services. The UK government caused confusion last month when it first announced that women in England would temporarily be allowed to access early medical abortion at home, rather than attending a clinic -- and then, hours later, reversed its decision.  A week later, the government guidance allowing women temporarily to access early medical abortion without traveling to a clinic was reinstated. UK changes  Abortion providers welcomed the UK government\\'s confirmation on March 30 that women in England seeking an abortion in the first 10 weeks of pregnancy could take both the pills needed for a termination at home rather than having to go to a clinic to take the first one. Wales and Scotland have also changed their policies to allow early medical abortion at home in the first trimester of pregnancy, up to 10 weeks and 12 weeks respectively. The British Pregnancy Advisory Service (BPAS), a charity which helps nearly 100,000 women a year with pregnancy counseling and abortion care, said it would keep people safer at a time when UK citizens are largely barred from leaving their homes. \"This will prevent tens of thousands of women from having to travel needlessly to clinics and will also enable many of our healthcare professionals to provide teleconsultations and prescriptions from the safety of their own homes,\" said BPAS Chief Executive Ann Furedi. BPAS confirmed on Twitter that it was launching its \"pills by post service\" on Wednesday, allowing women to access early abortion care at home. \"Telemedicine is a safe, effective method of delivering early abortion care and will prevent thousands of unnecessary journeys,\" it said. Marie Stopes International also welcomed the UK government\\'s move and said its branch there would provide remote services in Britain from April 6. New laws regarding abortion came into force in Northern Ireland on March 31 but do not include provision for allowing early medical abortion wholly at home. BPAS and Marie Stopes International called for policy makers urgently to review the situation. \"In Northern Ireland, abortion care is now lawful, but services have not yet been established and telemedical abortion care is not permitted under the regulations produced by the government last week,\" said Furedi, of BPAS. \"As a result, women are being forced to travel hundreds of miles via ferry and public transport to clinics in England at a time when they are also being told to stay at home to save lives.\"  \\'Acute risk\\' Meanwhile, abortions are still happening in Germany, according to CNN\\'s German affiliate RTL, but women face delays in accessing counseling centers -- a requirement there before terminating a pregnancy. Groups including abortion rights advocate organizations Pro Familia and Doctors for Choice wrote an open letter last month to doctors performing abortions in which they warned that \"access to abortions is now at acute risk\" because of the restrictions imposed to help contain the pandemic. Closures or reduced opening hours for counseling centers have led to serious delays for women seeking the required in-person counseling appointment before any abortion takes place, the letter warns. They may also struggle to get to clinics providing abortions because of travel restrictions.  These issues mean that women may no longer meet the legal deadline by which a legal termination is permitted, the letter states, and increases the risk that women will resort to \"unsafe abortion methods.\" The abortion rights advocate organizations urge federal and state governments and health insurers to make it possible for all women to seek advice by video call or telephone, rather than having to attend counseling appointments in person. CNN reached out to the German government for comment. France commits to access Officials in France and Spain have sought to reassure women that their reproductive healthcare rights will be protected. The head of France\\'s national health agency, J\\xc3\\xa9r\\xc3\\xb4me Salomon, insisted last month that the country\\'s abortion centers would remain open during the crisis despite tight restrictions on people\\'s movements. Salomon also stressed France\\'s commitment to ensuring women retain access to vital services during the country\\'s lockdown. \"We want to uphold women\\'s sexual and reproductive rights. Access to the contraceptive pill will be maintained. Medical monitoring for pregnancies must continue to be ensured, including the three necessary ultrasound scans. We are exploring the possibilities of doing this through video calls,\" he said. More than 100 health professionals involved in abortion provision put their names to a piece in French national newspaper Le Monde on March 31 calling for emergency measures regarding abortion. Their proposals included providing access to medical abortion at home until seven weeks of pregnancy, giving minors access to abortion straight after their first medical consultation, rather than after 48 hours, and allowing abortion up to 14 weeks of pregnancy, rather than 12. In Spain, the Association of Clinics Accredited for the Voluntary Interruption of Pregnancy tweeted that its clinics remained open because abortion is part of the country\\'s national health provision. \"It\\'s an urgent resource which cannot be postponed and should be attended to promptly,\" the association said. Other abortion clinics in Spain also tweeted that they were continuing their work. CNN\\'s Benjamin Berteau, Ingrid Formanek and Caroline Kelly contributed to this report. '\n",
            "Label: entertainment , Text: b'AMC Theatres could run out of money by the end of the year New York (CNN Business)Illustrating how dire the situation is for the movie theater industry, the world\\'s largest theater chain could run out of money by the end of the year. AMC Theatres said Tuesday that its existing cash resources would be \"largely depleted\" by the end of 2020 or early 2021 because of the \"reduced movie slate for the fourth quarter,\" as well as \"the absence of significant increases in attendance from current levels.\" The company said it has two ways out of its cash crisis: Either more customers need to buy tickets, or it will have to find new ways to borrow money.  Getting butts in seats has proven a major challenge. As of October 9, AMC reopened 494 of its nearly 600 US theaters at a seating capacity between 20% and 40%. But AMC (AMC) isn\\'t filling the limited seats it\\'s offering: Since the US theatrical market reopened in the late summer, it has served more than 2.2 million guests. That represents an attendance decline of 85% compared to last year. Boosting liquidity won\\'t be easy without a return to business-as-usual. It\\'s exploring additional debt financing, renegotiations with landlords, and even potential sales of assets. But AMC threw cold water on those options. \"There is a significant risk that these potential sources of liquidity will not be realized or that they will be insufficient to generate the material amounts of additional liquidity that would be required until the company is able to achieve more normalized levels of operating revenues,\" AMC said.  AMC\\'s stock fell about 6% Tuesday. The news of AMC\\'s cash crunch comes as the movie theater industry is struggling to survive during the pandemic. Cineworld Group, the owner of Regal Cinemas, said last week it would suspend operations at all of its theaters in the United States and the United Kingdom as cases continue to spread. And the US box office has seen anemic returns, which led to studios deciding to delay major films.  Films like Marvel\\'s \"Black Widow\" and the new James Bond title \"No Time to Die\" have been pushed to next year while Pixar\\'s \"Soul\" has been pulled from theaters entirely to debut on Disney\\'s streaming service, Disney+. Since shutting their doors in March, theaters have tried to reopen and do so with health measures to help curb the virus\\'s spread. Yet, the industry hasn\\'t been able to get back on its feet. Despite these challenges, AMC has said it will remain open. However, after Tuesday\\'s filing, we now know that it can likely only do so for a few more months.  '\n",
            "Label: entertainment , Text: b'Megan Thee Stallion makes Time\\'s list of 100 most influential people  (CNN)Megan Thee Stallion is most likely feeling \"All Dat\" after being named one of Time magazine\\'s 100 most influential people of 2020.  The 25-year-old rapper -- born Megan Jovon Ruth Pete -- is among the high-profile \"pioneers\" to feature on the prestigious list, which recognizes those who have impacted the world by \"harnessing the power of influence to forge genuine progress.\"  Explaining why the Houston native deserves a place among other high-profile names including Selena Gomez, Michaela Coel and Phoebe Waller-Bridge, Oscar-nominated actress Taraji P. Henson described Megan as \"the epitome of tenacity.\"  \"I don\\'t like to put the stigma of the word strong on Black women because I think it dehumanizes us,  but she has strength -- strength through vulnerability,\" the \"Empire\" star wrote in the special issue of Time.  \"It\\'s invigorating to see her become a platinum-selling artist with the viral hit \\'Hot Girl Summer\\' and multiple No. 1 songs in the past year, \\'Savage\\' and \\'WAP.\\' But you would be a fool to think that\\'s all there is to her. She\\'s deep.\"  Henson emphasized the influence Megan has had in the music industry in the early stages of her career.   \"She rode the beat like I\\'d never heard anybody ride the beat in a long time\\xe2\\x80\\x94and I\\'m a hip-hop head,\" Henson wrote.  Touching on Megan\\'s personal struggles, she continued: \"She\\'s lost much of her family -- her mother, her father, her grandmother -- yet she is the epitome of tenacity, of pulling herself up by her bootstraps. She was shot this summer, and still people tried to tear her down.\"  Henson concluded the piece by adding that despite the industry\\'s efforts to \"pigeonhole\" her, Megan\\'s \"got a plan that\\'s much bigger. And we got her. I just want her to keep winning.\"  Megan, who recently topped the Billboard 100 chart with \"WAP,\" her collaboration with fellow rapper Cardi B, celebrated the honor with her fans on Instagram Tuesday, writing: \"STILL I RISE \\xf0\\x9f\\x96\\xa4 YOUNG BLACK WOMAN FROM HOUSTON TEXAS ON THE COVER OF TIME MAGAZINE AS ONE OF THE MOST INFLUENTIAL PEOPLE IN THE WORLD.\"  Megan has every reason to celebrate after a sensational year that saw her take home the award for Best Hip Hop Video for her song \"Savage\" at the 2020 MTV VMA Awards, launch a viral TikTok challenge and collaborate with Beyonc\\xc3\\xa9 on the \"Savage\" remix for charity Other figures to be honored include The Weeknd, Michael B. Jordan, J Balvin, JoJo Siwa, Halsey, Jennifer Hudson, and Oscar-winning South Korean director Bong Joon Ho.  '\n",
            "Label: politics , Text: b'Mary Trump sues President and his siblings for fraud, calling it the family \\'way of life\\' New York (CNN)Mary Trump, President Donald Trump\\'s niece, filed a lawsuit Thursday accusing the President and his siblings of committing fraud in order to deprive her of her interests in the family real-estate empire built by Fred Trump Sr. In the lawsuit, filed in New York state court against the President, his sister Maryanne Trump Barry and the estate of their late brother Robert Trump, Mary Trump asserts that for the Trumps, \"fraud was not just the family business\\xe2\\x80\\x94it was a way of life.\" The lawsuit accuses her two uncles and her aunt, a retired federal judge, of conspiring amongst themselves and with several other parties, including a trustee appointed to act on Mary\\'s behalf, to give her \"a stack of fraudulent valuations\" and force her to sign a settlement agreement that \"fleeced her of tens of millions of dollars or more.\" \"Rather than protect Mary\\'s interests, they designed and carried out a complex scheme to siphon funds away from her interests, conceal their grift, and deceive her about the true value of what she had inherited,\" the lawsuit says. An attorney for the President, who is being sued in his personal capacity, didn\\'t immediately respond to a request for comment. Representatives for Barry and for the estate of Robert Trump didn\\'t immediately respond to requests for comment. Many of the accusations in the lawsuit have been made previously by Mary Trump, including in her July book, \"Too Much and Never Enough: How My Family Created the World\\'s Most Dangerous Man.\" In the book, she says she was cut out of her grandfather\\'s will as a result of her father\\'s death, with Robert Trump allegedly explaining to her that she was excluded because her father died of alcoholism, and wasn\\'t around to inherit a share of the fortune. She also says her grandfather disliked her mother. Mary Trump and her brother sued the Trump family, reaching a settlement including a non-disclosure agreement that Robert Trump, who died in August, tried and failed to enforce in advance of her book\\'s publication. Mary Trump also accused Donald Trump of trying to \"steal vast sums of money from his siblings\" by secretly trying to change his ailing father\\'s will to write his siblings out of control of the family\\'s fortune. Mary Trump was 16 years old at the time of her father\\'s death in 1981, and she and her brother, Fred Trump III, inherited minority interests in his vast real-estate holdings.  Because Mary was a teenager, the lawsuit says, a lawyer named Irwin Durben, who had been Trump Sr.\\'s attorney and an executive at Trump-related entities, was appointed to act as a trustee on her behalf.  But, according to the lawsuit, Durben, who died in 2016, was \"irredeemably conflicted,\" siding with Mary\\'s family members over her own interests, \"and ultimately acquiesced in Defendants\\' campaign to squeeze her out of the family business entirely.\" By the 1990s, with Trump Sr. suffering from Alzheimer\\'s, Mary Trump\\'s lawsuit alleges, his sons Donald and Robert and his daughter Maryanne at first competed with each other, \"with palace intrigue reminiscent of the HBO series Succession,\" but then worked together to advance their interests to the detriment of others. In 1991, Donald secretly approached Durben, according to the lawsuit, to get him to draft a codicil to give Donald complete control of his father\\'s estate, the lawsuit says. After his father rejected the codicil, Maryanne \"finished the job,\" securing a revised will that named her, Donald and Robert the executors of their father\\'s estate. According to Mary, they then devised and perpetrated three schemes.  In the first, according to the lawsuit, they allegedly siphoned value from her interests to entities they owned while portraying the transactions as legitimate business. In the second, the lawsuit says, they allegedly depressed the value of her interests using fraudulent appraisals and financial statements. And in the third, they allegedly pressured her into signing a settlement by threatening to bankrupt her interests and canceling the healthcare policy for her brother\\'s infant son, who was suffering from seizures and was later diagnosed with cerebral palsy, according to the suit. In addition to alleging the elder Trumps committed fraud, Mary Trump\\'s lawsuit accuses them of breaching their fiduciary duty and committing negligent misrepresentation. \"Through each of these schemes,\" the lawsuit says, \"Defendants not only deliberately defrauded Mary out of what was rightfully hers, they also kept her in the dark about it\\xe2\\x80\\x94until now.\"  '\n",
            "Label: politics , Text: b'Trump again refuses to denounce QAnon Washington (CNN)President Donald Trump doubled down on his refusal to denounce QAnon conspiracy theorists, saying in a nationally televised town hall Thursday night that \"they are very much against pedophilia\" and he agrees with that sentiment.  In a heated exchange, NBC News\\' Savannah Guthrie asked Trump if he could state that the prevailing conspiracy devised by QAnon was not true.  \"I know nothing about QAnon,\" Trump responded.  \"I just told you,\" Guthrie said.  Trump fired back, saying, \"What you tell me doesn\\'t necessarily make it fact.\"  QAnon\\'s main conspiracy theories -- none based in fact -- claim dozens of Satan-worshipping politicians and A-list celebrities work in tandem with governments around the globe to engage in child sex abuse. Followers also believe there is a \"deep state\" effort to annihilate Trump and that the President is secretly working to bust these pedophilic cabals. The President claimed that all he knows about the movement, which has had a prevalent presence at his campaign rallies, is that \"they are very much against pedophilia\" and that he agrees with that sentiment. Followers of the group -- which has been labeled a domestic terror threat by the FBI -- have also peddled baseless theories surrounding mass shootings and elections and have falsely claimed that 5G cellular networks are spreading the coronavirus. During the town hall, the President also tried to separate himself from his recent retweet of a conspiracy theory from an account linked to QAnon, which baselessly claimed that former Vice President Joe Biden orchestrated to have Seal Team Six killed to cover up the fake death of al Qaeda founder Osama bin Laden.  \"I know nothing about it,\" Trump claimed. \"That was a retweet -- that was an opinion of somebody. And that was a retweet. I\\'ll put it out there. People can decide for themselves.\"  But Guthrie responded: \"I don\\'t get that. You\\'re the President. You\\'re not like someone\\'s crazy uncle who can retweet whatever.\"  Trump has frequently used his social media platform to promote various QAnon-associated accounts and their related theories. He previously refused to condemn the group in August and went so far as to embrace their support.  \"I don\\'t know much about the movement other than I understand they like me very much, which I appreciate,\" Trump said in August.  \"I have heard that it\\'s gaining in popularity,\" Trump said, suggesting QAnon followers approved of how he\\'d handled social unrest in places such as Portland, Oregon. \"I\\'ve heard these are people that love our country and they just don\\'t like seeing it.\" The President has also defended his decision to endorse Republican congressional candidate Marjorie Taylor Greene in Georgia, despite her history of promoting QAnon theories and making racist and anti-Semitic remarks. Social media companies are facing pressure on whether they will be banning QAnon-related activity.  In August, Twitter removed a false claim about coronavirus death statistics that Trump had retweeted. And Facebook said earlier this month that it will ban any pages, groups, and Instagram accounts representing the conspiracy theory QAnon from its platform. YouTube CEO Susan Wojcicki has stopped short of pledging to ban QAnon followers from its website,\" saying the company is \"looking very closely\" at the group and that YouTube has \"already implemented a large number of different policies\" related to the issue.  CNN\\'s Kevin Liptak contributed to this report. '\n"
          ],
          "name": "stdout"
        }
      ]
    },
    {
      "cell_type": "markdown",
      "metadata": {
        "id": "d8T9aAfmorBg"
      },
      "source": [
        "#### Build Data Pipelines"
      ]
    },
    {
      "cell_type": "markdown",
      "metadata": {
        "id": "Kukjuxd-osbm"
      },
      "source": [
        "##### Text Vectorization\n",
        "\n",
        "[Reference](https://www.tensorflow.org/api_docs/python/tf/keras/layers/experimental/preprocessing/TextVectorization)\n",
        "\n",
        "Generate Text Vector:\n",
        "- Standardize each sample (usually lowercasing + punctuation stripping)\n",
        "- Split each sample into substrings (usually words)\n",
        "- Recombine substrings into tokens (usually ngrams)\n",
        "- Index tokens (associate a unique int value with each token)\n",
        "- Transform each sample using this index, either into a vector of ints or a dense float vector"
      ]
    },
    {
      "cell_type": "code",
      "metadata": {
        "id": "XvorBrkfowL3",
        "outputId": "f7814043-103d-491b-fda3-e71b48269428",
        "colab": {
          "base_uri": "https://localhost:8080/",
          "height": 51
        }
      },
      "source": [
        "# Text Vectorization\n",
        "def standardize_text(input_text):\n",
        "  # Convert to lowercase\n",
        "  lowercase = tf.strings.lower(input_text)\n",
        "  # Remove HTML tags\n",
        "  stripped_html = tf.strings.regex_replace(lowercase, \"<br />\", \" \")\n",
        "  return tf.strings.regex_replace(\n",
        "      stripped_html, \"[%s]\" % re.escape(string.punctuation), \"\"\n",
        "  )\n",
        "\n",
        "# Load Text\n",
        "def load_text(path, label=None):\n",
        "  text = io_ops.read_file(path)\n",
        "  if label is None:\n",
        "    return text\n",
        "  else:\n",
        "    return text, label\n",
        "\n",
        "# Feature constraints\n",
        "max_features = 15000\n",
        "sequence_length = 1000\n",
        "\n",
        "# Initialize Text Vectorizer\n",
        "text_vectorizer = TextVectorization(\n",
        "    standardize=standardize_text,\n",
        "    max_tokens=max_features,\n",
        "    output_mode=\"int\",\n",
        "    output_sequence_length=sequence_length,\n",
        ")\n",
        "\n",
        "# Create the vocabulary of entire dataset\n",
        "text_data = tf.data.Dataset.from_tensor_slices(data_x)\n",
        "text_data = text_data.map(load_text, num_parallel_calls=AUTOTUNE)\n",
        "\n",
        "# Generate Text Vector\n",
        "start_time = time.time()\n",
        "text_vectorizer.adapt(text_data.batch(64))\n",
        "execution_time = (time.time() - start_time)/60.0\n",
        "print(\"Execution time (mins)\",execution_time)\n",
        "\n",
        "# Get Vocabulary\n",
        "vocabulary = text_vectorizer.get_vocabulary()\n",
        "vocabulary_size = len(vocabulary)\n",
        "print(\"Vocabulary Size:\",vocabulary_size)\n",
        "# Generate word index\n",
        "word_index = dict(zip(vocabulary, range(vocabulary_size)))"
      ],
      "execution_count": null,
      "outputs": [
        {
          "output_type": "stream",
          "text": [
            "Execution time (mins) 0.010395503044128418\n",
            "Vocabulary Size: 15000\n"
          ],
          "name": "stdout"
        }
      ]
    },
    {
      "cell_type": "code",
      "metadata": {
        "id": "OJ1YJUCDo4T3",
        "outputId": "c51b0604-479b-49c4-df77-ad110448de79",
        "colab": {
          "base_uri": "https://localhost:8080/",
          "height": 156
        }
      },
      "source": [
        "# Check Vocabulary : 0 is reserved for padding and index 1 is reserved for \"out of vocabulary\" tokens\n",
        "print(\"Vocabulary:\",vocabulary[:20])\n",
        "print(\"Vocabulary Size:\",len(vocabulary))\n",
        "\n",
        "# Test our text vectorizer\n",
        "test_text = txt = io_ops.read_file(data_x[data_samples[0]])\n",
        "print(test_text)\n",
        "test_text_vector = text_vectorizer([test_text.numpy()])\n",
        "print(\"Shape:\",test_text_vector.shape)\n",
        "print(test_text_vector[0,:20])"
      ],
      "execution_count": null,
      "outputs": [
        {
          "output_type": "stream",
          "text": [
            "Vocabulary: ['', '[UNK]', 'the', 'to', 'and', 'of', 'a', 'in', 'that', 'for', 'is', 'on', 'said', 'with', 'as', 'it', 'have', 'are', 'be', 'at']\n",
            "Vocabulary Size: 15000\n",
            "tf.Tensor(b'Jon Stewart tackles the union of money and politics in \\'Irresistible\\'  (CNN)Jon Stewart resurfaces with a politically savvy directorial effort, \"Irresistible,\" that\\'s a bit too heavy-handed to live up to its title. Delving into the corrosive influence of money on politics, Stewart\\'s second film exhibits passion for its topic and cleverly registers an important point before it\\'s over, but labors too much getting there. Reunited with his one-time \"The Daily Show\" colleague Steve Carell, Stewart picks off (and on) familiar targets. That begins with media excesses, from the hosts on Fox News to glimpses of a CNN panel with more pundits sharing the screen than \"Hollywood Squares.\" The main focus, however, is on political gamesmanship, embodied by consultant Gary Zimmer, played by Carell. Shown in pictures alongside Bill Clinton, it\\'s clear he possesses juice in Democratic circles, which makes his latest mission unlikely. Zimmer has identified a Wisconsin farmer (he\\'s introduced with the chyron \"Heartland USA\") who espouses progressive values in a viral video. That clip inspires Zimmer to convince the retired Marine colonel, Jack Hastings (Chris Cooper, at his aw-shucks best), to run for office in his small town. Why the small-potatoes candidate? Because it\\'s all part of a bigger game, using Jack to \"road test a moral rural-friendly message\" for the national stage, even if that means having to quiet cows in order to shoot folksy TV spots. This master plan, however, doesn\\'t evade detection, as a rival Republican consultant, Faith Brewster (Rose Byrne), descends on the town as well, mounting a counter-offensive. What ensues is a pitched battle between the two parties, throwing resources at a tiny hamlet where the residents -- among them Jack\\'s protective daughter (Mackenzie Davis) -- appear alternately mystified and bemused by the process. (The quality cast includes Topher Grace and Natasha Lyonne in smallish roles on the consultants side of the ledger.) After interrupting his \"Daily Show\" stint to direct the little-seen \"Rosewater,\" Stewart is on somewhat more commercial turf here. That said, the liveliest sequence actually comes during the closing credits, when Stewart appears on camera interviewing an election expert in what amounts to a tutorial about what you\\'ve just watched. Carell is fine, but the whole fish-out-of-water formula -- first with him in farm country, later with the colonel accompanying him on a fundraising trip to court big-city donors -- doesn\\'t feel particularly inspired. It\\'s too \"Green Acres\"-ish for its own good. In some respects, \"Irresistible\" is a victim of high expectations. It\\'s mostly entertaining, and reasonably smart; still, for those who miss Stewart spinning out lacerating satire four nights a week, this doesn\\'t rise a level that would justify giving that up, the grind of it all notwithstanding. Heading into campaign season, Stewart has certainly served up food for thought -- especially about the media-fueled transformation of politics into entertainment and tribal warfare. Like his advocacy for 9/11 first responders, he\\'s also made clear that he\\'s less interested in scoring partisan points than exposing systemic flaws, though it\\'s difficult to discuss the latter without wagging fingers at those responsible for them. Ultimately, though, \"Irresistible\" seeks to sway hearts and open minds, and perhaps inevitably winds up preaching -- and yes, that\\'s the operative term -- to the choir. As road tests go, Stewart\\'s movie passes inspection, but just barely. \"Irresistible\" premieres June 26 on demand.  ', shape=(), dtype=string)\n",
            "Shape: (1, 1000)\n",
            "tf.Tensor(\n",
            "[ 3173  2602  9713     2  2038     5   828     4  1089     7  7977     1\n",
            "  2602     1    13     6  3524 11570  9245   680], shape=(20,), dtype=int64)\n"
          ],
          "name": "stdout"
        }
      ]
    },
    {
      "cell_type": "markdown",
      "metadata": {
        "id": "-gB_Pjafo_3u"
      },
      "source": [
        "##### Split Data"
      ]
    },
    {
      "cell_type": "code",
      "metadata": {
        "id": "mxLpp0rtpBdL",
        "outputId": "9f87b103-812f-4199-f795-d381d477a577",
        "colab": {
          "base_uri": "https://localhost:8080/",
          "height": 51
        }
      },
      "source": [
        "validation_percent = 0.20\n",
        "\n",
        "# Split data into train / validate\n",
        "train_x, validate_x, train_y, validate_y = train_test_split(data_x, data_y, test_size=validation_percent)\n",
        "\n",
        "print(\"train_x count:\",len(train_x))\n",
        "print(\"validate_x count:\",len(validate_x))"
      ],
      "execution_count": null,
      "outputs": [
        {
          "output_type": "stream",
          "text": [
            "train_x count: 736\n",
            "validate_x count: 184\n"
          ],
          "name": "stdout"
        }
      ]
    },
    {
      "cell_type": "markdown",
      "metadata": {
        "id": "n39BMWSZpCVu"
      },
      "source": [
        "##### Create TF Dataset"
      ]
    },
    {
      "cell_type": "code",
      "metadata": {
        "id": "rBVWbGLdpHr1",
        "outputId": "2b548875-b328-4f63-fe22-846c0bc7dd48",
        "colab": {
          "base_uri": "https://localhost:8080/",
          "height": 51
        }
      },
      "source": [
        "batch_size = 64\n",
        "\n",
        "# Convert all y labels to numbers\n",
        "train_processed_y = [label2index[label] for label in train_y]\n",
        "validate_processed_y = [label2index[label] for label in validate_y]\n",
        "\n",
        "# Converts to y to binary class matrix (One-hot-encoded)\n",
        "train_processed_y = to_categorical(train_processed_y, num_classes=num_classes, dtype='float32')\n",
        "validate_processed_y = to_categorical(validate_processed_y, num_classes=num_classes, dtype='float32')\n",
        "\n",
        "# Vectorize Text\n",
        "def vectorize_text(text, label=None):\n",
        "  text = tf.expand_dims(text, -1)\n",
        "  text = text_vectorizer(text)\n",
        "  if label is None:\n",
        "    return text\n",
        "  else:\n",
        "    return text, label\n",
        "\n",
        "# Create TF Dataset\n",
        "train_data = tf.data.Dataset.from_tensor_slices((train_x, train_processed_y))\n",
        "validation_data = tf.data.Dataset.from_tensor_slices((validate_x, validate_processed_y))\n",
        "\n",
        "#############\n",
        "# Train data\n",
        "#############\n",
        "# Apply all data processing logic\n",
        "train_data = train_data.map(load_text, num_parallel_calls=AUTOTUNE)\n",
        "train_data = train_data.batch(batch_size)\n",
        "train_data = train_data.map(vectorize_text, num_parallel_calls=AUTOTUNE)\n",
        "train_data = train_data.cache().prefetch(buffer_size=100)\n",
        "\n",
        "##################\n",
        "# Validation data\n",
        "##################\n",
        "# Apply all data processing logic\n",
        "validation_data = validation_data.map(load_text, num_parallel_calls=AUTOTUNE)\n",
        "validation_data = validation_data.batch(batch_size)\n",
        "validation_data = validation_data.map(vectorize_text, num_parallel_calls=AUTOTUNE)\n",
        "validation_data = validation_data.cache().prefetch(buffer_size=100)\n",
        "\n",
        "print(\"train_data\",train_data)\n",
        "print(\"validation_data\",validation_data)"
      ],
      "execution_count": null,
      "outputs": [
        {
          "output_type": "stream",
          "text": [
            "train_data <PrefetchDataset shapes: ((None, 1000), (None, 3)), types: (tf.int64, tf.float32)>\n",
            "validation_data <PrefetchDataset shapes: ((None, 1000), (None, 3)), types: (tf.int64, tf.float32)>\n"
          ],
          "name": "stdout"
        }
      ]
    },
    {
      "cell_type": "markdown",
      "metadata": {
        "id": "gPkX7B4u2KR8"
      },
      "source": [
        "## Questions:\n",
        "\n",
        "**All data preparation steps have been performed and you can continue to building models in following questions**\n",
        "\n",
        "Note on dataset input sizes:\n",
        "```\n",
        "# Feature constraints\n",
        "max_features = 15000\n",
        "sequence_length = 1000\n",
        "```"
      ]
    },
    {
      "cell_type": "markdown",
      "metadata": {
        "id": "sxroASIWUTYQ"
      },
      "source": [
        "## Question 1 : Build a text classification model using FFNN (0.5 Point)"
      ]
    },
    {
      "cell_type": "markdown",
      "metadata": {
        "id": "9b6P0tpzUpnB"
      },
      "source": [
        "#### a) Build a Text Classification Model\n",
        "\n",
        "- Build the model using a few `Dense` layers\n",
        "- Input size is `1000`\n",
        "- Do **NOT** use the `Embedding` layer in your model\n",
        "- Use `categorical_crossentropy` loss\n",
        "- Ensure there is a plot of your training history"
      ]
    },
    {
      "cell_type": "code",
      "metadata": {
        "id": "RlpzEq6rXrqr"
      },
      "source": [
        "inputs = tf.keras.Input(shape=(None, sequence_length))\n",
        "x = layers.Dense(128, activation='relu')(inputs)\n",
        "x = layers.Dense(64, activation='relu')(x)\n",
        "x = layers.Dense(32, activation='relu')(x)\n",
        "x = layers.Dense(16, activation='relu')(x)\n",
        "x = layers.Dropout(0.2)(x)\n",
        "predictions = layers.Dense(3, activation='softmax', name='predictions')(x)\n",
        "model = tf.keras.Model(inputs, predictions)\n",
        "model.compile(loss=\"categorical_crossentropy\", optimizer=\"adam\", metrics=[\"accuracy\"])\n",
        "model.summary()\n",
        "epochs = 100\n",
        "training_results = model.fit(train_data, validation_data=validation_data, epochs=epochs)\n",
        "\n",
        "evaluate_model(model, validation_data, training_results)"
      ],
      "execution_count": null,
      "outputs": []
    },
    {
      "cell_type": "markdown",
      "metadata": {
        "id": "M7gaTNoR2kOm"
      },
      "source": [
        "#### b) How is the performance of your model?"
      ]
    },
    {
      "cell_type": "markdown",
      "metadata": {
        "id": "wi_hF-r32pBO"
      },
      "source": [
        "\n",
        "\n",
        "```\n",
        "# This is formatted as code\n",
        "```\n",
        "\n",
        "*Your answer here*\n",
        "\n",
        "the validation accurancy plateau at `0.42`, barely better than the baseline of `0.33`.\n",
        "\n",
        "the reasons are as follows:\n",
        "1. we are not using one of the textual techniques, such as `rnn` or `lstm`, so that we can't derive meanings from the context, to name just one of the drawbacks\n",
        "2. the text features will take a lot of processing to learn. have a somewhat shallow neural net with < 200K weights are not going to suffice. \n",
        "\n",
        "this points to natually transfer learning, where the text features have already been learned."
      ]
    },
    {
      "cell_type": "markdown",
      "metadata": {
        "id": "p0GvjJEGpOd8"
      },
      "source": [
        "## Question 2 : Build a text classification model with embeddings (1.0 Point)"
      ]
    },
    {
      "cell_type": "markdown",
      "metadata": {
        "id": "9vXzb_Kv4ZrO"
      },
      "source": [
        "#### a) Preliminary Questions \n",
        "\n",
        "- Explain what is the purpose of the `Embedding` Layer ? \n",
        "- Name two reasons why using one-hot encoded vectors instead is not the way to go\n",
        "- Explain what the inputs and outputs of the `Embedding` Layer are. Also comment on the dimension going in and what is coming out\n"
      ]
    },
    {
      "cell_type": "markdown",
      "metadata": {
        "id": "ZP8jul2yqS4c"
      },
      "source": [
        "*Your answer here*\n",
        "\n",
        "1. the embedding layer esssentially assigns a vector (embedding) to each word, which hopefully captures and represents the meaning of a word. in this sense, the related or similar words will be closer together, whereas the distant words will be far apart.\n",
        "2. the reason one-hot embedding is not the way to go \n",
        "\n",
        "   1. it will result in huge-dimensional data that the input large and sparse and unsuitable for extracting features. for example, with a vocabulary sized at 15000, it will result in a 15000 * 1000 = 15M matrix to just represent a text. it is not practical for computation.\n",
        "   2. one-hot also doesn't capture the meaning of a word and it can not be trained in the neural network.\n",
        "\n",
        "3. the input of the embedding layer will be a 1000-element vector, with each element representing a word in the text. the output will be a 768 * 1000 matrix (assuming the embedding size is 768, which may for some embeddings 1024 or others) "
      ]
    },
    {
      "cell_type": "markdown",
      "metadata": {
        "id": "Y4YGeSsFpaZa"
      },
      "source": [
        "#### b) Build a Text Classification Model\n",
        "\n",
        "- You need to include the `Embedding` layer in your model\n",
        "- Following the `Embedding` layer you can use `Conv1D` or `LSTM`\n",
        "- Use loss of `categorical_crossentropy`\n",
        "- Ensure there is a plot of your training history\n",
        "\n"
      ]
    },
    {
      "cell_type": "code",
      "metadata": {
        "id": "FB-7Z04PpbmQ",
        "outputId": "4b62c5c1-eac8-40ed-eacf-24bc73af7f77",
        "colab": {
          "base_uri": "https://localhost:8080/",
          "height": 1000
        }
      },
      "source": [
        "# inputs = tf.keras.Input(shape=(None, sequence_length))\n",
        "embedding_dim = 100\n",
        "\n",
        "inputs = tf.keras.Input(shape=(None,))\n",
        "\n",
        "# Next, we add a layer to map those vocab indices into a space of dimensionality\n",
        "# 'embedding_dim'.\n",
        "x = layers.Embedding(max_features, embedding_dim, name=\"embedding\")(inputs)\n",
        "x = layers.Dropout(0.5)(x)\n",
        "\n",
        "# Conv1D + global max pooling\n",
        "x = layers.Conv1D(embedding_dim, 7, padding=\"valid\", activation=\"relu\", strides=3)(x)\n",
        "x = layers.Conv1D(embedding_dim, 7, padding=\"valid\", activation=\"relu\", strides=3)(x)\n",
        "x = layers.GlobalMaxPooling1D()(x)\n",
        "\n",
        "# We add a vanilla hidden layer:\n",
        "x = layers.Dense(embedding_dim, activation=\"relu\")(x)\n",
        "x = layers.Dropout(0.5)(x)\n",
        "\n",
        "# We project onto a single unit output layer, and squash it with a sigmoid:\n",
        "predictions = layers.Dense(3, activation=\"softmax\", name=\"predictions\")(x)\n",
        "\n",
        "model = tf.keras.Model(inputs, predictions)\n",
        "\n",
        "# Compile the model with binary crossentropy loss and an adam optimizer.\n",
        "model.compile(loss=\"categorical_crossentropy\", optimizer=\"adam\", metrics=[\"accuracy\"])\n",
        "\n",
        "model.summary()\n",
        "epochs = 10\n",
        "training_results = model.fit(train_data, validation_data=validation_data, epochs=epochs)\n",
        "\n",
        "evaluate_model(model, validation_data, training_results)\n"
      ],
      "execution_count": null,
      "outputs": [
        {
          "output_type": "stream",
          "text": [
            "Model: \"functional_15\"\n",
            "_________________________________________________________________\n",
            "Layer (type)                 Output Shape              Param #   \n",
            "=================================================================\n",
            "input_10 (InputLayer)        [(None, None)]            0         \n",
            "_________________________________________________________________\n",
            "embedding (Embedding)        (None, None, 100)         1500000   \n",
            "_________________________________________________________________\n",
            "dropout_11 (Dropout)         (None, None, 100)         0         \n",
            "_________________________________________________________________\n",
            "conv1d_8 (Conv1D)            (None, None, 100)         70100     \n",
            "_________________________________________________________________\n",
            "conv1d_9 (Conv1D)            (None, None, 100)         70100     \n",
            "_________________________________________________________________\n",
            "global_max_pooling1d_4 (Glob (None, 100)               0         \n",
            "_________________________________________________________________\n",
            "dense_17 (Dense)             (None, 100)               10100     \n",
            "_________________________________________________________________\n",
            "dropout_12 (Dropout)         (None, 100)               0         \n",
            "_________________________________________________________________\n",
            "predictions (Dense)          (None, 3)                 303       \n",
            "=================================================================\n",
            "Total params: 1,650,603\n",
            "Trainable params: 1,650,603\n",
            "Non-trainable params: 0\n",
            "_________________________________________________________________\n",
            "Epoch 1/10\n",
            "12/12 [==============================] - 1s 58ms/step - loss: 1.0959 - accuracy: 0.3641 - val_loss: 1.0793 - val_accuracy: 0.5163\n",
            "Epoch 2/10\n",
            "12/12 [==============================] - 1s 43ms/step - loss: 1.0711 - accuracy: 0.4538 - val_loss: 1.0425 - val_accuracy: 0.5163\n",
            "Epoch 3/10\n",
            "12/12 [==============================] - 1s 44ms/step - loss: 1.0387 - accuracy: 0.5014 - val_loss: 1.0214 - val_accuracy: 0.5163\n",
            "Epoch 4/10\n",
            "12/12 [==============================] - 1s 42ms/step - loss: 1.0184 - accuracy: 0.4783 - val_loss: 0.9908 - val_accuracy: 0.5707\n",
            "Epoch 5/10\n",
            "12/12 [==============================] - 1s 43ms/step - loss: 0.9865 - accuracy: 0.5122 - val_loss: 0.9397 - val_accuracy: 0.6413\n",
            "Epoch 6/10\n",
            "12/12 [==============================] - 1s 42ms/step - loss: 0.8867 - accuracy: 0.5842 - val_loss: 0.8198 - val_accuracy: 0.6957\n",
            "Epoch 7/10\n",
            "12/12 [==============================] - 1s 42ms/step - loss: 0.7307 - accuracy: 0.6807 - val_loss: 0.6847 - val_accuracy: 0.7283\n",
            "Epoch 8/10\n",
            "12/12 [==============================] - 1s 43ms/step - loss: 0.5852 - accuracy: 0.7704 - val_loss: 0.6375 - val_accuracy: 0.7554\n",
            "Epoch 9/10\n",
            "12/12 [==============================] - 1s 43ms/step - loss: 0.4673 - accuracy: 0.8152 - val_loss: 0.6233 - val_accuracy: 0.7609\n",
            "Epoch 10/10\n",
            "12/12 [==============================] - 0s 42ms/step - loss: 0.3778 - accuracy: 0.8777 - val_loss: 0.5628 - val_accuracy: 0.7880\n"
          ],
          "name": "stdout"
        },
        {
          "output_type": "display_data",
          "data": {
            "image/png": "[encoded data removed]",
            "text/plain": [
              "<Figure size 1080x360 with 2 Axes>"
            ]
          },
          "metadata": {
            "tags": [],
            "needs_background": "light"
          }
        },
        {
          "output_type": "stream",
          "text": [
            "3/3 [==============================] - 0s 8ms/step - loss: 0.5628 - accuracy: 0.7880\n",
            "Evaluation Results: [0.5628077387809753, 0.7880434989929199]\n"
          ],
          "name": "stdout"
        }
      ]
    },
    {
      "cell_type": "markdown",
      "metadata": {
        "id": "QLTLTK8WAD66"
      },
      "source": [
        "#### c) Save Embedding layer weights\n",
        "\n",
        "- Save the weights of your embedding layer\n",
        "- The weights will be used in Question 4\n",
        "- Feel free to use the code below to extract layer weights\n",
        "\n",
        "```\n",
        "# Get the Embedding Layer\n",
        "embedding_layer_no_tl = model.get_layer(name=\"embedding\")\n",
        "embedding_layer_no_tl_weights = embedding_layer_no_tl.get_weights()[0]\n",
        "print(embedding_layer_no_tl_weights.shape)\n",
        "```"
      ]
    },
    {
      "cell_type": "code",
      "metadata": {
        "id": "i-n8bpLlAEH0",
        "outputId": "a193814c-bc72-46f5-c392-263e42835b34",
        "colab": {
          "base_uri": "https://localhost:8080/",
          "height": 34
        }
      },
      "source": [
        "embedding_layer_no_tl = model.get_layer(name=\"embedding\")\n",
        "embedding_layer_no_tl_weights = embedding_layer_no_tl.get_weights()[0]\n",
        "print(embedding_layer_no_tl_weights.shape)"
      ],
      "execution_count": null,
      "outputs": [
        {
          "output_type": "stream",
          "text": [
            "(15000, 100)\n"
          ],
          "name": "stdout"
        }
      ]
    },
    {
      "cell_type": "markdown",
      "metadata": {
        "id": "WLdpf5LJp10a"
      },
      "source": [
        "---\n",
        "\n",
        "## Question 3 : Build a text classification model with pre-trained embeddings (2.5 Point)"
      ]
    },
    {
      "cell_type": "markdown",
      "metadata": {
        "id": "S3RE7PN52i8x"
      },
      "source": [
        "#### a) Preliminary Questions \n",
        "\n",
        "\n",
        "- How is using pre-trained word embedding adding knowledge to the model? (Use an example if needed) \n",
        "\n",
        "- Provide a scenario where retraining the pre-trained embedding layer may be needed"
      ]
    },
    {
      "cell_type": "markdown",
      "metadata": {
        "id": "p9CpcUKmqImj"
      },
      "source": [
        "*Your answer here*\n",
        "\n",
        "1. Word Embeddings are vectors that represent the meanings of various words. Pretrained Word Embeddings are the embeddings learned in one task that are used for solving another similar task. With the limited training data that we have, it is close to impossbile to derive complete meanings. Word2Vec and GloVe are pretrained on a very large corpus so that it should be more accurate in capturing the meanings of various words. \n",
        "2. Retrain the pretrained embedding may be needed for domains where common words have specialized meanings. for example, normally the word `python` means a snake, but if the corpus is computer science and programming, then the word mostly likely means computer programming language. in which case, retrain your model in the computer science corpus will help. \n"
      ]
    },
    {
      "cell_type": "markdown",
      "metadata": {
        "id": "KuYeyaS_sFKp"
      },
      "source": [
        "#### b) Build a Text Classifcation Model using pre-trained word embeddings\n",
        "\n",
        "- Build a Text Classification Model\n",
        "- You need to include the `Embedding` layer in your model\n",
        "- The `Embedding` layer should have its weights loaded from any **pre-trained word embeddings** such as Glove, Word2Vec, FastText etc.\n",
        "- [Example](https://medium.com/@ppasumarthi_69210/word-embeddings-in-keras-be6bb3092831) of how to load pre-trained word embeddings for Word2Vec\n",
        "- [Example](https://keras.io/examples/nlp/pretrained_word_embeddings/) of how to load pre-trained word embeddings for Glove\n",
        "- [Example](https://www.kaggle.com/vsmolyakov/keras-cnn-with-fasttext-embeddings) of how to load pre-trained word embeddings for FastText\n",
        "- Make the `Embedding` layer as `trainable=False`\n",
        "- Following the `Embedding` layer you can use `Conv1D` or `LSTM`\n",
        "- Use loss of `categorical_crossentropy`\n",
        "- Ensure there is a plot of your training history"
      ]
    },
    {
      "cell_type": "code",
      "metadata": {
        "id": "XRxO4O5ft9zg",
        "outputId": "fd19307b-f2ff-4b1a-d584-2af5ff99d750",
        "colab": {
          "base_uri": "https://localhost:8080/",
          "height": 357
        }
      },
      "source": [
        "!wget http://nlp.stanford.edu/data/glove.6B.zip\n",
        "!unzip -q glove.6B.zip"
      ],
      "execution_count": null,
      "outputs": [
        {
          "output_type": "stream",
          "text": [
            "--2020-10-24 14:04:26--  http://nlp.stanford.edu/data/glove.6B.zip\n",
            "Resolving nlp.stanford.edu (nlp.stanford.edu)... 171.64.67.140\n",
            "Connecting to nlp.stanford.edu (nlp.stanford.edu)|171.64.67.140|:80... connected.\n",
            "HTTP request sent, awaiting response... 302 Found\n",
            "Location: https://nlp.stanford.edu/data/glove.6B.zip [following]\n",
            "--2020-10-24 14:04:26--  https://nlp.stanford.edu/data/glove.6B.zip\n",
            "Connecting to nlp.stanford.edu (nlp.stanford.edu)|171.64.67.140|:443... connected.\n",
            "HTTP request sent, awaiting response... 301 Moved Permanently\n",
            "Location: http://downloads.cs.stanford.edu/nlp/data/glove.6B.zip [following]\n",
            "--2020-10-24 14:04:26--  http://downloads.cs.stanford.edu/nlp/data/glove.6B.zip\n",
            "Resolving downloads.cs.stanford.edu (downloads.cs.stanford.edu)... 171.64.64.22\n",
            "Connecting to downloads.cs.stanford.edu (downloads.cs.stanford.edu)|171.64.64.22|:80... connected.\n",
            "HTTP request sent, awaiting response... 200 OK\n",
            "Length: 862182613 (822M) [application/zip]\n",
            "Saving to: ‘glove.6B.zip’\n",
            "\n",
            "glove.6B.zip        100%[===================>] 822.24M  2.08MB/s    in 6m 28s  \n",
            "\n",
            "2020-10-24 14:10:54 (2.12 MB/s) - ‘glove.6B.zip’ saved [862182613/862182613]\n",
            "\n"
          ],
          "name": "stdout"
        }
      ]
    },
    {
      "cell_type": "code",
      "metadata": {
        "id": "X5Pg0wUC8x05"
      },
      "source": [
        "embeddings_index = {}\n",
        "with open('glove.6B.100d.txt') as f:\n",
        "    for line in f:\n",
        "        word, coefs = line.split(maxsplit=1)\n",
        "        coefs = np.fromstring(coefs, \"f\", sep=\" \")\n",
        "        embeddings_index[word] = coefs\n",
        "\n",
        "embedding_dim = len(embeddings_index['hello'])"
      ],
      "execution_count": null,
      "outputs": []
    },
    {
      "cell_type": "code",
      "metadata": {
        "id": "sqbcK2or9F53",
        "outputId": "ae08a20b-2cf3-43ee-fa7a-eef2f18ac83d",
        "colab": {
          "base_uri": "https://localhost:8080/",
          "height": 34
        }
      },
      "source": [
        "embedding_matrix = np.zeros((max_features, embedding_dim))\n",
        "hits, misses = 0, 0\n",
        "for i, word in enumerate(vocabulary):\n",
        "    embedding_vector = embeddings_index.get(word)\n",
        "    if embedding_vector is not None:\n",
        "        embedding_matrix[i] = embedding_vector\n",
        "        hits += 1\n",
        "    else:\n",
        "        misses += 1\n",
        "\n",
        "print(\"Converted %d words (%d misses)\" % (hits, misses))\n",
        "\n",
        "from tensorflow.keras.layers import Embedding\n",
        "\n",
        "embedding_layer = Embedding(\n",
        "    max_features,\n",
        "    embedding_dim,\n",
        "    embeddings_initializer=keras.initializers.Constant(embedding_matrix),\n",
        "    trainable=False,\n",
        ")"
      ],
      "execution_count": null,
      "outputs": [
        {
          "output_type": "stream",
          "text": [
            "Converted 14094 words (906 misses)\n"
          ],
          "name": "stdout"
        }
      ]
    },
    {
      "cell_type": "code",
      "metadata": {
        "id": "POlSltrFBD0j",
        "outputId": "070754e8-6c58-4b47-e36d-e5ba63aac1d1",
        "colab": {
          "base_uri": "https://localhost:8080/",
          "height": 1000
        }
      },
      "source": [
        "embedding_dim = 768\n",
        "\n",
        "inputs = tf.keras.Input(shape=(None,))\n",
        "\n",
        "# Next, we add a layer to map those vocab indices into a space of dimensionality\n",
        "# 'embedding_dim'.\n",
        "# x = embedding_layer(max_features, embedding_dim, name=\"embedding\")(inputs)\n",
        "x = embedding_layer(inputs)\n",
        "x = layers.Dropout(0.5)(x)\n",
        "\n",
        "# Conv1D + global max pooling\n",
        "x = layers.Conv1D(embedding_dim, 7, padding=\"valid\", activation=\"relu\", strides=3)(x)\n",
        "x = layers.Conv1D(embedding_dim, 7, padding=\"valid\", activation=\"relu\", strides=3)(x)\n",
        "x = layers.GlobalMaxPooling1D()(x)\n",
        "\n",
        "# We add a vanilla hidden layer:\n",
        "x = layers.Dense(embedding_dim, activation=\"relu\")(x)\n",
        "x = layers.Dropout(0.5)(x)\n",
        "\n",
        "# We project onto a single unit output layer, and squash it with a sigmoid:\n",
        "predictions = layers.Dense(3, activation=\"softmax\", name=\"predictions\")(x)\n",
        "\n",
        "model = tf.keras.Model(inputs, predictions)\n",
        "\n",
        "# Compile the model with binary crossentropy loss and an adam optimizer.\n",
        "model.compile(loss=\"categorical_crossentropy\", optimizer=\"adam\", metrics=[\"accuracy\"])\n",
        "\n",
        "model.summary()\n",
        "epochs = 10\n",
        "training_results = model.fit(train_data, validation_data=validation_data, epochs=epochs)\n",
        "\n",
        "evaluate_model(model, validation_data, training_results)\n"
      ],
      "execution_count": null,
      "outputs": [
        {
          "output_type": "stream",
          "text": [
            "Model: \"functional_13\"\n",
            "_________________________________________________________________\n",
            "Layer (type)                 Output Shape              Param #   \n",
            "=================================================================\n",
            "input_9 (InputLayer)         [(None, None)]            0         \n",
            "_________________________________________________________________\n",
            "embedding_2 (Embedding)      (None, None, 100)         1500000   \n",
            "_________________________________________________________________\n",
            "dropout_9 (Dropout)          (None, None, 100)         0         \n",
            "_________________________________________________________________\n",
            "conv1d_6 (Conv1D)            (None, None, 768)         538368    \n",
            "_________________________________________________________________\n",
            "conv1d_7 (Conv1D)            (None, None, 768)         4129536   \n",
            "_________________________________________________________________\n",
            "global_max_pooling1d_3 (Glob (None, 768)               0         \n",
            "_________________________________________________________________\n",
            "dense_16 (Dense)             (None, 768)               590592    \n",
            "_________________________________________________________________\n",
            "dropout_10 (Dropout)         (None, 768)               0         \n",
            "_________________________________________________________________\n",
            "predictions (Dense)          (None, 3)                 2307      \n",
            "=================================================================\n",
            "Total params: 6,760,803\n",
            "Trainable params: 5,260,803\n",
            "Non-trainable params: 1,500,000\n",
            "_________________________________________________________________\n",
            "Epoch 1/10\n",
            "12/12 [==============================] - 1s 90ms/step - loss: 1.9283 - accuracy: 0.3261 - val_loss: 1.0983 - val_accuracy: 0.3207\n",
            "Epoch 2/10\n",
            "12/12 [==============================] - 1s 76ms/step - loss: 1.0890 - accuracy: 0.3927 - val_loss: 1.0854 - val_accuracy: 0.5870\n",
            "Epoch 3/10\n",
            "12/12 [==============================] - 1s 76ms/step - loss: 1.0239 - accuracy: 0.5965 - val_loss: 0.8786 - val_accuracy: 0.7391\n",
            "Epoch 4/10\n",
            "12/12 [==============================] - 1s 76ms/step - loss: 0.6127 - accuracy: 0.7948 - val_loss: 0.3955 - val_accuracy: 0.8478\n",
            "Epoch 5/10\n",
            "12/12 [==============================] - 1s 76ms/step - loss: 0.4153 - accuracy: 0.8302 - val_loss: 0.3545 - val_accuracy: 0.8315\n",
            "Epoch 6/10\n",
            "12/12 [==============================] - 1s 76ms/step - loss: 0.3179 - accuracy: 0.8709 - val_loss: 0.3295 - val_accuracy: 0.8696\n",
            "Epoch 7/10\n",
            "12/12 [==============================] - 1s 77ms/step - loss: 0.2657 - accuracy: 0.9062 - val_loss: 0.3156 - val_accuracy: 0.8967\n",
            "Epoch 8/10\n",
            "12/12 [==============================] - 1s 77ms/step - loss: 0.2568 - accuracy: 0.9158 - val_loss: 0.3349 - val_accuracy: 0.9022\n",
            "Epoch 9/10\n",
            "12/12 [==============================] - 1s 76ms/step - loss: 0.2074 - accuracy: 0.9321 - val_loss: 0.2952 - val_accuracy: 0.9185\n",
            "Epoch 10/10\n",
            "12/12 [==============================] - 1s 77ms/step - loss: 0.1751 - accuracy: 0.9443 - val_loss: 0.2740 - val_accuracy: 0.9130\n"
          ],
          "name": "stdout"
        },
        {
          "output_type": "display_data",
          "data": {
            "image/png": "[encoded data removed]",
            "text/plain": [
              "<Figure size 1080x360 with 2 Axes>"
            ]
          },
          "metadata": {
            "tags": [],
            "needs_background": "light"
          }
        },
        {
          "output_type": "stream",
          "text": [
            "3/3 [==============================] - 0s 17ms/step - loss: 0.2740 - accuracy: 0.9130\n",
            "Evaluation Results: [0.27404549717903137, 0.9130434989929199]\n"
          ],
          "name": "stdout"
        }
      ]
    },
    {
      "cell_type": "markdown",
      "metadata": {
        "id": "9woLmZeUrI1c"
      },
      "source": [
        "#### c) Save Embedding layer weights\n",
        "\n",
        "- Save the weights of your embedding layer\n",
        "- The weights will be used in Question 4\n",
        "- Feel free to use the code below to extract layer weights\n",
        "\n",
        "```\n",
        "# Get the Embedding Layer\n",
        "embedding_layer_tl = model.get_layer(name=\"embedding\")\n",
        "\n",
        "embedding_layer_tl_weights = embedding_layer_tl.get_weights()[0]\n",
        "print(embedding_layer_tl_weights.shape)\n",
        "```"
      ]
    },
    {
      "cell_type": "code",
      "metadata": {
        "id": "8kLaYhvg7Z-A",
        "outputId": "bfd74091-f3f1-4a1a-b6cf-11436c90990e",
        "colab": {
          "base_uri": "https://localhost:8080/",
          "height": 34
        }
      },
      "source": [
        "embedding_layer_tl = model.layers[1]\n",
        " \n",
        "embedding_layer_tl_weights = embedding_layer_tl.get_weights()[0]\n",
        "print(embedding_layer_tl_weights.shape)"
      ],
      "execution_count": null,
      "outputs": [
        {
          "output_type": "stream",
          "text": [
            "(15000, 100)\n"
          ],
          "name": "stdout"
        }
      ]
    },
    {
      "cell_type": "markdown",
      "metadata": {
        "id": "Vh20OCuGsFna"
      },
      "source": [
        "---\n",
        "\n",
        "## Question 4 : Analysing Word Embeddings (1.0 Point)"
      ]
    },
    {
      "cell_type": "markdown",
      "metadata": {
        "id": "NEptG_2NuRiE"
      },
      "source": [
        "Feel free to use these functions for this question:\n",
        "\n",
        "```\n",
        "def find_similar(words, word_index, vocabulary, embedding_layer_weights, topn=5):\n",
        "  subset_word_index  = []\n",
        "  for word in words:\n",
        "    subset_word_index.append(word_index[word])\n",
        "  \n",
        "  cs_op = cosine_similarity(embedding_layer_weights[subset_word_index], embedding_layer_weights)\n",
        "  for idx in range(len(words)):\n",
        "    top = cs_op[idx].argsort()[-topn:][::-1]\n",
        "    for i,t in enumerate(top):\n",
        "      if i ==0:\n",
        "        print(\"Similar words for:\",vocabulary[t])\n",
        "      else:\n",
        "        print(\"    \",vocabulary[t])\n",
        "\n",
        "def find_analogy(word_a, word_b, word_c, word_index, vocabulary, embedding_layer_weights, topn=5):\n",
        "  idx_a = word_index[word_a]\n",
        "  idx_b = word_index[word_b]\n",
        "  idx_c = word_index[word_c]\n",
        "\n",
        "  # Vectors\n",
        "  vec_a = embedding_layer_weights[idx_a]\n",
        "  vec_b = embedding_layer_weights[idx_b]\n",
        "  vec_c = embedding_layer_weights[idx_c]\n",
        "\n",
        "  op = vec_b - vec_a + vec_c\n",
        "  cs_op = cosine_similarity([op], embedding_layer_weights)\n",
        "  top = cs_op[0].argsort()[-topn:][::-1]\n",
        "\n",
        "  print(word_b,\"-\",word_a,\"+\", word_c, \"=\")\n",
        "  for i,t in enumerate(top):\n",
        "    print(\"   \",vocabulary[t])\n",
        "```"
      ]
    },
    {
      "cell_type": "markdown",
      "metadata": {
        "id": "QMCL8MHbuC-J"
      },
      "source": [
        "#### a) Finding Semantically similar words\n",
        "\n",
        "- We want to find words that are semantically similar to the following words: ```['covid19','election','2020','pandemic','quarantine']```\n",
        "- Run the function `find_similar(...)` and display the results for embedding weights from question 2 and question 3"
      ]
    },
    {
      "cell_type": "code",
      "metadata": {
        "id": "aJnFtfXn0UDQ"
      },
      "source": [
        "def find_similar(words, word_index, vocabulary, embedding_layer_weights, topn=5):\n",
        "  subset_word_index  = []\n",
        "  for word in words:\n",
        "    subset_word_index.append(word_index[word])\n",
        " \n",
        "  cs_op = cosine_similarity(embedding_layer_weights[subset_word_index], embedding_layer_weights)\n",
        "  for idx in range(len(words)):\n",
        "    top = cs_op[idx].argsort()[-topn:][::-1]\n",
        "    for i,t in enumerate(top):\n",
        "      if i ==0:\n",
        "        print(\"Similar words for:\",vocabulary[t])\n",
        "      else:\n",
        "        print(\"    \",vocabulary[t])\n",
        " \n",
        "def find_analogy(word_a, word_b, word_c, word_index, vocabulary, embedding_layer_weights, topn=5):\n",
        "  idx_a = word_index[word_a]\n",
        "  idx_b = word_index[word_b]\n",
        "  idx_c = word_index[word_c]\n",
        " \n",
        "  # Vectors\n",
        "  vec_a = embedding_layer_weights[idx_a]\n",
        "  vec_b = embedding_layer_weights[idx_b]\n",
        "  vec_c = embedding_layer_weights[idx_c]\n",
        " \n",
        "  op = vec_b - vec_a + vec_c\n",
        "  cs_op = cosine_similarity([op], embedding_layer_weights)\n",
        "  top = cs_op[0].argsort()[-topn:][::-1]\n",
        " \n",
        "  print(word_b,\"-\",word_a,\"+\", word_c, \"=\")\n",
        "  for i,t in enumerate(top):\n",
        "    print(\"   \",vocabulary[t])"
      ],
      "execution_count": null,
      "outputs": []
    },
    {
      "cell_type": "code",
      "metadata": {
        "id": "tXH2svtEEYJj",
        "outputId": "a110824b-5c5d-42ac-cad8-3d776c0ccdef",
        "colab": {
          "base_uri": "https://localhost:8080/",
          "height": 442
        }
      },
      "source": [
        "words = ['covid19','election','2020','pandemic','quarantine']\n",
        "\n",
        "find_similar(words, word_index, vocabulary, embedding_layer_no_tl_weights, topn=5)"
      ],
      "execution_count": null,
      "outputs": [
        {
          "output_type": "stream",
          "text": [
            "Similar words for: covid19\n",
            "     emergency\n",
            "     researchers\n",
            "     infection\n",
            "     kerkhove\n",
            "Similar words for: election\n",
            "     utha\n",
            "     biden\n",
            "     pledge\n",
            "     immunity\n",
            "Similar words for: 2020\n",
            "     methodology\n",
            "     bethesda\n",
            "     monthslong\n",
            "     ruth\n",
            "Similar words for: pandemic\n",
            "     great\n",
            "     7th\n",
            "     exchanged\n",
            "     restrictions\n",
            "Similar words for: quarantine\n",
            "     visiting\n",
            "     percentage\n",
            "     désert\n",
            "     cnnhouse\n"
          ],
          "name": "stdout"
        }
      ]
    },
    {
      "cell_type": "code",
      "metadata": {
        "id": "M7QAvVAPy5Vc",
        "outputId": "9ba08e79-363f-494d-b7e1-53dd8b9c633a",
        "colab": {
          "base_uri": "https://localhost:8080/",
          "height": 442
        }
      },
      "source": [
        "find_similar(words, word_index, vocabulary, embedding_layer_tl_weights, topn=5)"
      ],
      "execution_count": null,
      "outputs": [
        {
          "output_type": "stream",
          "text": [
            "Similar words for: oldest\n",
            "     steroid\n",
            "     skeptical\n",
            "     slowed\n",
            "     solely\n",
            "Similar words for: election\n",
            "     elections\n",
            "     vote\n",
            "     polls\n",
            "     electoral\n",
            "Similar words for: 2020\n",
            "     2015\n",
            "     2050\n",
            "     2030\n",
            "     2017\n",
            "Similar words for: pandemic\n",
            "     influenza\n",
            "     flu\n",
            "     epidemic\n",
            "     h1n1\n",
            "Similar words for: quarantine\n",
            "     inspection\n",
            "     quarantined\n",
            "     sars\n",
            "     poultry\n"
          ],
          "name": "stdout"
        }
      ]
    },
    {
      "cell_type": "markdown",
      "metadata": {
        "id": "VCaqjkLIycBU"
      },
      "source": [
        "- Explain your results, does the similar words have any real world similarity?\n",
        "- Explain the results of the word `covid19` from learned embeddings weights vs pre-trained embeddings weights"
      ]
    },
    {
      "cell_type": "markdown",
      "metadata": {
        "id": "b9r3yelLzoV-"
      },
      "source": [
        "\n",
        "\n",
        "```\n",
        "# This is formatted as code\n",
        "```\n",
        "\n",
        "*Your answer here*\n",
        "\n",
        "it appears that the words have real world similarity in GloVe's case, except the new words, such as `Covid`. the trained embedding is not accurate at all, except for `election` and `covid`\n",
        "\n",
        "this indicates that the accurancy and relevancy of embeddings has a lot to do with the data that it was trained on. the principle is that the more and the more up-to-date, the more effective/accurate the embeddings are.\n",
        "\n",
        "`covid19` is not in the vocabulary of pretrained embedding GloVe before the embeddings were trained prior to Covid 19. so while the pretrained embedding just doesn't return anything meaningful, the embedding that is training by the latest news artciles are able to return some very relative results.\n"
      ]
    },
    {
      "cell_type": "markdown",
      "metadata": {
        "id": "jDDNOoeVtWPI"
      },
      "source": [
        "#### b) Finding Analogies\n",
        "\n",
        "- Word embeddings can be used to find analogies between words. For example, “man” is to “woman” as “son” is to “daughter” is an example of analogy, \n",
        "- Let us verify the `male-female` analogy\n",
        "- Run the function `find_analogy(...)` and display the results for embedding weights from question 2 and question 3"
      ]
    },
    {
      "cell_type": "code",
      "metadata": {
        "id": "KvNc1ydA2bir",
        "outputId": "e0b56197-c5a6-4980-a35e-491496817a7c",
        "colab": {
          "base_uri": "https://localhost:8080/",
          "height": 119
        }
      },
      "source": [
        "#find_analogy('man', 'woman', 'son',...) for learned embeddings weights\n",
        "\n",
        "find_analogy('man', 'woman', 'son', word_index, vocabulary, embedding_layer_no_tl_weights, topn=5)\n"
      ],
      "execution_count": null,
      "outputs": [
        {
          "output_type": "stream",
          "text": [
            "woman - man + son =\n",
            "    woman\n",
            "    son\n",
            "    playwright\n",
            "    firsthand\n",
            "    rachel\n"
          ],
          "name": "stdout"
        }
      ]
    },
    {
      "cell_type": "code",
      "metadata": {
        "id": "JVcKsiQQ0WaF",
        "outputId": "61447b0a-e85b-4299-b7c2-2411c8372a78",
        "colab": {
          "base_uri": "https://localhost:8080/",
          "height": 119
        }
      },
      "source": [
        "find_analogy('man', 'woman', 'son', word_index, vocabulary, embedding_layer_tl_weights, topn=5)\n"
      ],
      "execution_count": null,
      "outputs": [
        {
          "output_type": "stream",
          "text": [
            "woman - man + son =\n",
            "    daughter\n",
            "    son\n",
            "    wife\n",
            "    mother\n",
            "    father\n"
          ],
          "name": "stdout"
        }
      ]
    },
    {
      "cell_type": "markdown",
      "metadata": {
        "id": "8fOUmp59yL-C"
      },
      "source": [
        "- Explain your results, does word analogies work in both cases?"
      ]
    },
    {
      "cell_type": "markdown",
      "metadata": {
        "id": "F8ITHfNA0tY5"
      },
      "source": [
        "*Your answer here*\n",
        "\n",
        "the word analogy works quite well with the pretrained embedding, because the pretrained embedding is more accurate, whereas the non-pretrained one is less so because it didn't have enough training data to capture the relationships and accurate vector representation of each word.\n",
        "\n"
      ]
    },
    {
      "cell_type": "code",
      "metadata": {
        "id": "SwR2-ovpJOgP"
      },
      "source": [
        ""
      ],
      "execution_count": null,
      "outputs": []
    }
  ]
}