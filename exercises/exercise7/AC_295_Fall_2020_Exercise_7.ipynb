{
  "nbformat": 4,
  "nbformat_minor": 0,
  "metadata": {
    "colab": {
      "name": "Copy of AC 295 Fall 2020 Exercise 7.ipynb",
      "provenance": [],
      "collapsed_sections": [
        "aNoQXuvWxiOZ",
        "-ceFPHhfZlLq",
        "eTg9MWFYtEk7",
        "2ehhLBsZtHH0",
        "kJe8HU_CtRCW",
        "mshzP5vetVqI",
        "0rhkLpzqtg8R",
        "hW_MeOmStjoy",
        "SQno1a1Atqjq",
        "PxhqIHteuffp",
        "-RRozUGMYutx"
      ],
      "toc_visible": true
    },
    "kernelspec": {
      "name": "python3",
      "display_name": "Python 3"
    },
    "widgets": {
      "application/vnd.jupyter.widget-state+json": {
        "2127353ca03e4af0948a70958d531b51": {
          "model_module": "@jupyter-widgets/controls",
          "model_name": "HBoxModel",
          "state": {
            "_view_name": "HBoxView",
            "_dom_classes": [],
            "_model_name": "HBoxModel",
            "_view_module": "@jupyter-widgets/controls",
            "_model_module_version": "1.5.0",
            "_view_count": null,
            "_view_module_version": "1.5.0",
            "box_style": "",
            "layout": "IPY_MODEL_93bbc4a850044a6bb7f297c6d2b91915",
            "_model_module": "@jupyter-widgets/controls",
            "children": [
              "IPY_MODEL_c99b072cda174ef58023b04914432cc2",
              "IPY_MODEL_9773228ffd5e480194c8d9a4858f0169"
            ]
          }
        },
        "93bbc4a850044a6bb7f297c6d2b91915": {
          "model_module": "@jupyter-widgets/base",
          "model_name": "LayoutModel",
          "state": {
            "_view_name": "LayoutView",
            "grid_template_rows": null,
            "right": null,
            "justify_content": null,
            "_view_module": "@jupyter-widgets/base",
            "overflow": null,
            "_model_module_version": "1.2.0",
            "_view_count": null,
            "flex_flow": null,
            "width": null,
            "min_width": null,
            "border": null,
            "align_items": null,
            "bottom": null,
            "_model_module": "@jupyter-widgets/base",
            "top": null,
            "grid_column": null,
            "overflow_y": null,
            "overflow_x": null,
            "grid_auto_flow": null,
            "grid_area": null,
            "grid_template_columns": null,
            "flex": null,
            "_model_name": "LayoutModel",
            "justify_items": null,
            "grid_row": null,
            "max_height": null,
            "align_content": null,
            "visibility": null,
            "align_self": null,
            "height": null,
            "min_height": null,
            "padding": null,
            "grid_auto_rows": null,
            "grid_gap": null,
            "max_width": null,
            "order": null,
            "_view_module_version": "1.2.0",
            "grid_template_areas": null,
            "object_position": null,
            "object_fit": null,
            "grid_auto_columns": null,
            "margin": null,
            "display": null,
            "left": null
          }
        },
        "c99b072cda174ef58023b04914432cc2": {
          "model_module": "@jupyter-widgets/controls",
          "model_name": "FloatProgressModel",
          "state": {
            "_view_name": "ProgressView",
            "style": "IPY_MODEL_1dba92875f104109a5a58a75c8bc2dfe",
            "_dom_classes": [],
            "description": "Downloading: 100%",
            "_model_name": "FloatProgressModel",
            "bar_style": "success",
            "max": 231508,
            "_view_module": "@jupyter-widgets/controls",
            "_model_module_version": "1.5.0",
            "value": 231508,
            "_view_count": null,
            "_view_module_version": "1.5.0",
            "orientation": "horizontal",
            "min": 0,
            "description_tooltip": null,
            "_model_module": "@jupyter-widgets/controls",
            "layout": "IPY_MODEL_8fde34f0a31d4f419e41de6a5761627c"
          }
        },
        "9773228ffd5e480194c8d9a4858f0169": {
          "model_module": "@jupyter-widgets/controls",
          "model_name": "HTMLModel",
          "state": {
            "_view_name": "HTMLView",
            "style": "IPY_MODEL_ce7d70ebd8204156b257aa6fd8baed88",
            "_dom_classes": [],
            "description": "",
            "_model_name": "HTMLModel",
            "placeholder": "​",
            "_view_module": "@jupyter-widgets/controls",
            "_model_module_version": "1.5.0",
            "value": " 232k/232k [00:00&lt;00:00, 1.34MB/s]",
            "_view_count": null,
            "_view_module_version": "1.5.0",
            "description_tooltip": null,
            "_model_module": "@jupyter-widgets/controls",
            "layout": "IPY_MODEL_ef11859a233e4cddb4a5c5bc07d4403b"
          }
        },
        "1dba92875f104109a5a58a75c8bc2dfe": {
          "model_module": "@jupyter-widgets/controls",
          "model_name": "ProgressStyleModel",
          "state": {
            "_view_name": "StyleView",
            "_model_name": "ProgressStyleModel",
            "description_width": "initial",
            "_view_module": "@jupyter-widgets/base",
            "_model_module_version": "1.5.0",
            "_view_count": null,
            "_view_module_version": "1.2.0",
            "bar_color": null,
            "_model_module": "@jupyter-widgets/controls"
          }
        },
        "8fde34f0a31d4f419e41de6a5761627c": {
          "model_module": "@jupyter-widgets/base",
          "model_name": "LayoutModel",
          "state": {
            "_view_name": "LayoutView",
            "grid_template_rows": null,
            "right": null,
            "justify_content": null,
            "_view_module": "@jupyter-widgets/base",
            "overflow": null,
            "_model_module_version": "1.2.0",
            "_view_count": null,
            "flex_flow": null,
            "width": null,
            "min_width": null,
            "border": null,
            "align_items": null,
            "bottom": null,
            "_model_module": "@jupyter-widgets/base",
            "top": null,
            "grid_column": null,
            "overflow_y": null,
            "overflow_x": null,
            "grid_auto_flow": null,
            "grid_area": null,
            "grid_template_columns": null,
            "flex": null,
            "_model_name": "LayoutModel",
            "justify_items": null,
            "grid_row": null,
            "max_height": null,
            "align_content": null,
            "visibility": null,
            "align_self": null,
            "height": null,
            "min_height": null,
            "padding": null,
            "grid_auto_rows": null,
            "grid_gap": null,
            "max_width": null,
            "order": null,
            "_view_module_version": "1.2.0",
            "grid_template_areas": null,
            "object_position": null,
            "object_fit": null,
            "grid_auto_columns": null,
            "margin": null,
            "display": null,
            "left": null
          }
        },
        "ce7d70ebd8204156b257aa6fd8baed88": {
          "model_module": "@jupyter-widgets/controls",
          "model_name": "DescriptionStyleModel",
          "state": {
            "_view_name": "StyleView",
            "_model_name": "DescriptionStyleModel",
            "description_width": "",
            "_view_module": "@jupyter-widgets/base",
            "_model_module_version": "1.5.0",
            "_view_count": null,
            "_view_module_version": "1.2.0",
            "_model_module": "@jupyter-widgets/controls"
          }
        },
        "ef11859a233e4cddb4a5c5bc07d4403b": {
          "model_module": "@jupyter-widgets/base",
          "model_name": "LayoutModel",
          "state": {
            "_view_name": "LayoutView",
            "grid_template_rows": null,
            "right": null,
            "justify_content": null,
            "_view_module": "@jupyter-widgets/base",
            "overflow": null,
            "_model_module_version": "1.2.0",
            "_view_count": null,
            "flex_flow": null,
            "width": null,
            "min_width": null,
            "border": null,
            "align_items": null,
            "bottom": null,
            "_model_module": "@jupyter-widgets/base",
            "top": null,
            "grid_column": null,
            "overflow_y": null,
            "overflow_x": null,
            "grid_auto_flow": null,
            "grid_area": null,
            "grid_template_columns": null,
            "flex": null,
            "_model_name": "LayoutModel",
            "justify_items": null,
            "grid_row": null,
            "max_height": null,
            "align_content": null,
            "visibility": null,
            "align_self": null,
            "height": null,
            "min_height": null,
            "padding": null,
            "grid_auto_rows": null,
            "grid_gap": null,
            "max_width": null,
            "order": null,
            "_view_module_version": "1.2.0",
            "grid_template_areas": null,
            "object_position": null,
            "object_fit": null,
            "grid_auto_columns": null,
            "margin": null,
            "display": null,
            "left": null
          }
        }
      }
    }
  },
  "cells": [
    {
      "cell_type": "markdown",
      "metadata": {
        "id": "aNoQXuvWxiOZ"
      },
      "source": [
        "<h1 style=\"padding-top: 25px;padding-bottom: 25px;text-align: left; padding-left: 10px; background-color: #DDDDDD; \n",
        "    color: black;\"> <img style=\"float: left; padding-right: 10px; width: 45px\" src=\"https://raw.githubusercontent.com/Harvard-IACS/2018-CS109A/master/content/styles/iacs.png\"> AC295: Advanced Practical Data Science </h1>\n",
        "\n",
        "## Attention and Transformers\n",
        "\n",
        "**Harvard University, Fall 2020**  \n",
        "**Instructors**: Pavlos Protopapas  \n",
        "\n",
        "---"
      ]
    },
    {
      "cell_type": "markdown",
      "metadata": {
        "id": "79nMnGpqZkmf"
      },
      "source": [
        "**Each assignment is graded out of 5 points.  The topic for this assignment is Transfer Learning for Text.**\n",
        "\n",
        "**Due:** 11/03/2020 10:15 AM EDT\n",
        "\n",
        "**Submit:** We won't be re running your notebooks, please ensure output is visible in the notebook."
      ]
    },
    {
      "cell_type": "markdown",
      "metadata": {
        "id": "-ceFPHhfZlLq"
      },
      "source": [
        "#### Learning Objectives\n",
        "\n",
        "In this exercise you will cover the following topics:  \n",
        "- Tokenizing text for BERT\n",
        "- BERT for Text Classification Task\n",
        "\n",
        "---"
      ]
    },
    {
      "cell_type": "markdown",
      "metadata": {
        "id": "eTg9MWFYtEk7"
      },
      "source": [
        "#### Installs"
      ]
    },
    {
      "cell_type": "code",
      "metadata": {
        "id": "r2TpO4fPtGkv",
        "outputId": "1c306749-5d2c-4513-b0ef-9f53fd49e85c",
        "colab": {
          "base_uri": "https://localhost:8080/"
        }
      },
      "source": [
        "!pip install transformers #Installing Huggingface transformers \n",
        "!pip install ipdb # for debugging"
      ],
      "execution_count": 1,
      "outputs": [
        {
          "output_type": "stream",
          "text": [
            "Collecting transformers\n",
            "\u001b[?25l  Downloading https://files.pythonhosted.org/packages/2c/4e/4f1ede0fd7a36278844a277f8d53c21f88f37f3754abf76a5d6224f76d4a/transformers-3.4.0-py3-none-any.whl (1.3MB)\n",
            "\u001b[K     |████████████████████████████████| 1.3MB 3.4MB/s \n",
            "\u001b[?25hRequirement already satisfied: numpy in /usr/local/lib/python3.6/dist-packages (from transformers) (1.18.5)\n",
            "Collecting sacremoses\n",
            "\u001b[?25l  Downloading https://files.pythonhosted.org/packages/7d/34/09d19aff26edcc8eb2a01bed8e98f13a1537005d31e95233fd48216eed10/sacremoses-0.0.43.tar.gz (883kB)\n",
            "\u001b[K     |████████████████████████████████| 890kB 12.8MB/s \n",
            "\u001b[?25hRequirement already satisfied: protobuf in /usr/local/lib/python3.6/dist-packages (from transformers) (3.12.4)\n",
            "Requirement already satisfied: filelock in /usr/local/lib/python3.6/dist-packages (from transformers) (3.0.12)\n",
            "Requirement already satisfied: tqdm>=4.27 in /usr/local/lib/python3.6/dist-packages (from transformers) (4.41.1)\n",
            "Collecting sentencepiece!=0.1.92\n",
            "\u001b[?25l  Downloading https://files.pythonhosted.org/packages/e5/2d/6d4ca4bef9a67070fa1cac508606328329152b1df10bdf31fb6e4e727894/sentencepiece-0.1.94-cp36-cp36m-manylinux2014_x86_64.whl (1.1MB)\n",
            "\u001b[K     |████████████████████████████████| 1.1MB 24.5MB/s \n",
            "\u001b[?25hRequirement already satisfied: requests in /usr/local/lib/python3.6/dist-packages (from transformers) (2.23.0)\n",
            "Requirement already satisfied: dataclasses; python_version < \"3.7\" in /usr/local/lib/python3.6/dist-packages (from transformers) (0.7)\n",
            "Requirement already satisfied: packaging in /usr/local/lib/python3.6/dist-packages (from transformers) (20.4)\n",
            "Collecting tokenizers==0.9.2\n",
            "\u001b[?25l  Downloading https://files.pythonhosted.org/packages/7c/a5/78be1a55b2ac8d6a956f0a211d372726e2b1dd2666bb537fea9b03abd62c/tokenizers-0.9.2-cp36-cp36m-manylinux1_x86_64.whl (2.9MB)\n",
            "\u001b[K     |████████████████████████████████| 2.9MB 31.8MB/s \n",
            "\u001b[?25hRequirement already satisfied: regex!=2019.12.17 in /usr/local/lib/python3.6/dist-packages (from transformers) (2019.12.20)\n",
            "Requirement already satisfied: six in /usr/local/lib/python3.6/dist-packages (from sacremoses->transformers) (1.15.0)\n",
            "Requirement already satisfied: click in /usr/local/lib/python3.6/dist-packages (from sacremoses->transformers) (7.1.2)\n",
            "Requirement already satisfied: joblib in /usr/local/lib/python3.6/dist-packages (from sacremoses->transformers) (0.17.0)\n",
            "Requirement already satisfied: setuptools in /usr/local/lib/python3.6/dist-packages (from protobuf->transformers) (50.3.2)\n",
            "Requirement already satisfied: certifi>=2017.4.17 in /usr/local/lib/python3.6/dist-packages (from requests->transformers) (2020.6.20)\n",
            "Requirement already satisfied: idna<3,>=2.5 in /usr/local/lib/python3.6/dist-packages (from requests->transformers) (2.10)\n",
            "Requirement already satisfied: urllib3!=1.25.0,!=1.25.1,<1.26,>=1.21.1 in /usr/local/lib/python3.6/dist-packages (from requests->transformers) (1.24.3)\n",
            "Requirement already satisfied: chardet<4,>=3.0.2 in /usr/local/lib/python3.6/dist-packages (from requests->transformers) (3.0.4)\n",
            "Requirement already satisfied: pyparsing>=2.0.2 in /usr/local/lib/python3.6/dist-packages (from packaging->transformers) (2.4.7)\n",
            "Building wheels for collected packages: sacremoses\n",
            "  Building wheel for sacremoses (setup.py) ... \u001b[?25l\u001b[?25hdone\n",
            "  Created wheel for sacremoses: filename=sacremoses-0.0.43-cp36-none-any.whl size=893257 sha256=e8e6652b78a6acf0c26ba0228c02fe2eae9eb75236ac95a64717287535094d43\n",
            "  Stored in directory: /root/.cache/pip/wheels/29/3c/fd/7ce5c3f0666dab31a50123635e6fb5e19ceb42ce38d4e58f45\n",
            "Successfully built sacremoses\n",
            "Installing collected packages: sacremoses, sentencepiece, tokenizers, transformers\n",
            "Successfully installed sacremoses-0.0.43 sentencepiece-0.1.94 tokenizers-0.9.2 transformers-3.4.0\n",
            "Collecting ipdb\n",
            "  Downloading https://files.pythonhosted.org/packages/44/8c/76b33b115f4f2c090e2809a0247fe777eb3832f9d606479bf0139b29ca2c/ipdb-0.13.4.tar.gz\n",
            "Requirement already satisfied: setuptools in /usr/local/lib/python3.6/dist-packages (from ipdb) (50.3.2)\n",
            "Requirement already satisfied: ipython>=5.1.0 in /usr/local/lib/python3.6/dist-packages (from ipdb) (5.5.0)\n",
            "Requirement already satisfied: pexpect; sys_platform != \"win32\" in /usr/local/lib/python3.6/dist-packages (from ipython>=5.1.0->ipdb) (4.8.0)\n",
            "Requirement already satisfied: pygments in /usr/local/lib/python3.6/dist-packages (from ipython>=5.1.0->ipdb) (2.6.1)\n",
            "Requirement already satisfied: simplegeneric>0.8 in /usr/local/lib/python3.6/dist-packages (from ipython>=5.1.0->ipdb) (0.8.1)\n",
            "Requirement already satisfied: decorator in /usr/local/lib/python3.6/dist-packages (from ipython>=5.1.0->ipdb) (4.4.2)\n",
            "Requirement already satisfied: traitlets>=4.2 in /usr/local/lib/python3.6/dist-packages (from ipython>=5.1.0->ipdb) (4.3.3)\n",
            "Requirement already satisfied: pickleshare in /usr/local/lib/python3.6/dist-packages (from ipython>=5.1.0->ipdb) (0.7.5)\n",
            "Requirement already satisfied: prompt-toolkit<2.0.0,>=1.0.4 in /usr/local/lib/python3.6/dist-packages (from ipython>=5.1.0->ipdb) (1.0.18)\n",
            "Requirement already satisfied: ptyprocess>=0.5 in /usr/local/lib/python3.6/dist-packages (from pexpect; sys_platform != \"win32\"->ipython>=5.1.0->ipdb) (0.6.0)\n",
            "Requirement already satisfied: six in /usr/local/lib/python3.6/dist-packages (from traitlets>=4.2->ipython>=5.1.0->ipdb) (1.15.0)\n",
            "Requirement already satisfied: ipython-genutils in /usr/local/lib/python3.6/dist-packages (from traitlets>=4.2->ipython>=5.1.0->ipdb) (0.2.0)\n",
            "Requirement already satisfied: wcwidth in /usr/local/lib/python3.6/dist-packages (from prompt-toolkit<2.0.0,>=1.0.4->ipython>=5.1.0->ipdb) (0.2.5)\n",
            "Building wheels for collected packages: ipdb\n",
            "  Building wheel for ipdb (setup.py) ... \u001b[?25l\u001b[?25hdone\n",
            "  Created wheel for ipdb: filename=ipdb-0.13.4-cp36-none-any.whl size=10973 sha256=9840eb2c041d6e8324f907b2c794692e3488c26c1a1e3710ab91a8dc1d4135dc\n",
            "  Stored in directory: /root/.cache/pip/wheels/56/51/e4/c91c61e3481a1a967beb18c4ea7a2b138a63cce94170b2e206\n",
            "Successfully built ipdb\n",
            "Installing collected packages: ipdb\n",
            "Successfully installed ipdb-0.13.4\n"
          ],
          "name": "stdout"
        }
      ]
    },
    {
      "cell_type": "markdown",
      "metadata": {
        "id": "2ehhLBsZtHH0"
      },
      "source": [
        "#### Imports"
      ]
    },
    {
      "cell_type": "code",
      "metadata": {
        "id": "KtFGBRPHtMaZ"
      },
      "source": [
        "import os\n",
        "import requests\n",
        "import zipfile\n",
        "import tarfile\n",
        "import shutil\n",
        "import json\n",
        "import time\n",
        "import sys\n",
        "import string\n",
        "import re\n",
        "import numpy as np\n",
        "import pandas as pd\n",
        "from glob import glob\n",
        "from string import Template\n",
        "import matplotlib.pyplot as plt\n",
        "import seaborn as sns\n",
        "%matplotlib inline\n",
        "\n",
        "import tensorflow as tf\n",
        "from tensorflow import keras\n",
        "from tensorflow.python.keras import backend as K\n",
        "from tensorflow.keras.models import Model, Sequential\n",
        "from tensorflow.keras import layers\n",
        "from tensorflow.keras import activations\n",
        "from tensorflow.keras import optimizers\n",
        "from tensorflow.keras import losses\n",
        "from tensorflow.keras import metrics\n",
        "from tensorflow.keras.utils import to_categorical\n",
        "\n",
        "from sklearn.model_selection import train_test_split\n",
        "\n",
        "from transformers import BertTokenizer, TFBertForSequenceClassification"
      ],
      "execution_count": 2,
      "outputs": []
    },
    {
      "cell_type": "markdown",
      "metadata": {
        "id": "kJe8HU_CtRCW"
      },
      "source": [
        "#### Verify Setup"
      ]
    },
    {
      "cell_type": "code",
      "metadata": {
        "id": "fK7q5kurtSxs",
        "outputId": "41efc8cf-fe39-432f-cc43-4c78f87062c5",
        "colab": {
          "base_uri": "https://localhost:8080/"
        }
      },
      "source": [
        "# Enable/Disable Eager Execution\n",
        "# Reference: https://www.tensorflow.org/guide/eager\n",
        "# TensorFlow's eager execution is an imperative programming environment that evaluates operations immediately, \n",
        "# without building graphs\n",
        "\n",
        "#tf.compat.v1.disable_eager_execution()\n",
        "#tf.compat.v1.enable_eager_execution()\n",
        "\n",
        "print(\"tensorflow version\", tf.__version__)\n",
        "print(\"keras version\", tf.keras.__version__)\n",
        "print(\"Eager Execution Enabled:\", tf.executing_eagerly())\n",
        "\n",
        "# Get the number of replicas \n",
        "strategy = tf.distribute.MirroredStrategy()\n",
        "print(\"Number of replicas:\", strategy.num_replicas_in_sync)\n",
        "\n",
        "devices = tf.config.experimental.get_visible_devices()\n",
        "print(\"Devices:\", devices)\n",
        "print(tf.config.experimental.list_logical_devices('GPU'))\n",
        "\n",
        "print(\"GPU Available: \", tf.config.list_physical_devices('GPU'))\n",
        "print(\"All Physical Devices\", tf.config.list_physical_devices())\n",
        "\n",
        "# Better performance with the tf.data API\n",
        "# Reference: https://www.tensorflow.org/guide/data_performance\n",
        "AUTOTUNE = tf.data.experimental.AUTOTUNE"
      ],
      "execution_count": 3,
      "outputs": [
        {
          "output_type": "stream",
          "text": [
            "tensorflow version 2.3.0\n",
            "keras version 2.4.0\n",
            "Eager Execution Enabled: True\n",
            "WARNING:tensorflow:There are non-GPU devices in `tf.distribute.Strategy`, not using nccl allreduce.\n",
            "INFO:tensorflow:Using MirroredStrategy with devices ('/job:localhost/replica:0/task:0/device:CPU:0',)\n",
            "Number of replicas: 1\n",
            "Devices: [PhysicalDevice(name='/physical_device:CPU:0', device_type='CPU')]\n",
            "[]\n",
            "GPU Available:  []\n",
            "All Physical Devices [PhysicalDevice(name='/physical_device:CPU:0', device_type='CPU'), PhysicalDevice(name='/physical_device:XLA_CPU:0', device_type='XLA_CPU')]\n"
          ],
          "name": "stdout"
        }
      ]
    },
    {
      "cell_type": "markdown",
      "metadata": {
        "id": "mshzP5vetVqI"
      },
      "source": [
        "#### Utils"
      ]
    },
    {
      "cell_type": "code",
      "metadata": {
        "id": "lkcpmAx5tW0a"
      },
      "source": [
        "def download_file(packet_url, base_path=\"\", extract=False):\n",
        "  if base_path != \"\":\n",
        "    if not os.path.exists(base_path):\n",
        "      os.mkdir(base_path)\n",
        "  packet_file = os.path.basename(packet_url)\n",
        "  with requests.get(packet_url, stream=True) as r:\n",
        "      r.raise_for_status()\n",
        "      with open(os.path.join(base_path,packet_file), 'wb') as f:\n",
        "          for chunk in r.iter_content(chunk_size=8192):\n",
        "              f.write(chunk)\n",
        "  \n",
        "  if extract:\n",
        "    if packet_file.endswith(\".zip\"):\n",
        "      with zipfile.ZipFile(os.path.join(base_path,packet_file)) as zfile:\n",
        "        zfile.extractall(base_path)\n",
        "    \n",
        "    if packet_file.endswith(\".tar.gz\"):\n",
        "      packet_name = packet_file.split('.')[0]\n",
        "      with tarfile.open(os.path.join(base_path,packet_file)) as tfile:\n",
        "        tfile.extractall(base_path)\n",
        "\n",
        "def evaluate_model(model,test_data, training_results):\n",
        "    \n",
        "  # Get the model train history\n",
        "  model_train_history = training_results.history\n",
        "  # Get the number of epochs the training was run for\n",
        "  num_epochs = len(model_train_history[\"loss\"])\n",
        "\n",
        "  # Plot training results\n",
        "  fig = plt.figure(figsize=(15,5))\n",
        "  axs = fig.add_subplot(1,2,1)\n",
        "  axs.set_title('Loss')\n",
        "  # Plot all metrics\n",
        "  for metric in [\"loss\",\"val_loss\"]:\n",
        "      axs.plot(np.arange(0, num_epochs), model_train_history[metric], label=metric)\n",
        "  axs.legend()\n",
        "  \n",
        "  axs = fig.add_subplot(1,2,2)\n",
        "  axs.set_title('Accuracy')\n",
        "  # Plot all metrics\n",
        "  for metric in [\"accuracy\",\"val_accuracy\"]:\n",
        "      axs.plot(np.arange(0, num_epochs), model_train_history[metric], label=metric)\n",
        "  axs.legend()\n",
        "\n",
        "  plt.show()\n",
        "  \n",
        "  # Evaluate on test data\n",
        "  evaluation_results = model.evaluate(test_data)\n",
        "  print(\"Evaluation Results:\", evaluation_results)"
      ],
      "execution_count": 4,
      "outputs": []
    },
    {
      "cell_type": "markdown",
      "metadata": {
        "id": "Adcr59aMC0x9"
      },
      "source": [
        "## Dataset\n",
        "\n",
        "**We will continue to use the dataset from Exercise 6.** The dataset consists of news articles from CNN in the politics, health, and entertainment category. There are about 300 articles in each category."
      ]
    },
    {
      "cell_type": "markdown",
      "metadata": {
        "id": "0rhkLpzqtg8R"
      },
      "source": [
        "#### Download"
      ]
    },
    {
      "cell_type": "code",
      "metadata": {
        "id": "WWeC7j6DtiYz",
        "outputId": "6897cbda-3d9e-402b-c5ab-a7f090fe091c",
        "colab": {
          "base_uri": "https://localhost:8080/"
        }
      },
      "source": [
        "start_time = time.time()\n",
        "download_file(\"https://storage.googleapis.com/dataset_store/ac295/news300.zip\", base_path=\"datasets\", extract=True)\n",
        "execution_time = (time.time() - start_time)/60.0\n",
        "print(\"Download execution time (mins)\",execution_time)"
      ],
      "execution_count": 5,
      "outputs": [
        {
          "output_type": "stream",
          "text": [
            "Download execution time (mins) 0.006757978598276774\n"
          ],
          "name": "stdout"
        }
      ]
    },
    {
      "cell_type": "markdown",
      "metadata": {
        "id": "hW_MeOmStjoy"
      },
      "source": [
        "#### Explore"
      ]
    },
    {
      "cell_type": "code",
      "metadata": {
        "id": "-XrbTi03tmzU",
        "outputId": "647abbf4-e35c-4c3d-d6a0-8153cd03d7fb",
        "colab": {
          "base_uri": "https://localhost:8080/"
        }
      },
      "source": [
        "data_dir = os.path.join(\"datasets\",\"news300\")\n",
        "label_names = os.listdir(data_dir)\n",
        "\n",
        "# Number of unique labels\n",
        "num_classes = len(label_names) \n",
        "# Create label index for easy lookup\n",
        "label2index = dict((name, index) for index, name in enumerate(label_names))\n",
        "index2label = dict((index, name) for index, name in enumerate(label_names))\n",
        "\n",
        "print(\"Number of classes:\", num_classes)\n",
        "print(\"Labels:\", label_names)\n",
        "\n",
        "# Generate a list of labels and path to text\n",
        "data_x = []\n",
        "data_y = []\n",
        "\n",
        "for label in label_names:\n",
        "  text_files = os.listdir(os.path.join(data_dir,label))\n",
        "  data_x.extend([os.path.join(data_dir,label,f) for f in text_files])\n",
        "  data_y.extend([label for f in text_files])\n",
        "\n",
        "# Load the text content\n",
        "for idx, path in enumerate(data_x):\n",
        "  # Load text\n",
        "  with open(path) as file:\n",
        "    data_x[idx] = file.read()\n",
        "\n",
        "# Preview\n",
        "print(\"data_x count:\",len(data_x))\n",
        "print(\"data_y count:\",len(data_y))\n",
        "print(data_x[:5])\n",
        "print(data_y[:5])\n",
        "print(\"Label counts:\",np.unique(data_y, return_counts=True))"
      ],
      "execution_count": 6,
      "outputs": [
        {
          "output_type": "stream",
          "text": [
            "Number of classes: 3\n",
            "Labels: ['health', 'politics', 'entertainment']\n",
            "data_x count: 920\n",
            "data_y count: 920\n",
            "['WHO clarifies comments on asymptomatic spread of coronavirus: \\'There\\'s much unknown\\'  (CNN)The World Health Organization tried on Tuesday to clear up confusing comments about how often people can spread the coronavirus when they do not have symptoms. The organization held a live Q&A on its social media pages to address questions about comments made by a WHO official that suggested asymptomatic people only rarely spread Covid-19.  The comments appeared to directly contradict guidance from public health organizations, including the US Centers for Disease Control and Prevention, which have said about a third of coronavirus infections may be asymptomatic. The CDC also estimates that 40% of coronavirus transmission is occurring before people feel sick, meaning they are presymptomatic. But it may boil down to how one defines \"asymptomatic.\" \\'There are so many unknowns\\' Maria Van Kerkhove, WHO\\'s technical lead for coronavirus response and head of its emerging diseases and zoonoses unit, said during a media briefing in Geneva on Monday that \"it still seems to be rare that an asymptomatic person actually transmits onward to a secondary individual.\" But then on Tuesday, during the live Q&A, she clarified \"this is a major unknown.\" \"The majority of transmission that we know about is that people who have symptoms transmit the virus to other people through infectious droplets -- but there are a subset of people who don\\'t develop symptoms, and to truly understand how many people don\\'t have symptoms, we don\\'t actually have that answered yet,\" Van Kerkhove said. \"We do know that some people who are asymptomatic, or some people who don\\'t have symptoms, can transmit the virus on,\" she said. \"So what we need to better understand is how many of the people in the population don\\'t have symptoms and separately how many of those individuals go on to transmit to others.\" On Monday, Van Kerkhove had said that what appear to be asymptomatic cases of Covid-19 often turn out to be cases of mild disease. \"When we actually go back and we say how many of them were truly asymptomatic, we find out that many have really mild disease,\" Van Kerkhove said on Monday. \"They\\'re not quote-unquote Covid symptoms -- meaning they may not have developed fever yet, they may not have had a significant cough, or they may not have shortness of breath -- but some may have mild disease,\" Van Kerkhove said. \"Having said that, we do know that there can be people who are truly asymptomatic.\"  Van Kerkhove added that she was referring to reports from WHO member states when she made her comments on Monday.  \"What I was referring to yesterday in the press conference were very few studies -- some two or three studies that had been published that actually try to follow asymptomatic cases, so people who are infected, over time, and then look at all of their contacts and see how many additional people were infected,\" Van Kerkhove said. \"And that\\'s a very small subset of studies. So I was responding to a question at the press conference. I wasn\\'t stating a policy of WHO or anything like that,\" she said. \"Because this is a major unknown, because there are so many unknowns around this, some modeling groups have tried to estimate what is the proportion of asymptomatic people that may transmit.\" On Wednesday, the day after WHO\\'s live Q&A, Dr. Anthony Fauci, the top infectious diseases expert in the United States, weighed in on Van Kerkhove\\'s original comments. He said it \"was not correct\" to describe asymptomatic spread of the coronavirus as rare. Evidence shows that 25% to 45% of infected people likely don\\'t have symptoms, Fauci told ABC\\'s \"Good Morning America\" on Wednesday morning. \"And we know from epidemiological studies they can transmit to someone who is uninfected even when they\\'re without symptoms,\" said Fauci, the director of the National Institute of Allergy and Infectious Diseases. \"So to make a statement to say that\\'s a rare event was not correct.\" And while the public might use the word \"asymptomatic\" to describe any infected person who doesn\\'t have symptoms, the bigger concern may be infection from \"pre-symptomatic\" carriers. How the virus spreads Dr. Mike Ryan, executive director of the WHO Health Emergencies Program, also said during Tuesday\\'s live Q&A that there is still much to learn about the possible asymptomatic spread of the coronavirus. \"Whatever proportion of disease is transmitting from asymptomatic individuals, as Maria said, that is unknown,\" Ryan said.  \"I\\'m absolutely convinced that that is occurring. The question is how much,\" he said. \"There\\'s much to be answered on this. There\\'s much that is unknown.\" \\'Trying to slice the salami very fine\\' Whether someone is presymptomatic or or simply experiencing very mild symptoms is not of importance to the person on the receiving end of the transmission, said Dr. William Schaffner, a Vanderbilt University professor and longtime adviser to the CDC. \"I thought they were getting very prissy and trying to slice the salami very fine,\" Schaffner said about WHO\\'s comments on Monday on asymptomatic spread. \"You can be vertical and feel 100% or virtually 100% and going about your daily business and unaware that you\\'re infected and perfectly capable transmitting the virus,\" Schaffner said. \"How do we inhibit transmission of the virus by these people who are doing their full range of normal activities? The answer is social distancing and wearing masks and good hand hygiene and stay away from crowds. That\\'s the formula.\" Liam Smeeth, professor of clinical epidemiology at the London School of Hygiene and Tropical Medicine, said that he was \"quite surprised\" by Van Kerkhove\\'s original comments. \"It goes against my impressions from the science so far that suggest asymptomatic (people who never get symptoms) and pre-symptomatic people are an important source of infection to others,\" Smeeth said In a written statement distributed by the UK-based Science Media Centre on Tuesday. \"This is the main basis for steps such as self-isolation and lockdown -- steps we know, from yesterday\\'s two Nature papers have massively reduced the numbers of people infected and have prevented millions of deaths globally,\" he said. He was referring to research that estimates shutdown measures through early April prevented more than 500 million coronavirus infections across six countries. \"There remains scientific uncertainty, but asymptomatic infection could be around 30% to 50% of cases,\" Smeeth said. \"The best scientific studies to date suggest that up to half of cases became infected from asymptomatic or pre-symptomatic people.\" CNN\\'s David Williams, Elizabeth Cohen and Gisela Crespo contributed to this report. ', 'Fauci warns that Covid-19 infection rates are too high heading into winter  (CNN)The number of coronavirus cases in the United States surpassed 8 million on Friday as health officials from coast to coast scramble to contain the rising rate of infections. The case numbers are steadily increasing daily, according to data from Johns Hopkins University.  The country has averaged more than 53,000 new daily cases for the past week -- an increase of more than 55% in just over a month -- and Friday\\'s caseload was not the exception, according to Johns Hopkins data. Unlike previous rises, this time it appears that no region is safe. The Northeast, which has remained relatively stable since the spring, is seeing a rise in cases as is the Pacific Northwest. The increases come as the numbers of new cases in the Midwest hasn\\'t slowed. At least four states -- Idaho, Illinois, North Carolina and Wyoming -- reported their highest daily Covid-19 case count to date on Friday, state health officials said. Dr. Anthony Fauci, the nation\\'s top infectious disease expert, warned that infection rates are far too high heading into the end of the year. Other experts say is setting the country up for a very difficult winter. \"You can\\'t enter into the cool months of the fall and the cold months of the winter with a high community infection baseline,\" Fauci said in a John Hopkins virtual event posted Friday. CVS and Walgreens to distribute approved vaccines, officials say While the US faces a new rise in cases, the Trump administration discussed some of its plans for vaccine distribution. Federal officials confirmed Friday that CVS and Walgreens pharmacies have been designated to distribute free coronavirus vaccines, once they are approved, to long-term care facilities.  The partnership is expected to help \"jurisdictions solve a logistical hurdle and decrease the burden of distributing, administering, and reporting COVID-19 vaccination for both states and long-term care facilities,\" said Dr. Robert Redfield, director for the US Centers for Disease Control and Prevention in a statement. The retailers are best placed to send out mobile units to vaccinate seniors and other vulnerable people on site, said Paul Mango, deputy chief of staff for policy at the Health and Human Services Department, said during a Friday telephone briefing with reporters. Earlier on Friday, President Donald Trump said seniors would be the first to get any vaccine once one is approved.   \"Seniors will be the first in line for the vaccine and we will soon be ending this pandemic,\" Trump said during a visit to Ft. Myers, Florida.  No coronavirus vaccines have been approved by the US Food and Drug Administration so far but the CDC posted an optimistic forecast about coronavirus vaccines Wednesday, promising some vaccines by the end of the year. Dr. Francis Collins, director of the National Institutes of Health, said he\\'s still \"pretty guardedly optimistic\" about that time frame even after two vaccine trials have been paused. \"This is a very complicated science and sometimes, things don\\'t work the way you want it to,\" Collins told CNN\\'s Wolf Blitzer. Wisconsin\\'s positivity rates are \\'going in the wrong direction\\'  More than 30 states accumulated more new Covid-19 cases this past week compared to the previous week, according to data from Johns Hopkins.  The 14 states that reached their highest-ever seven-day average of new daily cases were: Alaska, Colorado, Illinois, Indiana, Kansas, Missouri, Nebraska, New Mexico, North Dakota, Ohio, South Dakota, West Virginia, Wisconsin, and Wyoming. Hospitalizations increased as well. Seven states saw a record for Covid-19 hospitalizations Thursday -- Iowa, Kansas, Kentucky, Missouri, Montana, Oklahoma and Wisconsin, according to the Covid Tracking Project.  The test positivity has gotten much worse in certain states -- sitting above 20% Friday in Idaho, Iowa, South Dakota and Wisconsin.   US Surgeon General Jerome Adams said Friday in a news conference that Wisconsin is now considered a \"red state\" because the positivity rate is \"going in the wrong direction.\" \"It is critical that we actually understand where this virus is circulating so that we could get cases under control and reverse positivity,\" Adams said. Masks could save 70,000 lives It doesn\\'t have to be this way. Experts have repeatedly said that doubling down on simple safety measures including masks, social distancing and hand washing can help slow transmission of the virus. Universal mask wearing could save the lives of more than 70,000 Americans in the next three and a half months, according to IHME projections. And as cooler weather approaches, experts say, there are ways you can see some friends and family while still staying safe.  Global study finds remdesivir doesn\\'t help World Health Organization officials announced Thursday the antiviral drug remdesivir has \"little or no effect on mortality\" for patients hospitalized with Covid-19.  The agency says this is \"conclusive evidence\" about the drug -- and the findings are disappointing.  Until now, remdesivir was the only drug that appeared to have specific effects for Covid-19 and the only drug with an emergency use authorization specifically for the virus from the US Food and Drug Administration.  Before the WHO\\'s study, a large controlled study of remdesivir in the US found that it shortens recovery time by about a third in severely ill, hospitalized adults with Covid-19, but does little to help those with milder cases. Gilead Sciences, the drug\\'s maker, said the findings did not mean the drug is of no benefit. \"The emerging data appear inconsistent with more robust evidence from multiple randomized, controlled studies published in peer-reviewed journals validating the clinical benefit of Veklury (remdesivir),\" Gilead said in a statement. \"We are concerned that the data from this open- label global trial have not undergone the rigorous review required to allow for constructive scientific discussion.\" CNN\\'s John Bonifield, Jason Hanna, Raja Razek, Ben Tinker and Amanda Watts contributed to this report.  ', 'How Trump\\'s Covid-19 treatment is far different from what most American patients get  (CNN)If you get sick with Covid-19, don\\'t expect to get the same treatment as President Donald Trump.  It may seem obvious the country\\'s leader would receive extra attention and the best care possible. But some of the treatment he\\'s getting isn\\'t even available to the general public. That fact may have been lost on Trump when he told millions of followers \"Don\\'t be afraid of Covid.\" \"I feel better than I did 20 years ago!\" he tweeted Monday -- not mentioning that other Americans with the deadly disease don\\'t have access to the drugs and treatment he received. Before he was hospitalized Friday, Trump received Regeneron\\'s experimental antibody therapy -- which may reduce levels of coronavirus and has shown promising results in a trial involving 275 patients.  But the treatment has not yet received emergency use authorization from the Food and Drug Administration. Biotech company Regeneron said it provided the drug after receiving a \"compassionate use\" request from Trump\\'s doctors. For most people, \"getting access to not-yet-approved drugs through a compassionate use request can be a long and challenging process,\" the Mayo Clinic said, listing a series of requirements that most patients would need to meet.  But Trump received the therapeutic Friday, just one day after he tested positive for Covid-19, according to the White House press secretary and Trump\\'s doctor. \"Of course, this is the President of the USA. He is going to get the kitchen sink thrown at him medically, offered all there is -- whether it\\'s authorized under emergency use or not, in the case of the antibody treatment,\" epidemiologist Dr. Seema Yasmin said. \"But then there are (almost) 210,000 Americans who have died over the past few months because the pandemic response has been so bad. And they certainly didn\\'t get access to this kind of treatment.\"  That\\'s not the only advantage Trump has compared to the hundreds of thousands of other Americans who have been hospitalized with coronavirus.   Trump may be \\'the only patient on the planet\\' to get these 3 drugs In addition to the experimental antibody therapy, Trump was also given remdesivir and dexamethasone.  \"The President might be the only patient on the planet ever to receive this particular combination of medicines,\" said Dr. Jonathan Reiner, a professor of medicine at George Washington University.  Remdesivir has not received FDA approval for the treatment of Covid-19, but it\\'s gotten an emergency use authorization from the agency.  Clinical trials have shown that a five-day course of remdesivir can speed recovery times in some patients. But the antiviral can also cause side effects such as anemia, liver toxicity and kidney toxicity. Remdesivir is administered by IV, so patients are typically hospitalized when getting the five-day course.  But Trump\\'s doctors let him go home early Monday evening to finish the treatment. Unlike other Americans\\' homes, Trump has an in-house White House Medical Unit, \"where he\\'ll be surrounded by world-class medical care,\" his physician Dr. Sean Conley said. Trump has also received dexamethasone, a cheap and widely available corticosteroid that can reduce inflammation. But it also suppresses the immune system, so it\\'s generally not recommended for Covid-19 patients unless the situation is severe. Some patients who have benefited from dexamethasone still die less than a month later, Reiner said.  \"We know that dexamethasone does reduce the risk of mortality. That comes from data from a trial called the Recovery trial,\" Reiner said.  \"But to show you what the stakes are, the patients in that trial who received dexamethasone and derived a benefit still had a 23% 28-day mortality rate. So almost a quarter of the patients treated with dexamethasone were dead by a month out,\" Reiner said.  \"So the only conclusion one can make from this triple therapy is that the President\\'s physicians feel that he\\'s in grave danger.\" Conley said his patient seemed well enough to leave Walter Reed National Military Medical Center on Monday evening. But he acknowledged he\\'s concerned about a possible reversal in Trump\\'s condition. \"That\\'s why we all remain cautiously optimistic and on guard, because we\\'re in a bit of uncharted territory when it comes to a patient that received the therapies he has so early in the course,\" Conley said.  Abundant access to testing While many Americans have struggled to get Covid-19 tests or test results without massive delays, Trump has been \"the most tested man in America,\" White House press secretary Kayleigh McEnany said.  \"He\\'s tested more than anyone -- multiple times a day,\" McEnany said in July. (Later that same day, Trump contradicted his press secretary, saying, \"I do take, probably on average, a test every two days, three days. And I don\\'t know of any time I\\'ve taken two tests in one day. But I could see that happening.\") Trump\\'s abundance of testing is in stark contrast to the availability for most Americans. While testing nationwide has ramped up in recent months, the White House just last week announced its plan to distribute 150 million rapid tests that was initially touted in August.  The White House has cited Trump\\'s frequent testing as a reason why he didn\\'t need to wear a mask in public. But health experts have said that\\'s flawed logic. Unlike face masks, testing provides zero protection against getting infected. And even if everyone around you got tested, some test results are actually false negatives.   Still, there are advantages to having easy access to frequent testing. After Trump\\'s top aide Hope Hicks fell ill and tested positive last week, Trump was able to quickly get tested. And that could have allowed him to quickly isolate himself and protect others as soon as possible. But Dr. Conley has given conflicting reports about when Trump first tested positive.  Conley first reported Saturday that Trump was \"just 72 hours into the diagnosis now\" -- meaning Trump would have had Covid-19 on Wednesday, the day before he traveled to New Jersey for a campaign fundraiser. Another physician, Dr. Brian Garibaldi, said Trump was treated with an experimental antibody therapy \"about 48 hours ago,\" which would have been midday Thursday. After widespread concerns about that timeline and Trump\\'s fundraising trip, Conley released a statement saying he meant to say Trump was on his third day of illness Saturday, not that he was diagnosed on Wednesday.  McEnany insisted Trump first tested positive after returning from New Jersey on Thursday. It\\'s important to note Covid-19 patients who get symptoms are often more contagious before they start showing symptoms.  McEnany refused to answer questions Sunday about whether Trump was tested Tuesday before his debate with Joe Biden. She also refused to say whether Trump was tested Thursday before his fundraising trip to New Jersey. Conley also refused to say when Trump\\'s last negative test result was. Emergency medicine physician Dr. Leana Wen said it\\'s critical to know Trump\\'s recent testing history and when he started to be contagious -- especially because other people\\'s health is at stake, too.  \"It\\'s important for us to know for his condition, and also for the purposes of contact tracing, to safeguard the health of others around him ... not only his senior staff, but also the wait staff, the Secret Service agents, the people who attended his rallies,\" Wen said.  \"Those people matter, too.\"  The lack of details about Trump\\'s recent testing also means \"we don\\'t actually know what is the course of the President\\'s illness because we don\\'t know when he last tested negative,\" Wen said.  \"If he were actually getting daily tests -- let\\'s say he got a negative test on Wednesday and a positive test on Thursday -- then we should be alarmed by how quickly the President is progressing, how quickly his symptoms are developing,\" she said.  \"But if in fact he had a negative test much earlier, and perhaps a positive test even earlier, too, then that course of the illness actually makes more sense.\" Despite his advantages, Trump\\'s Covid-19 battle could be lengthy  Just because Trump was discharged from the hospital Monday evening doesn\\'t mean his fight with Covid-19 is over.  Some patients \"seem to be doing OK initially. In fact, many of these patients may get discharged from the hospitals when they first come in,\" Wen said.  \"But then they go home, and they return because they worsen over time. Actually the median time, from when somebody first starts getting symptoms to when they may need ICU care -- if they end up in the intensive care unit -- is 10 to 12 days,\" she said.  \"So we should be relieved that the President is doing well for now, if that\\'s indeed the case. But we should not be breathing a sigh of relief quite yet because there\\'s still some time to come.\" CNN\\'s Jen Christensen, Jamie Gumbrecht, Maggie Fox, Shelby Lin Erdman and Jacqueline Howard contributed to this report.  ', 'UK Covid-19 trial ends hydroxychloroquine study because there\\'s no evidence the drug benefits patients   (CNN)Researchers in the United Kingdom have put an abrupt stop to an arm of their Covid-19 trial that involves the antimalarial drug hydroxychloroquine. The Recovery trial, a large UK-based trial investigating potential coronavirus treatments, has stopped including hydroxychloroquine in its study due to there being \"no evidence of benefit,\" researchers announced on Friday. Other arms in the trial, which has enrolled more than 11,000 patients from 175 hospitals across the UK, will continue. \"We reviewed the data and concluded that there is no evidence of a beneficial effect of hydroxychloroquine in patients hospitalized with Covid and decided to stop enrolling patients to the hydroxychloroquine arm, with immediate effect, and that has been actioned this morning,\" Martin Landray, deputy chief investigator of  the trial and a professor at the University of Oxford, said during a media briefing on Friday. As part of the trial, 1,542 Covid patients were randomly selected to receive hydroxychloroquine as a treatment compared with 3,132 patients who received the usual standard care.  The data showed that after about 28 days, 25.7% of the patients who received hydroxychloroquine had died compared with 23.5% of patients who received usual care alone. \"That is not statistically significant, but as you can see from the numbers, that result shows that there\\'s really no evidence of a benefit,\" Landray said.  \"I think we can say that this data convincingly rule out any meaningful mortality benefit,\" Landray said. \"Our conclusion is that this treatment does not reduce the risk of dying from Covid among hospital patients. That clearly has a significant importance for the way that patients are treated not only in the UK, but all around the world.\" Last week, the World Health Organization temporarily paused the hydroxychloroquine arms of its Solidarity Trial due to concerns surrounding the drug\\'s safety and in order to review its own data. Then on Wednesday, after that review, WHO announced that it decided to resume studying hydroxychloroquine as a potential Covid-19 treatment in the trial. Peter Horby, chief investigator for the Recovery Trial and a professor at the University of Oxford, said on Friday that his colleagues and he have notified WHO about the data found in their trial and the decision to end this arm of the study. \"We\\'ve been on the telephone this morning with the World Health Organization,\" Horby said during Friday\\'s presser. \"They will be convening their committee to reconsider their decision based on the events of today.\" WHO confirmed during a media briefing in Geneva on Friday that it had received notice from the organizers of the Recovery trial that the trial ended its hydroxychloroquine arm. \"As Solidarity and Recovery are two of the larger trials, and moreover they have very, very similar study designs, we have been in touch,\" Dr. Soumya Swaminathan, WHO chief scientist, said during the briefing. \"They informed us about the preliminary results, which they have gone to the press with. We await to see the final data analysis and the publication that\\'s going to come out of it and certainly our committee will be considering these results as we go on,\" Swaminathan said. \"However, they are two distinct trials, with their own protocols, their own oversight committees and therefore we will continue for now and our committee will consider the data as it becomes available.\"  ', 'The NBA is offering players a \\'smart\\' ring to track Covid. But does it even work?  (CNN)The NBA, which hopes to restart the season July 30, says it is offering players a ring whose maker claims it can track a user\\'s health data and might even predict if users are about to show symptoms of coronavirus infection.  But there\\'s not much information yet on how well the device, which has embedded electronics, works. The $299 Oura ring is designed to monitor sleep, pulse, movement, heart activity and temperature, according to the company\\'s website. Some doctors are lukewarm about its potential. \"There is not a lot of data on it right now. There have been some studies that I\\'ve seen -- most of the studies are published by the device manufacturers,\" Dr. Darria Long, an emergency room physician and clinical assistant professor at the University of Tennessee, told CNN.  Other doctors contacted by CNN said there was too little solid information about the device for them to comment on it. The ring is one of about a half-dozen wearable devices being studied to see if they can detect the often-subtle symptoms of coronavirus infection.  A team at Scripps Research is looking into the potential of the Apple Watch, Fitbits, Garmin devices, Oura and others to see if they can accurately monitor a person\\'s baseline temperature, heart rate, sleep and daily movement, and use changes in that data to detect the early onset of an infection. Finland-based Oura is helping pay for a study at the University of California San Francisco, and West Virginia University is also conducting a study to see whether the ring might provide useful data.  There\\'s a little evidence to suggest that pulse and temperature can change before people notice symptoms of infections like influenza.  A study published earlier this year showed that Fitbit sleep and heart rate data involving 200,000 people as a whole seemed to sync with the changing epidemic of seasonal flu. Long says the potential to study large groups of people to see if there is useful data that can be collected is interesting. \"But it does not replace any of the other things we should be doing, and the other steps that the NBA should be doing in terms of protecting their players, protecting their staff,\" Long said. They should still be doing pools of testing and regular testing -- all of those other things.\" \"Just don\\'t let it give us a false sense of security. Don\\'t stop wearing your mask because your Oura ring says you\\'re OK. You know, don\\'t skip testing because everybody\\'s Oura ring says they\\'re fine.\" Makers have to prove their devices\\' accuracy The device makers have to first prove that their devices can accurately measure and report things such as a person\\'s temperature and heart rate.  Smart watches have been working on this problem for years. It\\'s not necessarily easy to monitor heart rate from a spot on the top of the wrist. Trying to measure it from a ring is a new and an even less-tested approach.  Then manufacturers would have to show that this information can accurately detect an infection. \"I don\\'t care who — if it\\'s Oura, or Fitbit or Apple — none of them are necessarily proven,\" Long said. \"We can\\'t use it to give a false sense of security. We need to think of this as data and ideas in research right now.\" The Oura device is not approved by the US Food and Drug Administration to monitor health data. In 2018, the FDA approved two Apple apps to monitor for atrial fibrillation, a common heart rhythm irregularity that can lead to stroke, as well as unusually slow or unusually fast heart rates. The NBA\\'s health and safety protocols mention a ring but say little else. \"To promote efforts to identify potential illness, upon arrival on the campus, each player and essential staff member will be given the option to participate in a process that uses a wearable device (worn as a ring) being studied and validated by the University of Michigan to generate a wellness assessment derived from metrics such as body temperature and respiratory and heart rate. The NBA will share additional details regarding the device and process for participation in a forthcoming memo to teams,\" the protocols read. CORRECTION: This story has been corrected to show that Oura is not paying for the West Virginia University study.  ']\n",
            "['health', 'health', 'health', 'health', 'health']\n",
            "Label counts: (array(['entertainment', 'health', 'politics'], dtype='<U13'), array([310, 310, 300]))\n"
          ],
          "name": "stdout"
        }
      ]
    },
    {
      "cell_type": "markdown",
      "metadata": {
        "id": "SQno1a1Atqjq"
      },
      "source": [
        "#### View Text"
      ]
    },
    {
      "cell_type": "code",
      "metadata": {
        "id": "lpUXhNYptr9n",
        "outputId": "1d4dd6fd-a106-4827-d490-b873283c3614",
        "colab": {
          "base_uri": "https://localhost:8080/"
        }
      },
      "source": [
        "# Generate a random sample of index\n",
        "data_samples = np.random.randint(0,high=len(data_x)-1, size=10)\n",
        "for i,data_idx in enumerate(data_samples):\n",
        "  print(\"Label:\",data_y[data_idx],\", Text:\",data_x[data_idx])"
      ],
      "execution_count": 7,
      "outputs": [
        {
          "output_type": "stream",
          "text": [
            "Label: health , Text: National Coming Out Day: Coming out during a pandemic   (CNN)Erica Woodland first came out about his queer identity in middle school. In the last few years, he came out as transgender, and introduced his family to his new pronouns. Whether we come to understand our sexuality personally, with our family or with our broader community, coming out is a process, said Woodland, a clinical psychologist and founder of the National Queer and Trans Therapists of Color Network. October 11 is National Coming Out Day in the United States, celebrated each year to mark the  anniversary of the 1987 National March on Washington for Lesbian and Gay Rights.  After generations of progress in the LGBTQ community, marked by milestones such as the Stonewall Riots 51 years ago and the US Supreme Court decision for marriage equality in 2015, coming out is more accepted than it used to be. And it doesn't just happen once.  \"Coming out is not one event. I experience this in my own coming out, which is still evolving,\" Woodland, who uses he/him pronouns, said. \"I feel like I have had several coming-out events.\" Coming out is harder during a pandemic \"The pandemic has meant being by myself a lot and thinking about what I want as a person,\" said Mya Ratcliff, 20, a freelance artist based in Atlanta who came out as pansexual and queer just before she turned 18. She had moved into the city hoping to spend a lot of time at concerts and parties, but the pandemic has made staying in close-knit community with LGBTQ folks a little trickier. \"I haven't been able to go to a lot of places,\" she said. Instead, she now FaceTimes with several LGBTQ friends. And she expresses herself through queer pieces of art, through painting commissions and working in clay. \"I incorporate a lot of women into my art because women are beautiful,\" she said. Fully embracing their identities has been an issue for LGBTQ youth around the nation. More than 40% of LGBTQ youth reported that the Covid-19 pandemic had affected their ability to express their LGBTQ identity, according to a poll released last week by Morning Consult on behalf of The Trevor Project, an organization with a 24/7 suicide hotline for LGBTQ youth in crisis. One-third said they were unable to express themselves at home, the poll found, and nearly a third of transgender and nonbinary youth reported not feeling safe in their living situation since the start of the pandemic. That poll also highlighted the negative impact on well-being from news reports of violence against Black people, particularly severe among Black LGBTQ youth, 78% of whom reported that the news had a negative impact. \"This year has been difficult for everyone, but it has been especially challenging for LGBTQ youth, and particularly Black LGBTQ youth, who have found themselves at the crossroads of multiple mounting tragedies,\" said Amit Paley, the CEO and executive director of The Trevor Project. The organization reported that calls to its crisis support line (which is 1-866-488-7386) have doubled from the pre-pandemic volume. The group also offers a wealth of resources, including a coming-out handbook, to help support youth during the pandemic and throughout their lives. More youth had been coming out Just under 2 million young Americans ages 13-17 identify as LGBTQ, or about 9.5% of the youth population in the US, according to data released in September by the Williams Institute, a think tank at UCLA School of Law focused on LGBTQ law and public policy. The percentage of youth identifying as LGBTQ is more than twice what it is among US adults, with 4.5% identifying as LGBTQ.  But being open can also come with a cost. The overall LGBTQ population is nearly four times more likely than non-LGBTQ people to experience violent victimization, according to a study by Williams Institute scholars published this month in the journal Science Advances.  That study, which used data from the National Crime Victimization Survey, conducted in 2017, showed that LGBTQ people had higher rates of serious crime victimization in nearly every type of violent crime except for robbery. Fewer outlets under Covid-19 Those are all issues Woodland tries to tackle with his clients and therapy support network. He focuses on using healing justice as a frame for how people move into their identities, rather than talking about mental health, a term that can be problematic for vulnerable communities at risk of exploitation by racism, ableism or drugs. \"The root of our suffering often has to do with structural violence,\" he said. So coming out as LGBTQ can be particularly fraught for people of color, who may already feel at risk in their daily lives. And the coronavirus pandemic adds another layer on top of that. During the pandemic, many who have found a safe and supportive community to love them as they explored their own sexuality may have had to move home or to take up living situations that are less conducive to feeling comfortable moving out. In LGBTQ communities, one's \"chosen family\" can play a more important role in one's life than one's biological family. Being separated from that chosen family during the public health crisis can cause emotions that feel \"intense and unmanageable,\" according to The Trevor Project. That could be feelings of boredom and restlessness that could lead to substance abuse or engaging in risky behaviors to relieve those feelings. Or the pandemic could force people to stay with family members with whom relationships might be tense. \"People are sheltering in place and some of those environments are extremely toxic,\" Woodland said. \"It can be with people who are not supportive and that takes a toll emotionally and spiritually. The pandemic is exacerbating things that have already existed.\" For instance, gay clubs, long a cornerstone for exploring one's burgeoning sexual identity, may not be an option, given the risk of infection. For those beginning a coming-out process for the first time, Woodland recommended joining a coming-out group, especially one with multiracial members. \"You need peer support to be able to navigate that,\" he said. \"First and foremost, find your community, find your people.\" Those groups could enable you, for example, to role-play ahead of time how you might come out to your sister or brother. \"If you're going to come out to your family, then it prepares you to come out to others,\" Woodland said. \"Something I think is important is allowing people to have their own unique process.\" he said. \"The coming-out process is so sacred. Carve out space and be in deep curiosity.\"   \n",
            "Label: health , Text: The NBA is offering players a 'smart' ring to track Covid. But does it even work?  (CNN)The NBA, which hopes to restart the season July 30, says it is offering players a ring whose maker claims it can track a user's health data and might even predict if users are about to show symptoms of coronavirus infection.  But there's not much information yet on how well the device, which has embedded electronics, works. The $299 Oura ring is designed to monitor sleep, pulse, movement, heart activity and temperature, according to the company's website. Some doctors are lukewarm about its potential. \"There is not a lot of data on it right now. There have been some studies that I've seen -- most of the studies are published by the device manufacturers,\" Dr. Darria Long, an emergency room physician and clinical assistant professor at the University of Tennessee, told CNN.  Other doctors contacted by CNN said there was too little solid information about the device for them to comment on it. The ring is one of about a half-dozen wearable devices being studied to see if they can detect the often-subtle symptoms of coronavirus infection.  A team at Scripps Research is looking into the potential of the Apple Watch, Fitbits, Garmin devices, Oura and others to see if they can accurately monitor a person's baseline temperature, heart rate, sleep and daily movement, and use changes in that data to detect the early onset of an infection. Finland-based Oura is helping pay for a study at the University of California San Francisco, and West Virginia University is also conducting a study to see whether the ring might provide useful data.  There's a little evidence to suggest that pulse and temperature can change before people notice symptoms of infections like influenza.  A study published earlier this year showed that Fitbit sleep and heart rate data involving 200,000 people as a whole seemed to sync with the changing epidemic of seasonal flu. Long says the potential to study large groups of people to see if there is useful data that can be collected is interesting. \"But it does not replace any of the other things we should be doing, and the other steps that the NBA should be doing in terms of protecting their players, protecting their staff,\" Long said. They should still be doing pools of testing and regular testing -- all of those other things.\" \"Just don't let it give us a false sense of security. Don't stop wearing your mask because your Oura ring says you're OK. You know, don't skip testing because everybody's Oura ring says they're fine.\" Makers have to prove their devices' accuracy The device makers have to first prove that their devices can accurately measure and report things such as a person's temperature and heart rate.  Smart watches have been working on this problem for years. It's not necessarily easy to monitor heart rate from a spot on the top of the wrist. Trying to measure it from a ring is a new and an even less-tested approach.  Then manufacturers would have to show that this information can accurately detect an infection. \"I don't care who — if it's Oura, or Fitbit or Apple — none of them are necessarily proven,\" Long said. \"We can't use it to give a false sense of security. We need to think of this as data and ideas in research right now.\" The Oura device is not approved by the US Food and Drug Administration to monitor health data. In 2018, the FDA approved two Apple apps to monitor for atrial fibrillation, a common heart rhythm irregularity that can lead to stroke, as well as unusually slow or unusually fast heart rates. The NBA's health and safety protocols mention a ring but say little else. \"To promote efforts to identify potential illness, upon arrival on the campus, each player and essential staff member will be given the option to participate in a process that uses a wearable device (worn as a ring) being studied and validated by the University of Michigan to generate a wellness assessment derived from metrics such as body temperature and respiratory and heart rate. The NBA will share additional details regarding the device and process for participation in a forthcoming memo to teams,\" the protocols read. CORRECTION: This story has been corrected to show that Oura is not paying for the West Virginia University study.  \n",
            "Label: politics , Text: How horror can guide Black audiences through racial trauma Washington (CNN)Horror can be a means of escaping racial realities. It can also be a means of exploring them. Take Misha Green's HBO series \"Lovecraft Country,\" set in 1950s Jim Crow America. One of the show's most chilling sequences arrives toward the end of the first episode. (CNN's parent company owns HBO.) A White cop tells Atticus Freeman (Jonathan Majors), who's with his uncle George Freeman (Courtney B. Vance) and his childhood friend and love interest Letitia Lewis (Jurnee Smollett), that they're in a sundown town. If they're not out by the time night falls in the next seven minutes, they could be arrested or killed; those are the rules for Black people. For several agonizing minutes, viewers watch as the cop tailgates the car driven by the frightened Black protagonists. They can't speed -- they'll get pulled over -- nor can they risk being in the county after the sun goes down. They barely make it. But the intensity of the sequence sticks. That's because sundown towns aren't make-believe. They were created to bolster racial segregation. Fantastical beasts certainly exist in \"Lovecraft Country,\" but part of the power of the show lies in its illustration that real-life racial terror is as monstrous as anything you might conjure up in your mind. \"What you're seeing with 'Lovecraft Country,' \" the writer Tananarive Due said, is how you can take racial trauma and demonstrate that \"it's a horror story before the monsters even show up.\" The author of \"The Good House,\" Due teaches a course on Black horror at UCLA. Ahead of the \"Lovecraft Country\" season finale on Sunday, she and I spoke about the current renaissance in Black horror storytelling, the treatment of Black characters in White creators' horror yarns and the genre's power to help Black viewers cope with the world around them. The following conversation has been lightly edited for length and clarity. Many writers, including my CNN colleagues Lisa Respers France and John Blake, have mentioned that we're witnessing a renaissance in Black horror storytelling, and they've pointed to Jordan Peele's 2017 movie \"Get Out\" as the start of this golden age. Broadly, how did Black creators figure into horror prior to Peele's shake-up? There were a lot of notable and powerful Black horror projects before \"Get Out.\" But they didn't get the recognition that they deserved, and those directors didn't get opportunities to go on and make Black horror movie after Black horror movie. One great example of this is Rusty Cundieff's 1995 movie \"Tales From the Hood,\" which had a similar theme of racism as the monster. It was only after \"Get Out\" that Cundieff got the green light to make 2018's \"Tales From the Hood 2.\" That's one of the best illustrations of what a difficult road it's been for Black horror creators to get traction in Hollywood. Even in the great renaissance of the '90s -- there was James Bond III's \"Def by Temptation\" (1990) and Kasi Lemmons' \"Eve's Bayou\" (1997), which, frankly, should've been an Oscar movie -- it was still hard. Never mind failing down. You were succeeding down in the '90s. I should also point out that there were standouts in the '70s, with William Crain's \"Blacula\" (1972) and Bill Gunn's \"Ganja & Hess\" (1973). \"Blacula\" opens with the titular character trying to stop the transatlantic slave trade. Black creators like Crain were trying to make up for lost time and pack a lot of history into their storytelling. But again, there was no sustained follow-up in the industry so that executives would even have a notion of what Black horror is. So then enter Peele. \"Get Out\" is a fantastic film, so that goes a long way toward explaining its popularity. But it's also a movie that, though made during the Obama era, was a perfect fit for the Trump era. It was fresh. It was in people's faces about racism as the monster. And it gave us -- creators, executives, academics -- the missing piece of the puzzle to help people realize the power of this subgenre. And before Peele's arrival, Black characters in the wider horror genre were often portrayed using flat, cartoonish stereotypes. When Black characters were left in the hands of White creators, they were used in very tropey, clichéd ways. With some of the earliest horror in the '30s, you had the sort of wide-eyed coonery and the cowardly, childlike nature. Later, you had the very comforting image of the Sacrificial Negro, who will give their life to save you, dear White person, for absolutely no reason pertaining to their own story. The Magical Negro appears as the character whose only point in the story is to impart a magical heritage to the White protagonist so that they can survive. There's the Spiritual Guide, which is a very similar role. Sometimes the guide dies. Sometimes they don't. But often, the guide will put themselves at great risk to give counsel and guidance to the White characters. These tropes kept appearing because Black characters had very minor roles. Generally speaking, in a horror movie, someone has to suffer to make it clear that the stakes are big. And usually, you can't kill off the (White) protagonist because it's the protagonist's story. So then Black characters and other marginalized characters became expendable like the redshirts in a \"Star Trek\" episode: subject to untimely deaths, and not treated with the same depth as the main character. The 1996 cult classic \"The Craft\" introduced me to the power of blending horror with direct commentary on racism. In the film, Rachel True's character asks her White tormentor, played by Christine Taylor, why she keeps harassing her. The bully's breezy response: \"Because I don't like negroids.\" That blunt embrace of racism pierced right through me, and even as a child, the revenge that True's character exacts felt darkly cathartic. Why do you think that horror, generally, can be an especially moving way for Black audiences to explore or escape social and political realities? My late mother, Patricia Stephens Due, was an activist in the '60s, and she was jailed and tear-gassed and wore dark glasses for her entire adult life because of sensitivity to light after a tear-gassing when she was a college student. She had these scars and this trauma from the fight for social justice and civil rights. And I really do believe that she was a fan of horror movies more as a way to kind of drain away some of the trauma of the real-life horrors that she couldn't fix and couldn't control: the anxieties of being a Black American and being subjected to institutional racism, the fear that harm would come to her grandsons at the hands of the police. Like I say in \"Horror Noire\" (2019), Black history is Black horror. Which reminds me of \"Lovecraft Country,\" a show that takes place in the '50s and sometimes imagines racists as the real monsters. What you're seeing with \"Lovecraft Country\" is an example of how you can take a traumatic event -- the 1921 Tulsa massacre was the subject of the most recent episode -- and show that it's a horror story before the monsters even show up. You don't need monsters for it to be horror. But when we add monsters, we're unpacking horror more metaphorically. We're giving horror a form that's easier to vanquish, because there are rules to monsters and there aren't rules to racism except White supremacy. With a monster, if you do the right ritual or say the right incantation or have the right group of people, you might actually beat that thing. I think that the idea of rules was very appealing to my mother, the idea that sometimes you can beat the monster. But even if you can't beat the monster, you see characters demonstrate survival behaviors against unimaginable odds. You have to react quickly. You have to be able to process new and confusing information. You have to know how to run when things don't look right. There are so many real-life survival lessons in horror movies. I recently saw a piece in The New York Times citing a study that says that horror fans have an easier time coping with crisis. I don't know if that's true, but I do feel that my interest in horror, especially in Black horror, has a lot to do with preparedness for crisis, because even if it's not a racist crisis, life is always going to throw crises at us. Life gets harder as we go, not easier. It takes a lot of courage to face the realities of life. To me, horror is portraits of courage, portraits of survival. Or at least portraits of how to fight, to give it every last ounce you have before you give up. You made me think of one of my favorite scenes in 2001's \"Scary Movie 2,\" which isn't a horror movie but, rather, a send-up of the genre. When one of the White characters says that the group ought to split up to track down a ghost, a Black character played perfectly by Regina Hall replies, \"How come every time some scary s**t happens and we need to stick together, you White people always say, 'Let's split up?' \" That comes from a particular place. Because Black Americans have been subjected to so much intergenerational horror -- like the aftermath of Tulsa, like just trying to return home from the supermarket without getting pulled over -- when something doesn't look right, we don't walk toward it. We walk away from it. In fact, if we can, we run away from it. And that's the sensibility that many White filmmakers miss when they're making horror, specifically when they're depicting Black characters. If you had a more comfortable upbringing or you don't have too many historical traumas, maybe you're more willing to say, \"Hello? Is someone there?\" and follow the sound around the house. But if you've seen stuff go down, you're going to have a different reaction. Black horror is horror, first and foremost. That's my firm opinion. Black horror is a subgenre of horror, but it's still horror. It's just a slightly different sensibility, and sometimes has themes that are more related to race and history and social justice and ancestors and ritual than traditional horror. I think that horror fans are somewhat unique in that they've seen it all so many times that what they really crave is novelty. I think that the fact that \"Get Out\" and \"Us\" (2019) each grossed more than $250 million is evidence that horror fans are happy to embrace difference in their movies. And honestly, just having a Black protagonist is still so revolutionary in 2020.  \n",
            "Label: politics , Text: Trump team tries to keep debate fight going but others move on Washington (CNN)President Donald Trump's reelection campaign on Sunday revived its push for an in-person presidential debate even though it seems the Joe Biden campaign -- and the debate commission -- have moved on. The move comes after Trump -- who has repeatedly flouted best public health practices since his Covid-19 diagnosis -- declined last week to participate in a virtual format. The latest effort from senior campaign surrogates and West Wing staff comes after the White House physician cleared Trump to resume public activity, but declined to say when the President's last negative test took place.  \"The President is ready to debate and his doctors have cleared him for participating in public engagements,\" White House deputy communications director Brian Morgenstern told reporters at the White House Sunday. \"They've said he's no longer a risk for transmission so it would be nice if the commission would get the debate back on the schedule.\" With the backing of their health advisers, the commission had announced Thursday morning that -- because Trump had recently tested positive for Covid-19 -- the debate that was scheduled for Miami this week would be held virtually, with the two candidates appearing from remote locations.  But Trump swiftly rejected that plan, saying he would not show up. As a result, the President's campaign and Biden's campaign have scrambled to set up dueling town hall events in recent days as a way to still reach voters in the final stretch of the election.  Biden is set to participate in a town hall on ABC, moderated by George Stephanopoulos, Thursday at 8 p.m. ET. The former vice president's campaign and ABC announced the event the same day that the commission said the second debate would be virtual, and have made their commitment to the network town hall known even as the Trump campaign has pushed for a new debate schedule.  Trump's team, meanwhile, is in talks with NBC about a town hall, according to multiple sources familiar with the planning. The event is conditioned on the President testing negative for the coronavirus, the sources said. That town hall will likely be in an outdoor setting in Miami, just like the one NBC recently hosted with Biden, the sources added. But even as the Trump campaign plans for a network town hall event, campaign surrogates continue to mount a forceful push for an in-person debate.  The President's son, Eric Trump, echoed his father's push to reschedule, saying on ABC's \"This Week\" that his father \"wants to stand on the stage with his opponent.\"  And Trump's daughter-in-law, Lara Trump, praised the President \"for saying no,\" telling Fox News on Sunday, \"I think a virtual debate is an absolute disaster.\" The last-minute push for an in-person debate reflects the mounting risk of Trump's decision to walk away from the virtual debate at a time when his campaign is trailing in national polls and in a number of key swing states with a little more than three weeks to go until Election Day. The Commission on Presidential Debates did not immediately respond to CNN's request for comment Sunday.  The commission's decision to cancel the second Trump-Biden contest of the cycle was the culmination of a furious 48-hour back-and-forth between the commission and both Trump's and Biden's campaigns. \"It is now apparent there will be no debate on October 15, and the CPD will turn its attention to preparations for the final presidential debate scheduled for October 22,\" the commission said in a statement on Friday.  The President has repeatedly signaled that he is ready to put his bout with coronavirus behind him and return to the campaign trail, despite little clarity about his condition, no independent view of his physical state and warnings from health experts he could still be shedding the virus. He even told Fox News' \"Sunday Morning Futures\" that it \"seems like I'm immune\" despite there being no evidence that people are immune if they have been infected once and the US Centers for Disease Control and Protection specifically cautioning people not to assume they are immune. Biden deputy campaign manager Kate Bedingfield told CNN's Jake Tapper on \"State of the Union\" Sunday that \"we are not going to let Donald Trump whipsaw around at the last second trying to rewrite the rules.\" Trump, she said, \"doesn't get to set the calendar.\" \"The debate commission sets the calendar. We all agreed to these debates back in June, and we're not going to let him try to rewrite the rules at the last second.\" The commission's October 22 debate is set to be held in Nashville and will likely be the final meeting between the two candidates before Election Day.  This story has been updated with additional reporting.  CNN's Brian Stelter, Oliver Darcy, Kaitlan Collins, Dan Merica, Kevin Liptak and Kevin Bohn contributed to this report.  \n",
            "Label: health , Text: A 6-year-old girl is the youngest person to die of Covid-19 in Florida, state says  (CNN)A 6-year-old girl from Hillsborough County became the youngest person to die from coronavirus complications in Florida, health officials said.  The girl is among the 119 deaths reported by the state on Friday, according to data from the Florida Department of Health. It's unclear whether she contracted the virus after being in contact with a known case or if her infection was travel related.  The health department did not provide further details. CNN has reached out to Florida Gov. Ron DeSantis for comment. Eight minors in Florida have died from Covid-19, according to the latest health records.  The previous youngest victim of Covid-19 was 9-year-old Kimora \"Kimmie\" Lynum. The girl, who had no known underlying health conditions, died July 18 in Putnam County. The others were an 11-year-old boy and a 16-year-old girl in Miami-Dade County, an 11-year-old girl in Broward County, a 16-year-old girl in Lee County, a 17-year-old boy in Pasco County and a 17-year-old boy in Manatee County.   Hillsborough County is located in the west central area of the state and is the county seat is the city of Tampa. The county has had 159 fatalities, health officials said. Florida has the second-highest number of coronavirus cases in the country. The state has reported 593,286 cases since the pandemic began, according to a tally of cases from Johns Hopkins University.  \n",
            "Label: politics , Text: Trump's campaign rocked by coronavirus one month before election  (CNN)President Donald Trump's campaign has been thrown into chaos, adjusting its tactics, messaging and work environment following Trump and a number of top aides and political allies' positive tests for coronavirus.  Trump is in the hospital. His campaign manager, Bill Stepien, and the Republican National Committee chairwoman, Ronna McDaniel, contracted the virus. All of the campaign's planned rallies and fundraisers featuring the President and his family are on hold. And Trump's ability to debate Democratic rival Joe Biden again is uncertain.  Trailing Biden with one month left in the 2020 race, Trump is now stuck in a position he's spent months trying to avoid: Faced with an election that is all about the coronavirus pandemic, with no way to change the topic.  With ballots already available in 35 states and voting beginning in the swing states of Arizona, Iowa, New Hampshire and Ohio within the next week, millions of votes could be cast with Trump sick with a virus he has downplayed for months. The next time Trump and Biden are scheduled to meet in person for a debate is October 15, for a town hall-style event in Miami. But it's unclear now whether Trump will be physically able to participate. The Commission on Presidential Debates is already preparing to make a change that is effectively a rebuke of Trump, whose guests declined a Cleveland Clinic doctor's request that they wear masks at the first debate on Tuesday. A source familiar with the matter said the commission will announce that everyone in the debate halls, except the candidates and moderator, must remained masked until conclusion -- and those not wearing masks will be escorted out. Trump's other ways of narrowing Biden's consistent lead in national and swing-state polls are limited: Biden is expected to report a massive fundraising total from September -- one that sources familiar with the matter said will top his record-smashing $365 million August haul. That would likely position Biden as the clear leader in the cash race through November 3, allowing him to out-spend Trump on advertising.  Trump had driven news coverage with his bombastic rallies, some of which were being held indoors and all of which featured crowds which were tightly packed together and largely without masks. But those are on hold, too, Stepien said in a statement Friday. All in-person campaign activities involving Trump and his family have been postponed or are being switched to virtual events, Stepien said. \"We're really back to where we were on the campaign in March and April, where the President was communicating via telephone town hall rallies and talking to people through his social media activities and through the television,\" Corey Lewandowski, who was Trump's first 2016 campaign manager and saw Trump at a Minnesota rally on Wednesday, told Fox News on Friday. \"So it's going to be a different type of campaign.\"  Vice President Mike Pence, who tested negative for the virus Saturday, will be active on the campaign trail. Trump's campaign announced a Thursday rally in Arizona that Pence will headline.  And events with Trump's surrogates were continuing over the weekend. Trump campaign aide Marc Lotter tweeted a photo from an Iowa event with Republican Gov. Kim Reynolds in which the governor and many attendees were not wearing masks. The campaign's approach to voter outreach doesn't appear to have changed yet, with in-person canvassing -- which Trump's allies have done for months, while Biden was set to resume door-knocking this weekend -- going forward.  Stepien told staff he will work from home. Stepien is expected to reach out to campaign staff and grassroots leaders in a series of conference calls on Saturday and Pence is planning to be a part of at least one of them.   Meanwhile, at the campaign's Arlington headquarters, deputy campaign manager Justin Clark, is overseeing day-to-day activities.  In a memo to staff prior to his positive test, Stepien instructed his team work from home if they believe they came in close contact with someone who tested positive for the virus. \"In consultation with the White House Medical Unit and our own medical consultants, any campaign staff member who has had exposure to someone testing positive should immediately begin self-quarantine,\" Stepien wrote, though he also told staff without symptoms that it was unnecessary to self-quarantine. On Saturday, it was clear how badly Trump's campaign was struggling to find a message to meet the new moment it faces.  Trump's campaign frequently seeks to set the tone of coverage of Biden by posing a \"question of the day.\" The question the campaign sent reporters Saturday morning was: \"Do you regret repeatedly attacking President Trump in a Michigan speech on the same day he was diagnosed with COVID-19?\"  The email followed Trump campaign spokesman Tim Murtaugh complaining Friday that Biden had attacked Trump during a speech in Grand Rapids, Michigan.  But the complaints are hollow: Biden was mildly critical of Trump's handling of the economy, noting that -- if he loses on November 3 -- Trump is on track to become the first president in modern history to leave office with an economy with fewer jobs than he entered with. But he did not attack Trump in personal terms, dropping his usual \"Scranton vs. Park Ave.\" message and his usual criticism of Trump's history of racist comments and actions. And his campaign said it has pulled its ads condemning Trump. Trump has not taken any of his attack ads down. And on Friday -- with Biden campaigning in Michigan and Trump about to head to Walter Reed Medical Center -- Trump's campaign in a fundraising email to supporters attacked former President Barack Obama, calling him \"Lyin' Obama,\" and said Biden is \"probably already asleep in his basement.\"  Meanwhile, the Trump campaign's complaints conflict with how Trump himself dealt with an opponent who was sick. At a 2016 rally, Trump mocked Hillary Clinton after her bout with pneumonia.  \"She's supposed to fight all of these different things and she can't make it 15 feet to her car? Give me a break. Give me a break,\" Trump said then. \"Give me a break. She's home resting right now.\"  CNN's Donald Judd, Kaitlan Collins and Dana Bash contributed to this report. \n",
            "Label: entertainment , Text: ACM Awards 2020: Check out who won  (CNN)The Academy of Country Music Awards aired live Wednesday night, bringing together the biggest names in country music. Keith Urban hosted the event from the Grand Ole Opry House to an empty audience amid the Covid-19 pandemic, but the show was spirited.   Among the performers were Taylor Swift, Carrie Underwood, Luke Bryan, Eric Church, Luke Combs and Tim McGraw. Swift took the show's stage for the first time in seven years to perform \"Betty\" off her new album, \"Folklore.\"  When it came to the big categories, Old Dominion won group of the year and Luke Combs won album of the year for \"What You See Is What You Get.\" Entertainer of the year, the top ACM prize, was presented last and produced a surprise. Urban seemed shocked when he opened the envelope to announce that this year's winner ended up in a tie between Carrie Underwood and Thomas Rhett. Despite having to share the award, both stars seemed equally thrilled during their acceptance speeches.  Underwood previously won the award in 2009 and 2010. See below for a list of the winners. DUO OF THE YEAR Brooks & Dunn Brothers Osborne Dan + Shay *WINNER Florida Georgia Line Maddie & Tae GROUP OF THE YEAR Lady A Little Big Town Midland Old Dominion *WINNER The Highwomen NEW FEMALE ARTIST OF THE YEAR Ingrid Andress Gabby Barrett Lindsay Ell Caylee Hammack Tenille Townes *WINNER NEW MALE ARTIST OF THE YEAR Jordan Davis Russell Dickerson Riley Green *WINNER Cody Johnson Morgan Wallen ALBUM OF THE YEAR Center Point Road — Thomas Rhett GIRL — Maren Morris Heartache Medication — Jon Pardi What You See Is What You Get — Luke Combs *WINNER Wildcard — Miranda Lambert SINGLE OF THE YEAR \"God's Country\" — Blake Shelton *WINNER \"One Man Band\" — Old Dominion \"Rainbow\" — Kacey Musgraves \"Rumor\" — Lee Brice \"What If I Never Get Over You\" — Lady A SONG OF THE YEAR \"10,000 Hours\" — Dan + Shay with Justin Bieber \"Girl Goin' Nowhere\" — Ashley McBryde \"God's Country\" — Blake Shelton \"One Man Band\" — Old Dominion *WINNER \"Some of It\" — Eric Church VIDEO OF THE YEAR \"10,000 Hours\" — Dan + Shay with Justin Bieber \"God's Country\" — Blake Shelton \"One Man Band\" — Old Dominion \"Remember You Young\" — Thomas Rhett *WINNER \"Sugar Coat\" — Little Big Town SONGWRITER OF THE YEAR Ashley Gorley Michael Hardy Hillary Lindsey *WINNER Shane McAnally Josh Osborne ENTERTAINER OF THE YEAR Luke Bryan Eric Church Luke Combs Thomas Rhett *WINNER Carrie Underwood *WINNER FEMALE ARTIST OF THE YEAR Kelsea Ballerini Miranda Lambert Maren Morris *WINNER Kacey Musgraves Carrie Underwood MALE ARTIST OF THE YEAR Dierks Bentley Luke Combs *WINNER Thomas Rhett Chris Stapleton Keith Urban MUSIC EVENT OF THE YEAR 10,000 Hours -- Dan + Shay with Justin Bieber Dive Bar -- Garth Brooks Featuring Blake Shelton Fooled Around and Fell in Love -- Miranda Lambert Featuring Maren Morris, Ashley McBryde, Tenille Townes, Caylee Hammack & Elle King *WINNER Old Town Road -- Lil Nas X Featuring Billy Ray Cyrus  \n",
            "Label: entertainment , Text: Nicki Minaj announces pregnancy  (CNN)First came love, then came marriage and soon will come Nicki Minaj with a baby carriage. On Monday the rapper announced via her official social media accounts that she and husband Kenneth Petty are expecting.   Minaj posted a photo showing her in what appeared to be a two-piece sporting a prominent baby bump. \"#Preggers.\" the caption read. She surprised fans in October when she posted about marrying Petty, an old friend of hers. \"Onika Tanya Maraj-Petty 10•21•19,\" the caption read, seemingly sharing her new legal name and the date she made it official with boyfriend Kenneth Petty. Last month she talked to People magazine about how much she enjoys married life. \"When you have someone that feels like your soulmate or someone who understands you, it just makes you feel like you're on top of the world,\" Minaj said.  This will be Minaj's first child.   \n",
            "Label: entertainment , Text: Megan Thee Stallion makes Time's list of 100 most influential people  (CNN)Megan Thee Stallion is most likely feeling \"All Dat\" after being named one of Time magazine's 100 most influential people of 2020.  The 25-year-old rapper -- born Megan Jovon Ruth Pete -- is among the high-profile \"pioneers\" to feature on the prestigious list, which recognizes those who have impacted the world by \"harnessing the power of influence to forge genuine progress.\"  Explaining why the Houston native deserves a place among other high-profile names including Selena Gomez, Michaela Coel and Phoebe Waller-Bridge, Oscar-nominated actress Taraji P. Henson described Megan as \"the epitome of tenacity.\"  \"I don't like to put the stigma of the word strong on Black women because I think it dehumanizes us,  but she has strength -- strength through vulnerability,\" the \"Empire\" star wrote in the special issue of Time.  \"It's invigorating to see her become a platinum-selling artist with the viral hit 'Hot Girl Summer' and multiple No. 1 songs in the past year, 'Savage' and 'WAP.' But you would be a fool to think that's all there is to her. She's deep.\"  Henson emphasized the influence Megan has had in the music industry in the early stages of her career.   \"She rode the beat like I'd never heard anybody ride the beat in a long time—and I'm a hip-hop head,\" Henson wrote.  Touching on Megan's personal struggles, she continued: \"She's lost much of her family -- her mother, her father, her grandmother -- yet she is the epitome of tenacity, of pulling herself up by her bootstraps. She was shot this summer, and still people tried to tear her down.\"  Henson concluded the piece by adding that despite the industry's efforts to \"pigeonhole\" her, Megan's \"got a plan that's much bigger. And we got her. I just want her to keep winning.\"  Megan, who recently topped the Billboard 100 chart with \"WAP,\" her collaboration with fellow rapper Cardi B, celebrated the honor with her fans on Instagram Tuesday, writing: \"STILL I RISE 🖤 YOUNG BLACK WOMAN FROM HOUSTON TEXAS ON THE COVER OF TIME MAGAZINE AS ONE OF THE MOST INFLUENTIAL PEOPLE IN THE WORLD.\"  Megan has every reason to celebrate after a sensational year that saw her take home the award for Best Hip Hop Video for her song \"Savage\" at the 2020 MTV VMA Awards, launch a viral TikTok challenge and collaborate with Beyoncé on the \"Savage\" remix for charity Other figures to be honored include The Weeknd, Michael B. Jordan, J Balvin, JoJo Siwa, Halsey, Jennifer Hudson, and Oscar-winning South Korean director Bong Joon Ho.  \n",
            "Label: health , Text: US coronavirus deaths pass 14,000, but future projections are better than expected  (CNN)Even though Wednesday was another day that brought a record number of deaths reported from coronavirus in the United States, there was a glimmer of hope as models now have less dire forecasts for the total number of fatalities the country will see by the time the pandemic subsides. More than 431,000 people in the US have been infected, and more than 14,700 have died. A record 1,858 deaths were reported in just one day Tuesday, according to Johns Hopkins. On Wednesday there were 1,922 more.  New York Gov. Andrew Cuomo told reporters Wednesday that there were 779 coronavirus-related deaths across the state Tuesday. It was the highest number of deaths reported in one day by New York officials. Researchers say the peak has yet to come. The US will reach its highest daily number of deaths on or around Sunday, according to modeling by the Institute for Health Metrics and Evaluation at the University of Washington in Seattle.  The projections also suggest the US will reach its peak use of resources -- such as hospital beds and ventilators -- on or around Saturday.  But there's a bit of good news: The modeling shows fewer people will die from coronavirus than previously predicted.  On Tuesday, the IHME estimated about 82,000 people will die from coronavirus disease by August. On Wednesday, that estimate was lowered to 60,415.  White House coronavirus response coordinator Dr. Deborah Birx said at a White House news conference that models are based on what Americans are doing. \"What has been so remarkable, I think, to those of us that have been in the science field for so long,\" Birx said, \"is how important behavioral change is, and how amazing Americans are at adapting to and following through on these behavioral changes.\"  \"That's what's changing the rate of new cases, and that's what will change the rate of mortality going forward,\" she said.  Cuomo said it was a bit of good news/bad news. \"Our actions have been better than the statisticians believed. So, we can flatten the curve. We are flattening the curve,\" he told CNN. \"We have to maintain it, but the human cost here, the human toll, the suffering, is just incredible. It's just incredible.\" The five-day moving average of new cases in the US, which had trended down for one day, according to Johns Hopkins, went back up Wednesday. Deaths could be higher than reported, CDC says Many families are grieving for loved ones who often die alone in hospitals.  And the actual number of deaths could be higher than we know. Some deaths due to Covid-19 \"may be misclassified as pneumonia deaths in the absence of positive test results,\" the Centers for Disease Control and Prevention said.  The virus has claimed victims from virtually all demographics, including the young and healthy. But data shows black people are dying from Covid-19 at a disproportionately high rate. While there have been signs that the number of cases in New York and some other hotspots are leveling off, officials are concerned about other cities. On a conference call with House Democrats, Birx said the Philadelphia and District of Columbia areas are expected to be the new hot spots, according to a source on the call. She said that they also are carefully watching the Houston area, one of the most populous regions in the country. Large outbreak at jail in Chicago More than 400 people linked to one detention facility in Chicago have tested positive for Covid-19, officials said, making the Cook County Jail the largest known source of coronavirus infections in the United States outside of health care facilities. The Cook County Sheriff's office said 251 detainees and 150 staff members have tested positive. Of the detainees sickened in the outbreak, 22 are hospitalized for treatment and 31 others were moved to a recovery facility. One detainee died of apparent complications of Covid-19, sheriff's officials said, but results of an autopsy are not back yet. The jail has created a quarantine area to keep detainees who are infected from the others at the jail.  The jail complex houses about 4,700 detainees, according to the sheriff's office. Jail officials have previously said they planned to release nonviolent pretrial defendants who do not have the virus. Millions of Americans are suddenly unemployed More than 9.9 million US workers have filed for their first week of unemployment benefits as coronavirus cripples the economy. In New York, the state with the most cases and deaths, officials estimate a loss of $10 billion to $15 billion in revenue. Cuomo announced those who have filed unemployment claims will receive an additional $600 a week to try to make ends meet. Tennessee has seen a \"record spike\" in unemployment claims of more than 250,000 in the last three weeks, Gov. Bill Lee said. Louisiana had 277,000 applications between March 1 and April 4, according to Gov. John Bel Edwards. In Oklahoma, about 135,000 residents filed for unemployment, the Oklahoma Employment Security Commission said. In West Virginia, Gov. Jim Justice said an additional $600 would be distributed to those who lost their jobs. South Carolina Gov. Henry McMaster signed an executive order that allows furloughed employees to receive Covid-19 support payments from their employers to still qualify for unemployment benefits, his office said. The next weekly report on unemployment claims nationwide will be revealed Thursday. Blood plasma treatment and vaccine trials move forward Vaccines typically take years before they're publicly available, but officials are racing to develop one for Covid-19 as quickly as possible. Dr. Anthony Fauci, the director of the National Institute of Allergy and Infectious Diseases, said it might be possible to have a coronavirus vaccine in 12 to 18 months, but some experts say that timeline is risky. One vaccine trial administered its first dose last month, and now another vaccine trial has started. Biotechnology company Inovio started a Phase 1 clinical trial this week and estimates that will be finished late this summer, a spokesperson for Inovio told CNN. \"We anticipate rapid enrollment of this initial study,\" said Dr. Pablo Tebas, an infectious disease specialist at the Hospital of the University of Pennsylvania and the study's principal investigator.  \"There has been tremendous interest in this vaccine among people who want to do what they can do to help protect the greater public from this pandemic as soon as possible.\" A source who was on the call with House Democrats told CNN that officials committed to making all vaccines and tests for the disease available to everyone, including those who cannot afford it. In the meantime, the US Food and Drug Administration expedited the use of blood plasma treatment for seriously ill patients last month.  This week, Jason Garcia -- a man who recovered from coronavirus  -- was told his plasma donation has been distributed so the antibodies he developed can help another patient do the same. Garcia said doctors told him a patient had since improved. Your coronavirus questions, answered CNN's Manu Raju, Lauren Fox, Nikki Carvajal, Jacqueline Howard, Ethan Cohen, Ben Tinker, Elizabeth Joseph, Eric Levenson, Gina Yu, Laura Ly and Jaide Timm-Garcia contributed to this report. \n"
          ],
          "name": "stdout"
        }
      ]
    },
    {
      "cell_type": "markdown",
      "metadata": {
        "id": "PxhqIHteuffp"
      },
      "source": [
        "## Questions:"
      ]
    },
    {
      "cell_type": "markdown",
      "metadata": {
        "id": "nzRTSgwjhwom"
      },
      "source": [
        "For this exercise you will use a transformer model **BERT** that was discussed in lecture. [Hugging Face](https://huggingface.co/) is an NLP-focused company with a large open-source library especially around the Transformers. They provide the transformers library that exposes an API to use many well-known transformer architectures, such as BERT, RoBERTa, GPT-2 or DistilBERT, that obtain state-of-the-art results on a variety of NLP tasks like text classification, information extraction, question answering, and text generation. These architectures come pre-trained with several sets of weights. Getting started with Transformers only requires to install the `pip install transformers`\n",
        "\n",
        "You will use BERT direclty from the transformers package\n"
      ]
    },
    {
      "cell_type": "markdown",
      "metadata": {
        "id": "JqyILrmJCvld"
      },
      "source": [
        "## Question 1 : Build a text classification model using BERT (3.0 Points)"
      ]
    },
    {
      "cell_type": "markdown",
      "metadata": {
        "id": "UdhF9ODTXm7G"
      },
      "source": [
        "#### a) Prepare data for BERT\n",
        "\n",
        "BERT requires the data to be tokenized in a specific way, for this you need to use the `BertTokenizer` from the `transformers` package from Hugging Face. Steps to prepare your dataset:\n",
        "\n",
        "- Split data to train/validation\n",
        "- Use `BertTokenizer` to tokenize the input text\n",
        "- [BertTokenizer](https://huggingface.co/transformers/model_doc/bert.html#berttokenizer), use `bert-base-uncased` as the `vocab_file` argument\n",
        "- When using `tokenizer.encode_plus(...)` use the `max_length=256` or some value `<=512`. You may run into OOM error during training if the value is high\n",
        "- The output tokens from `tokenizer.encode_plus(...)` is a dictionary with the keys `'input_ids', 'token_type_ids', 'attention_mask'`\n",
        "- Remember to convert the data y values `to_categorical`\n",
        "- Create TF Datasets using the tokenized results. When using `tf.data.Dataset.from_tensor_slices(...,...)` look out for the x values passed in. `BERT` requires 3 inputs `'input_ids', 'token_type_ids', 'attention_mask'` as a tuple.\n",
        "- Remember to apply `shuffle(..)` `batch(...)` `prefetch(..)` to your train and validation data"
      ]
    },
    {
      "cell_type": "code",
      "metadata": {
        "id": "StP1O5vEXx3a",
        "outputId": "1dff563c-f16b-42d3-d20d-e25fbd2b3ff1",
        "colab": {
          "base_uri": "https://localhost:8080/",
          "height": 307,
          "referenced_widgets": [
            "2127353ca03e4af0948a70958d531b51",
            "93bbc4a850044a6bb7f297c6d2b91915",
            "c99b072cda174ef58023b04914432cc2",
            "9773228ffd5e480194c8d9a4858f0169",
            "1dba92875f104109a5a58a75c8bc2dfe",
            "8fde34f0a31d4f419e41de6a5761627c",
            "ce7d70ebd8204156b257aa6fd8baed88",
            "ef11859a233e4cddb4a5c5bc07d4403b"
          ]
        }
      },
      "source": [
        "# Examples on how to use the BertTokenizer\n",
        "tokenizer=BertTokenizer.from_pretrained('bert-base-uncased',do_lower_case=True)\n",
        "\n",
        "# Tokenizer encode_plus\n",
        "text = \"What you need to know about using them safely amid the pandemic\"\n",
        "outputs = tokenizer.encode_plus(text, \n",
        "                  add_special_tokens = True, # add [CLS], [SEP]\n",
        "                  max_length = 15, # max length of the text that can go to BERT (<=512)\n",
        "                  padding='max_length',\n",
        "                  return_attention_mask = True, # add attention mask to not focus on pad tokens\n",
        "                  truncation='longest_first',\n",
        "                  return_tensors=\"tf\"\n",
        "              )\n",
        "print(\"Tokenizer Output:\",outputs)\n",
        "\n",
        "# Tokenizer batch_encode_plus\n",
        "text = [\"What you need to know about using them safely amid the pandemic\", \n",
        "        \"A third of Medicare enrollees with coronavirus ended up in the hospital\"]\n",
        "outputs = tokenizer.batch_encode_plus(\n",
        "        text,\n",
        "        return_tensors='tf',\n",
        "        add_special_tokens = True, # add [CLS], [SEP]\n",
        "        return_token_type_ids=True,\n",
        "        padding='max_length',\n",
        "        max_length=15, # max length of the text that can go to BERT (<=512)\n",
        "        return_attention_mask = True,\n",
        "        truncation='longest_first'\n",
        "    )\n",
        "print(\"Tokenizer Output:\",outputs)\n",
        "print(\"Tokenizer Output Keys:\", outputs.keys())"
      ],
      "execution_count": 8,
      "outputs": [
        {
          "output_type": "display_data",
          "data": {
            "application/vnd.jupyter.widget-view+json": {
              "model_id": "2127353ca03e4af0948a70958d531b51",
              "version_minor": 0,
              "version_major": 2
            },
            "text/plain": [
              "HBox(children=(FloatProgress(value=0.0, description='Downloading', max=231508.0, style=ProgressStyle(descripti…"
            ]
          },
          "metadata": {
            "tags": []
          }
        },
        {
          "output_type": "stream",
          "text": [
            "\n",
            "Tokenizer Output: {'input_ids': <tf.Tensor: shape=(1, 15), dtype=int32, numpy=\n",
            "array([[  101,  2054,  2017,  2342,  2000,  2113,  2055,  2478,  2068,\n",
            "         9689, 13463,  1996,  6090,  3207,   102]], dtype=int32)>, 'token_type_ids': <tf.Tensor: shape=(1, 15), dtype=int32, numpy=array([[0, 0, 0, 0, 0, 0, 0, 0, 0, 0, 0, 0, 0, 0, 0]], dtype=int32)>, 'attention_mask': <tf.Tensor: shape=(1, 15), dtype=int32, numpy=array([[1, 1, 1, 1, 1, 1, 1, 1, 1, 1, 1, 1, 1, 1, 1]], dtype=int32)>}\n",
            "Tokenizer Output: {'input_ids': <tf.Tensor: shape=(2, 15), dtype=int32, numpy=\n",
            "array([[  101,  2054,  2017,  2342,  2000,  2113,  2055,  2478,  2068,\n",
            "         9689, 13463,  1996,  6090,  3207,   102],\n",
            "       [  101,  1037,  2353,  1997, 27615, 25612, 10285,  2007, 21887,\n",
            "        23350,  3092,  2039,  1999,  1996,   102]], dtype=int32)>, 'token_type_ids': <tf.Tensor: shape=(2, 15), dtype=int32, numpy=\n",
            "array([[0, 0, 0, 0, 0, 0, 0, 0, 0, 0, 0, 0, 0, 0, 0],\n",
            "       [0, 0, 0, 0, 0, 0, 0, 0, 0, 0, 0, 0, 0, 0, 0]], dtype=int32)>, 'attention_mask': <tf.Tensor: shape=(2, 15), dtype=int32, numpy=\n",
            "array([[1, 1, 1, 1, 1, 1, 1, 1, 1, 1, 1, 1, 1, 1, 1],\n",
            "       [1, 1, 1, 1, 1, 1, 1, 1, 1, 1, 1, 1, 1, 1, 1]], dtype=int32)>}\n",
            "Tokenizer Output Keys: dict_keys(['input_ids', 'token_type_ids', 'attention_mask'])\n"
          ],
          "name": "stdout"
        }
      ]
    },
    {
      "cell_type": "code",
      "metadata": {
        "id": "r65CIK8Cx6wY",
        "outputId": "1097fc01-f4b8-45c2-a418-7b48f8c8ff20",
        "colab": {
          "base_uri": "https://localhost:8080/"
        }
      },
      "source": [
        "# Datatset Params\n",
        "batch_size = 8 # You can try higher values but may run into OOM errors depending on which GPU you are using\n",
        "train_shuffle_buffer_size = 800\n",
        "validation_shuffle_buffer_size = 200\n",
        "\n",
        "def process_labels(labels: list, label2index: dict,  num_classes: int):\n",
        "  label_ids = [label2index[label] for label in labels]\n",
        "  return to_categorical(label_ids, num_classes=num_classes, dtype='int32')\n",
        "\n",
        "label_names = os.listdir(data_dir)\n",
        "num_classes = len(label_names) \n",
        "\n",
        "label2index = dict((name, index) for index, name in enumerate(label_names))\n",
        "index2label = dict((index, name) for index, name in enumerate(label_names))\n",
        "\n",
        "# Convert all y labels to categories\n",
        "data_processed_y = process_labels(data_y, label2index, num_classes)\n",
        "\n",
        "train_x, validate_x, train_y, validate_y = \\\n",
        "  train_test_split(data_x, data_processed_y, test_size=0.2)\n",
        "\n",
        "\n",
        "# print(len(data_x), len(data_y))\n",
        "ds_train = tf.data.Dataset.zip((\n",
        "    tf.data.Dataset.from_tensor_slices(train_x),\n",
        "    tf.data.Dataset.from_tensor_slices(train_y)\n",
        "))\n",
        "ds_validation = tf.data.Dataset.zip((\n",
        "    tf.data.Dataset.from_tensor_slices(validate_x),\n",
        "    tf.data.Dataset.from_tensor_slices(validate_y)\n",
        "))\n",
        "\n",
        "\n",
        "def map_example_to_dict(input_ids, attention_masks, token_type_ids, label):\n",
        "  return {\n",
        "      \"input_ids\": input_ids,\n",
        "      \"token_type_ids\": token_type_ids,\n",
        "      \"attention_mask\": attention_masks,\n",
        "  }, label\n",
        "\n",
        "def convert_example_to_feature(text):  \n",
        "  return tokenizer.encode_plus(text, \n",
        "                               add_special_tokens = True, # add [CLS], [SEP]\n",
        "                               max_length = 15, # max length of the text that can go to BERT (<=512)\n",
        "                               padding='max_length',\n",
        "                               return_attention_mask = True, # add attention mask to not focus on pad tokens\n",
        "                               truncation='longest_first',\n",
        "                               return_tensors=\"tf\")\n",
        "\n",
        "def encode_examples(ds, limit=-1):\n",
        "  # prepare list, so that we can build up final TensorFlow dataset from slices.\n",
        "  input_ids_list = []\n",
        "  token_type_ids_list = []\n",
        "  attention_mask_list = []\n",
        "  label_list = []\n",
        "\n",
        "  if (limit > 0):\n",
        "      ds = ds.take(limit)\n",
        "\n",
        "  for text, label in ds:\n",
        "    bert_input = convert_example_to_feature(text.numpy().decode())\n",
        "    input_ids_list.append(bert_input['input_ids'][0])\n",
        "    token_type_ids_list.append(bert_input['token_type_ids'][0])\n",
        "    attention_mask_list.append(bert_input['attention_mask'][0])\n",
        "    label_list.append([label])\n",
        "\n",
        "  return tf.data.Dataset.from_tensor_slices((input_ids_list, attention_mask_list, token_type_ids_list, label_list)).map(map_example_to_dict)\n",
        "\n",
        "\n",
        "train_data = encode_examples(ds_train).             \\\n",
        "                shuffle(train_shuffle_buffer_size). \\\n",
        "                batch(batch_size).                  \\\n",
        "                prefetch(buffer_size=100)\n",
        "\n",
        "validation_data = encode_examples(ds_validation).            \\\n",
        "                    shuffle(validation_shuffle_buffer_size). \\\n",
        "                    batch(batch_size).                       \\\n",
        "                    prefetch(buffer_size=100)\n",
        "\n",
        "\n",
        "print(\"train_data\", train_data)\n",
        "print(\"validation_data\", validation_data)"
      ],
      "execution_count": 99,
      "outputs": [
        {
          "output_type": "stream",
          "text": [
            "train_data <PrefetchDataset shapes: ({input_ids: (None, 15), token_type_ids: (None, 15), attention_mask: (None, 15)}, (None, 1, 3)), types: ({input_ids: tf.int32, token_type_ids: tf.int32, attention_mask: tf.int32}, tf.int32)>\n",
            "validation_data <PrefetchDataset shapes: ({input_ids: (None, 15), token_type_ids: (None, 15), attention_mask: (None, 15)}, (None, 1, 3)), types: ({input_ids: tf.int32, token_type_ids: tf.int32, attention_mask: tf.int32}, tf.int32)>\n"
          ],
          "name": "stdout"
        }
      ]
    },
    {
      "cell_type": "markdown",
      "metadata": {
        "id": "-5Azr2qehjcL"
      },
      "source": [
        "Your train and validation dataset should look something like this\n",
        "```\n",
        "print(\"train_data\",train_data)\n",
        "print(\"validation_data\",validation_data)\n",
        "\n",
        "train_data <PrefetchDataset shapes: ({input_ids: (None, 256), token_type_ids: (None, 256), attention_mask: (None, 256)}, (None, 3)), types: ({input_ids: tf.int32, token_type_ids: tf.int32, attention_mask: tf.int32}, tf.int32)>\n",
        "validation_data <PrefetchDataset shapes: ({input_ids: (None, 256), token_type_ids: (None, 256), attention_mask: (None, 256)}, (None, 3)), types: ({input_ids: tf.int32, token_type_ids: tf.int32, attention_mask: tf.int32}, tf.int32)>\n",
        "```"
      ]
    },
    {
      "cell_type": "markdown",
      "metadata": {
        "id": "VitkmfJsDJY7"
      },
      "source": [
        "#### b) BERT for Sequence Classification\n",
        "\n",
        "- Build a model using `TFBertForSequenceClassification` from the `transformers` package from Hugging Face\n",
        "- Load the pre-trained weights using `bert-base-uncased` make sure to pass the argument `num_labels`\n",
        "- Train your model\n",
        "- Ensure there is a plot of your training history"
      ]
    },
    {
      "cell_type": "code",
      "metadata": {
        "id": "1U4u9xmOXmD7"
      },
      "source": [
        "############################\n",
        "# Training Params\n",
        "############################\n",
        "learning_rate = 2e-5 # Try 5e-5, 3e-5, 2e-5\n",
        "epochs = 5\n",
        "\n",
        "# Free up memory\n",
        "K.clear_session()\n",
        "\n",
        "# Build BERT model\n",
        "model = TFBertForSequenceClassification.from_pretrained('bert-base-uncased')\n",
        "\n",
        "# Optimizer\n",
        "optimizer = optimizers.Adam(lr=learning_rate, epsilon=1e-08)\n",
        "\n",
        "# Loss\n",
        "loss = tf.keras.losses.SparseCategoricalCrossentropy(from_logits=True)\n",
        "\n",
        "# Compile\n",
        "\n",
        "metric = tf.keras.metrics.SparseCategoricalAccuracy('accuracy')\n",
        "model.compile(optimizer='adam', loss='categorical_crossentropy', metrics=[metric])\n",
        "\n",
        "# Train model\n",
        "bert_history = model.fit(train_data, epochs=epochs, validation_data=validation_data)\n",
        "\n",
        "# Evaluate Model"
      ],
      "execution_count": null,
      "outputs": []
    },
    {
      "cell_type": "markdown",
      "metadata": {
        "id": "-RRozUGMYutx"
      },
      "source": [
        "#### c) Classification Results\n",
        "\n",
        "- What was your validation accuracy?\n",
        "- It should be more that 95%\n",
        "\n",
        "the accuracy is around 96%, but i have poked around a few places to try to improve the accuracy, but it seems that the it has been limited by the size of the matrix. \n",
        "\n",
        "If I were to increase the size of the model to a more advanced or newer model, such as RoBERT or XLnet, I can probably better accurancy. \n"
      ]
    },
    {
      "cell_type": "markdown",
      "metadata": {
        "id": "s_Z4eB2-B2k5"
      },
      "source": [
        "---\n",
        "## Question 2 : Conceptual (2.0 Points)\n"
      ]
    },
    {
      "cell_type": "markdown",
      "metadata": {
        "id": "VkPkjEEYB7ls"
      },
      "source": [
        "#### a) How does the encoder-decoder structure work for language modelling?\n"
      ]
    },
    {
      "cell_type": "markdown",
      "metadata": {
        "id": "mv_wB17JCSmS"
      },
      "source": [
        "*Your answer here*\n",
        "\n",
        "Encoder-decoder architecture has 2 components.\n",
        "\n",
        "The first component is an encoder: it takes a variable-length sequence as the input and transforms it into a state with a fixed shape. The second component is a decoder: it maps the encoded state of a fixed shape to a variable-length sequence. \n",
        "\n",
        "The encoder-decoder architecture can handle inputs and outputs that are both variable-length sequences, thus is suitable for sequence transduction problems such as machine translation."
      ]
    },
    {
      "cell_type": "markdown",
      "metadata": {
        "id": "Z7bQJ8M8CSvX"
      },
      "source": [
        "\n",
        "#### b) Explain in your own words what is the attention mechanism. Why do State of the art models use this concept?"
      ]
    },
    {
      "cell_type": "markdown",
      "metadata": {
        "id": "B0667seiCWwO"
      },
      "source": [
        "*Your answer here*\n",
        "\n",
        "The basic idea of attention is this: each time the model predicts an output word, it only uses parts of an input where the most relevant information is concentrated instead of an entire sentence. In other words, it only pays attention to some input words. "
      ]
    },
    {
      "cell_type": "markdown",
      "metadata": {
        "id": "J6zhU_TWCW6a"
      },
      "source": [
        "#### c) What is the biggest benefit of transformers compared to seqtoseq models?"
      ]
    },
    {
      "cell_type": "markdown",
      "metadata": {
        "id": "nRBrVqCMCY17"
      },
      "source": [
        "*Your answer here*\n",
        "\n",
        "the answers lies in \"Attention Is All You Need\". Self-attention provides a powerful mechanism to train the model by the context of the words and label a word by the words that is preceding it and after it. \n",
        "\n",
        "Transformer architecture solves the limitation casued by seq2seq's sequential nature and enables long-range dependencies, so that a word can be directly correlated to words that are quite far away from it. \n",
        "\n",
        "Transformer eschews conventional network constructs while still outperforming existing systems."
      ]
    },
    {
      "cell_type": "markdown",
      "metadata": {
        "id": "HksuGmznCZGp"
      },
      "source": [
        "#### d) Explain in your own words what the positional encoder is and why it is needed?"
      ]
    },
    {
      "cell_type": "markdown",
      "metadata": {
        "id": "yZmB3mNiChMY"
      },
      "source": [
        "*Your answer here*\n",
        "\n",
        "As each word in a sentence simultaneously flows through the Transformer’s encoder/decoder stack, The model itself doesn’t have any sense of position/order for each word. Consequently, there’s still the need for a way to incorporate the order of the words into our model.\n",
        "\n",
        "This is where positional encoding comes in. it provides a vector with a clear sin and cos value to indicate the position of the words."
      ]
    },
    {
      "cell_type": "code",
      "metadata": {
        "id": "l7lPYmjsu634"
      },
      "source": [
        ""
      ],
      "execution_count": null,
      "outputs": []
    }
  ]
}